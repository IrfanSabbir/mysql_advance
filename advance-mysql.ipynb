{
    "metadata": {
        "kernelspec": {
            "name": "SQL",
            "display_name": "SQL",
            "language": "sql"
        },
        "language_info": {
            "name": "sql",
            "version": ""
        }
    },
    "nbformat_minor": 2,
    "nbformat": 4,
    "cells": [
        {
            "cell_type": "code",
            "source": [
                "-- DISTINCT\n",
                "\n",
                "SELECT DISTINCT city, state FROM customers where state is not NULL\n",
                ""
            ],
            "metadata": {
                "azdata_cell_guid": "bc412860-ebb3-4d40-b074-20bb42ddfd81",
                "language": "sql"
            },
            "outputs": [
                {
                    "output_type": "display_data",
                    "data": {
                        "text/html": "(37 row(s) affected)"
                    },
                    "metadata": {}
                },
                {
                    "output_type": "display_data",
                    "data": {
                        "text/html": "Total execution time: 00:00:01.005"
                    },
                    "metadata": {}
                },
                {
                    "output_type": "execute_result",
                    "execution_count": 17,
                    "data": {
                        "application/vnd.dataresource+json": {
                            "schema": {
                                "fields": [
                                    {
                                        "name": "city"
                                    },
                                    {
                                        "name": "state"
                                    }
                                ]
                            },
                            "data": [
                                {
                                    "city": "Las Vegas",
                                    "state": "NV"
                                },
                                {
                                    "city": "Melbourne",
                                    "state": "Victoria"
                                },
                                {
                                    "city": "San Rafael",
                                    "state": "CA"
                                },
                                {
                                    "city": "San Francisco",
                                    "state": "CA"
                                },
                                {
                                    "city": "NYC",
                                    "state": "NY"
                                },
                                {
                                    "city": "Allentown",
                                    "state": "PA"
                                },
                                {
                                    "city": "Burlingame",
                                    "state": "CA"
                                },
                                {
                                    "city": "New Haven",
                                    "state": "CT"
                                },
                                {
                                    "city": "Cambridge",
                                    "state": "MA"
                                },
                                {
                                    "city": "Bridgewater",
                                    "state": "CT"
                                },
                                {
                                    "city": "Kita-ku",
                                    "state": "Osaka"
                                },
                                {
                                    "city": "Brickhaven",
                                    "state": "MA"
                                },
                                {
                                    "city": "Vancouver",
                                    "state": "BC"
                                },
                                {
                                    "city": "Pasadena",
                                    "state": "CA"
                                },
                                {
                                    "city": "Glendale",
                                    "state": "CA"
                                },
                                {
                                    "city": "Montréal",
                                    "state": "Québec"
                                },
                                {
                                    "city": "San Diego",
                                    "state": "CA"
                                },
                                {
                                    "city": "Cowes",
                                    "state": "Isle of Wight"
                                },
                                {
                                    "city": "Tsawassen",
                                    "state": "BC"
                                },
                                {
                                    "city": "North Sydney",
                                    "state": "NSW"
                                },
                                {
                                    "city": "Chatswood",
                                    "state": "NSW"
                                },
                                {
                                    "city": "White Plains",
                                    "state": "NY"
                                },
                                {
                                    "city": "New Bedford",
                                    "state": "MA"
                                },
                                {
                                    "city": "Newark",
                                    "state": "NJ"
                                },
                                {
                                    "city": "South Brisbane",
                                    "state": "Queensland"
                                },
                                {
                                    "city": "Philadelphia",
                                    "state": "PA"
                                },
                                {
                                    "city": "Los Angeles",
                                    "state": "CA"
                                },
                                {
                                    "city": "Cork",
                                    "state": "Co. Cork"
                                },
                                {
                                    "city": "Hatfield",
                                    "state": "Pretoria"
                                },
                                {
                                    "city": "Boston",
                                    "state": "MA"
                                },
                                {
                                    "city": "Nashua",
                                    "state": "NH"
                                },
                                {
                                    "city": "Minato-ku",
                                    "state": "Tokyo"
                                },
                                {
                                    "city": "Glendale",
                                    "state": "CT"
                                },
                                {
                                    "city": "San Jose",
                                    "state": "CA"
                                },
                                {
                                    "city": "Glen Waverly",
                                    "state": "Victoria"
                                },
                                {
                                    "city": "Burbank",
                                    "state": "CA"
                                },
                                {
                                    "city": "Brisbane",
                                    "state": "CA"
                                }
                            ]
                        },
                        "text/html": "<table><tr><th>city</th><th>state</th></tr><tr><td>Las Vegas</td><td>NV</td></tr><tr><td>Melbourne</td><td>Victoria</td></tr><tr><td>San Rafael</td><td>CA</td></tr><tr><td>San Francisco</td><td>CA</td></tr><tr><td>NYC</td><td>NY</td></tr><tr><td>Allentown</td><td>PA</td></tr><tr><td>Burlingame</td><td>CA</td></tr><tr><td>New Haven</td><td>CT</td></tr><tr><td>Cambridge</td><td>MA</td></tr><tr><td>Bridgewater</td><td>CT</td></tr><tr><td>Kita-ku</td><td>Osaka</td></tr><tr><td>Brickhaven</td><td>MA</td></tr><tr><td>Vancouver</td><td>BC</td></tr><tr><td>Pasadena</td><td>CA</td></tr><tr><td>Glendale</td><td>CA</td></tr><tr><td>Montréal</td><td>Québec</td></tr><tr><td>San Diego</td><td>CA</td></tr><tr><td>Cowes</td><td>Isle of Wight</td></tr><tr><td>Tsawassen</td><td>BC</td></tr><tr><td>North Sydney</td><td>NSW</td></tr><tr><td>Chatswood</td><td>NSW</td></tr><tr><td>White Plains</td><td>NY</td></tr><tr><td>New Bedford</td><td>MA</td></tr><tr><td>Newark</td><td>NJ</td></tr><tr><td>South Brisbane</td><td>Queensland</td></tr><tr><td>Philadelphia</td><td>PA</td></tr><tr><td>Los Angeles</td><td>CA</td></tr><tr><td>Cork</td><td>Co. Cork</td></tr><tr><td>Hatfield</td><td>Pretoria</td></tr><tr><td>Boston</td><td>MA</td></tr><tr><td>Nashua</td><td>NH</td></tr><tr><td>Minato-ku</td><td>Tokyo</td></tr><tr><td>Glendale</td><td>CT</td></tr><tr><td>San Jose</td><td>CA</td></tr><tr><td>Glen Waverly</td><td>Victoria</td></tr><tr><td>Burbank</td><td>CA</td></tr><tr><td>Brisbane</td><td>CA</td></tr></table>"
                    },
                    "metadata": {}
                }
            ],
            "execution_count": 17
        },
        {
            "cell_type": "code",
            "source": [
                "-- Self join\n",
                "\n",
                "SELECT\n",
                "     e.employeeNumber, \n",
                "     CONCAT(e.firstName, ' ', e.lastName) AS employeeName,\n",
                "     COALESCE(CONCAT(manager.firstName, ' ', manager.lastName), \"Top manager\") AS managerName\n",
                "    FROM employees AS e\n",
                "    LEFT JOIN employees AS manager\n",
                "        ON e.reportsTo = manager.employeeNumber\n",
                ""
            ],
            "metadata": {
                "language": "sql",
                "azdata_cell_guid": "5b91fe9b-490c-46c9-aceb-dc0d6f8dbe92"
            },
            "outputs": [
                {
                    "output_type": "display_data",
                    "data": {
                        "text/html": "(23 row(s) affected)"
                    },
                    "metadata": {}
                },
                {
                    "output_type": "display_data",
                    "data": {
                        "text/html": "Total execution time: 00:00:01.007"
                    },
                    "metadata": {}
                },
                {
                    "output_type": "execute_result",
                    "execution_count": 37,
                    "data": {
                        "application/vnd.dataresource+json": {
                            "schema": {
                                "fields": [
                                    {
                                        "name": "employeeNumber"
                                    },
                                    {
                                        "name": "employeeName"
                                    },
                                    {
                                        "name": "managerName"
                                    }
                                ]
                            },
                            "data": [
                                {
                                    "employeeNumber": "1002",
                                    "employeeName": "Diane Murphy",
                                    "managerName": "Top manager"
                                },
                                {
                                    "employeeNumber": "1056",
                                    "employeeName": "Mary Patterson",
                                    "managerName": "Diane Murphy"
                                },
                                {
                                    "employeeNumber": "1076",
                                    "employeeName": "Jeff Firrelli",
                                    "managerName": "Diane Murphy"
                                },
                                {
                                    "employeeNumber": "1088",
                                    "employeeName": "William Patterson",
                                    "managerName": "Mary Patterson"
                                },
                                {
                                    "employeeNumber": "1102",
                                    "employeeName": "Gerard Bondur",
                                    "managerName": "Mary Patterson"
                                },
                                {
                                    "employeeNumber": "1143",
                                    "employeeName": "Anthony Bow",
                                    "managerName": "Mary Patterson"
                                },
                                {
                                    "employeeNumber": "1165",
                                    "employeeName": "Leslie Jennings",
                                    "managerName": "Anthony Bow"
                                },
                                {
                                    "employeeNumber": "1166",
                                    "employeeName": "Leslie Thompson",
                                    "managerName": "Anthony Bow"
                                },
                                {
                                    "employeeNumber": "1188",
                                    "employeeName": "Julie Firrelli",
                                    "managerName": "Anthony Bow"
                                },
                                {
                                    "employeeNumber": "1216",
                                    "employeeName": "Steve Patterson",
                                    "managerName": "Anthony Bow"
                                },
                                {
                                    "employeeNumber": "1286",
                                    "employeeName": "Foon Yue Tseng",
                                    "managerName": "Anthony Bow"
                                },
                                {
                                    "employeeNumber": "1323",
                                    "employeeName": "George Vanauf",
                                    "managerName": "Anthony Bow"
                                },
                                {
                                    "employeeNumber": "1337",
                                    "employeeName": "Loui Bondur",
                                    "managerName": "Gerard Bondur"
                                },
                                {
                                    "employeeNumber": "1370",
                                    "employeeName": "Gerard Hernandez",
                                    "managerName": "Gerard Bondur"
                                },
                                {
                                    "employeeNumber": "1401",
                                    "employeeName": "Pamela Castillo",
                                    "managerName": "Gerard Bondur"
                                },
                                {
                                    "employeeNumber": "1501",
                                    "employeeName": "Larry Bott",
                                    "managerName": "Gerard Bondur"
                                },
                                {
                                    "employeeNumber": "1504",
                                    "employeeName": "Barry Jones",
                                    "managerName": "Gerard Bondur"
                                },
                                {
                                    "employeeNumber": "1611",
                                    "employeeName": "Andy Fixter",
                                    "managerName": "William Patterson"
                                },
                                {
                                    "employeeNumber": "1612",
                                    "employeeName": "Peter Marsh",
                                    "managerName": "William Patterson"
                                },
                                {
                                    "employeeNumber": "1619",
                                    "employeeName": "Tom King",
                                    "managerName": "William Patterson"
                                },
                                {
                                    "employeeNumber": "1621",
                                    "employeeName": "Mami Nishi",
                                    "managerName": "Mary Patterson"
                                },
                                {
                                    "employeeNumber": "1625",
                                    "employeeName": "Yoshimi Kato",
                                    "managerName": "Mami Nishi"
                                },
                                {
                                    "employeeNumber": "1702",
                                    "employeeName": "Martin Gerard",
                                    "managerName": "Gerard Bondur"
                                }
                            ]
                        },
                        "text/html": "<table><tr><th>employeeNumber</th><th>employeeName</th><th>managerName</th></tr><tr><td>1002</td><td>Diane Murphy</td><td>Top manager</td></tr><tr><td>1056</td><td>Mary Patterson</td><td>Diane Murphy</td></tr><tr><td>1076</td><td>Jeff Firrelli</td><td>Diane Murphy</td></tr><tr><td>1088</td><td>William Patterson</td><td>Mary Patterson</td></tr><tr><td>1102</td><td>Gerard Bondur</td><td>Mary Patterson</td></tr><tr><td>1143</td><td>Anthony Bow</td><td>Mary Patterson</td></tr><tr><td>1165</td><td>Leslie Jennings</td><td>Anthony Bow</td></tr><tr><td>1166</td><td>Leslie Thompson</td><td>Anthony Bow</td></tr><tr><td>1188</td><td>Julie Firrelli</td><td>Anthony Bow</td></tr><tr><td>1216</td><td>Steve Patterson</td><td>Anthony Bow</td></tr><tr><td>1286</td><td>Foon Yue Tseng</td><td>Anthony Bow</td></tr><tr><td>1323</td><td>George Vanauf</td><td>Anthony Bow</td></tr><tr><td>1337</td><td>Loui Bondur</td><td>Gerard Bondur</td></tr><tr><td>1370</td><td>Gerard Hernandez</td><td>Gerard Bondur</td></tr><tr><td>1401</td><td>Pamela Castillo</td><td>Gerard Bondur</td></tr><tr><td>1501</td><td>Larry Bott</td><td>Gerard Bondur</td></tr><tr><td>1504</td><td>Barry Jones</td><td>Gerard Bondur</td></tr><tr><td>1611</td><td>Andy Fixter</td><td>William Patterson</td></tr><tr><td>1612</td><td>Peter Marsh</td><td>William Patterson</td></tr><tr><td>1619</td><td>Tom King</td><td>William Patterson</td></tr><tr><td>1621</td><td>Mami Nishi</td><td>Mary Patterson</td></tr><tr><td>1625</td><td>Yoshimi Kato</td><td>Mami Nishi</td></tr><tr><td>1702</td><td>Martin Gerard</td><td>Gerard Bondur</td></tr></table>"
                    },
                    "metadata": {}
                }
            ],
            "execution_count": 37
        },
        {
            "cell_type": "code",
            "source": [
                "-- window FUNCTION\n",
                "-- Return each state wise total to the each customer rows\n",
                "\n",
                "SELECT c.customerName,\n",
                "    c.city, c.state, \n",
                "    SUM(p.amount) OVER() AS total_profit,\n",
                "    SUM(p.amount) over(PARTITION by  c.state) as total_amount,\n",
                "    ROUND(AVG(p.amount) over(PARTITION by  c.state), 2) as average_amount\n",
                "FROM customers as c\n",
                "INNER JOIN payments p\n",
                "    ON c.customerNumber = p.customerNumber\n",
                "WHERE c.state IS NOT NULL\n",
                "ORDER BY c.state ASC"
            ],
            "metadata": {
                "azdata_cell_guid": "e7a93a93-43b8-42e7-98e3-80ee0479f307",
                "language": "sql"
            },
            "outputs": [
                {
                    "output_type": "display_data",
                    "data": {
                        "text/html": "(124 row(s) affected)"
                    },
                    "metadata": {}
                },
                {
                    "output_type": "display_data",
                    "data": {
                        "text/html": "Total execution time: 00:00:01.014"
                    },
                    "metadata": {}
                },
                {
                    "output_type": "execute_result",
                    "execution_count": 40,
                    "data": {
                        "application/vnd.dataresource+json": {
                            "schema": {
                                "fields": [
                                    {
                                        "name": "customerName"
                                    },
                                    {
                                        "name": "city"
                                    },
                                    {
                                        "name": "state"
                                    },
                                    {
                                        "name": "total_profit"
                                    },
                                    {
                                        "name": "total_amount"
                                    },
                                    {
                                        "name": "average_amount"
                                    }
                                ]
                            },
                            "data": [
                                {
                                    "customerName": "Canadian Gift Exchange Network",
                                    "city": "Vancouver",
                                    "state": "BC",
                                    "total_profit": "3995020.90",
                                    "total_amount": "136934.19",
                                    "average_amount": "34233.55"
                                },
                                {
                                    "customerName": "Canadian Gift Exchange Network",
                                    "city": "Vancouver",
                                    "state": "BC",
                                    "total_profit": "3995020.90",
                                    "total_amount": "136934.19",
                                    "average_amount": "34233.55"
                                },
                                {
                                    "customerName": "Royal Canadian Collectables, Ltd.",
                                    "city": "Tsawassen",
                                    "state": "BC",
                                    "total_profit": "3995020.90",
                                    "total_amount": "136934.19",
                                    "average_amount": "34233.55"
                                },
                                {
                                    "customerName": "Royal Canadian Collectables, Ltd.",
                                    "city": "Tsawassen",
                                    "state": "BC",
                                    "total_profit": "3995020.90",
                                    "total_amount": "136934.19",
                                    "average_amount": "34233.55"
                                },
                                {
                                    "customerName": "Toys4GrownUps.com",
                                    "city": "Pasadena",
                                    "state": "CA",
                                    "total_profit": "3995020.90",
                                    "total_amount": "1257258.60",
                                    "average_amount": "40556.73"
                                },
                                {
                                    "customerName": "Mini Gifts Distributors Ltd.",
                                    "city": "San Rafael",
                                    "state": "CA",
                                    "total_profit": "3995020.90",
                                    "total_amount": "1257258.60",
                                    "average_amount": "40556.73"
                                },
                                {
                                    "customerName": "Signal Collectibles Ltd.",
                                    "city": "Brisbane",
                                    "state": "CA",
                                    "total_profit": "3995020.90",
                                    "total_amount": "1257258.60",
                                    "average_amount": "40556.73"
                                },
                                {
                                    "customerName": "Signal Collectibles Ltd.",
                                    "city": "Brisbane",
                                    "state": "CA",
                                    "total_profit": "3995020.90",
                                    "total_amount": "1257258.60",
                                    "average_amount": "40556.73"
                                },
                                {
                                    "customerName": "West Coast Collectables Co.",
                                    "city": "Burbank",
                                    "state": "CA",
                                    "total_profit": "3995020.90",
                                    "total_amount": "1257258.60",
                                    "average_amount": "40556.73"
                                },
                                {
                                    "customerName": "West Coast Collectables Co.",
                                    "city": "Burbank",
                                    "state": "CA",
                                    "total_profit": "3995020.90",
                                    "total_amount": "1257258.60",
                                    "average_amount": "40556.73"
                                },
                                {
                                    "customerName": "Mini Gifts Distributors Ltd.",
                                    "city": "San Rafael",
                                    "state": "CA",
                                    "total_profit": "3995020.90",
                                    "total_amount": "1257258.60",
                                    "average_amount": "40556.73"
                                },
                                {
                                    "customerName": "Mini Gifts Distributors Ltd.",
                                    "city": "San Rafael",
                                    "state": "CA",
                                    "total_profit": "3995020.90",
                                    "total_amount": "1257258.60",
                                    "average_amount": "40556.73"
                                },
                                {
                                    "customerName": "Mini Gifts Distributors Ltd.",
                                    "city": "San Rafael",
                                    "state": "CA",
                                    "total_profit": "3995020.90",
                                    "total_amount": "1257258.60",
                                    "average_amount": "40556.73"
                                },
                                {
                                    "customerName": "Mini Gifts Distributors Ltd.",
                                    "city": "San Rafael",
                                    "state": "CA",
                                    "total_profit": "3995020.90",
                                    "total_amount": "1257258.60",
                                    "average_amount": "40556.73"
                                },
                                {
                                    "customerName": "Mini Gifts Distributors Ltd.",
                                    "city": "San Rafael",
                                    "state": "CA",
                                    "total_profit": "3995020.90",
                                    "total_amount": "1257258.60",
                                    "average_amount": "40556.73"
                                },
                                {
                                    "customerName": "Mini Gifts Distributors Ltd.",
                                    "city": "San Rafael",
                                    "state": "CA",
                                    "total_profit": "3995020.90",
                                    "total_amount": "1257258.60",
                                    "average_amount": "40556.73"
                                },
                                {
                                    "customerName": "Mini Gifts Distributors Ltd.",
                                    "city": "San Rafael",
                                    "state": "CA",
                                    "total_profit": "3995020.90",
                                    "total_amount": "1257258.60",
                                    "average_amount": "40556.73"
                                },
                                {
                                    "customerName": "Mini Wheels Co.",
                                    "city": "San Francisco",
                                    "state": "CA",
                                    "total_profit": "3995020.90",
                                    "total_amount": "1257258.60",
                                    "average_amount": "40556.73"
                                },
                                {
                                    "customerName": "Mini Wheels Co.",
                                    "city": "San Francisco",
                                    "state": "CA",
                                    "total_profit": "3995020.90",
                                    "total_amount": "1257258.60",
                                    "average_amount": "40556.73"
                                },
                                {
                                    "customerName": "Mini Gifts Distributors Ltd.",
                                    "city": "San Rafael",
                                    "state": "CA",
                                    "total_profit": "3995020.90",
                                    "total_amount": "1257258.60",
                                    "average_amount": "40556.73"
                                },
                                {
                                    "customerName": "Toys4GrownUps.com",
                                    "city": "Pasadena",
                                    "state": "CA",
                                    "total_profit": "3995020.90",
                                    "total_amount": "1257258.60",
                                    "average_amount": "40556.73"
                                },
                                {
                                    "customerName": "Mini Wheels Co.",
                                    "city": "San Francisco",
                                    "state": "CA",
                                    "total_profit": "3995020.90",
                                    "total_amount": "1257258.60",
                                    "average_amount": "40556.73"
                                },
                                {
                                    "customerName": "Boards & Toys Co.",
                                    "city": "Glendale",
                                    "state": "CA",
                                    "total_profit": "3995020.90",
                                    "total_amount": "1257258.60",
                                    "average_amount": "40556.73"
                                },
                                {
                                    "customerName": "Corporate Gift Ideas Co.",
                                    "city": "San Francisco",
                                    "state": "CA",
                                    "total_profit": "3995020.90",
                                    "total_amount": "1257258.60",
                                    "average_amount": "40556.73"
                                },
                                {
                                    "customerName": "Boards & Toys Co.",
                                    "city": "Glendale",
                                    "state": "CA",
                                    "total_profit": "3995020.90",
                                    "total_amount": "1257258.60",
                                    "average_amount": "40556.73"
                                },
                                {
                                    "customerName": "The Sharp Gifts Warehouse",
                                    "city": "San Jose",
                                    "state": "CA",
                                    "total_profit": "3995020.90",
                                    "total_amount": "1257258.60",
                                    "average_amount": "40556.73"
                                },
                                {
                                    "customerName": "Collectable Mini Designs Co.",
                                    "city": "San Diego",
                                    "state": "CA",
                                    "total_profit": "3995020.90",
                                    "total_amount": "1257258.60",
                                    "average_amount": "40556.73"
                                },
                                {
                                    "customerName": "Toys4GrownUps.com",
                                    "city": "Pasadena",
                                    "state": "CA",
                                    "total_profit": "3995020.90",
                                    "total_amount": "1257258.60",
                                    "average_amount": "40556.73"
                                },
                                {
                                    "customerName": "Technics Stores Inc.",
                                    "city": "Burlingame",
                                    "state": "CA",
                                    "total_profit": "3995020.90",
                                    "total_amount": "1257258.60",
                                    "average_amount": "40556.73"
                                },
                                {
                                    "customerName": "Technics Stores Inc.",
                                    "city": "Burlingame",
                                    "state": "CA",
                                    "total_profit": "3995020.90",
                                    "total_amount": "1257258.60",
                                    "average_amount": "40556.73"
                                },
                                {
                                    "customerName": "Technics Stores Inc.",
                                    "city": "Burlingame",
                                    "state": "CA",
                                    "total_profit": "3995020.90",
                                    "total_amount": "1257258.60",
                                    "average_amount": "40556.73"
                                },
                                {
                                    "customerName": "Technics Stores Inc.",
                                    "city": "Burlingame",
                                    "state": "CA",
                                    "total_profit": "3995020.90",
                                    "total_amount": "1257258.60",
                                    "average_amount": "40556.73"
                                },
                                {
                                    "customerName": "Corporate Gift Ideas Co.",
                                    "city": "San Francisco",
                                    "state": "CA",
                                    "total_profit": "3995020.90",
                                    "total_amount": "1257258.60",
                                    "average_amount": "40556.73"
                                },
                                {
                                    "customerName": "Men 'R' US Retailers, Ltd.",
                                    "city": "Los Angeles",
                                    "state": "CA",
                                    "total_profit": "3995020.90",
                                    "total_amount": "1257258.60",
                                    "average_amount": "40556.73"
                                },
                                {
                                    "customerName": "Men 'R' US Retailers, Ltd.",
                                    "city": "Los Angeles",
                                    "state": "CA",
                                    "total_profit": "3995020.90",
                                    "total_amount": "1257258.60",
                                    "average_amount": "40556.73"
                                },
                                {
                                    "customerName": "Super Scale Inc.",
                                    "city": "New Haven",
                                    "state": "CT",
                                    "total_profit": "3995020.90",
                                    "total_amount": "215771.06",
                                    "average_amount": "26971.38"
                                },
                                {
                                    "customerName": "Super Scale Inc.",
                                    "city": "New Haven",
                                    "state": "CT",
                                    "total_profit": "3995020.90",
                                    "total_amount": "215771.06",
                                    "average_amount": "26971.38"
                                },
                                {
                                    "customerName": "Gift Depot Inc.",
                                    "city": "Bridgewater",
                                    "state": "CT",
                                    "total_profit": "3995020.90",
                                    "total_amount": "215771.06",
                                    "average_amount": "26971.38"
                                },
                                {
                                    "customerName": "Gift Ideas Corp.",
                                    "city": "Glendale",
                                    "state": "CT",
                                    "total_profit": "3995020.90",
                                    "total_amount": "215771.06",
                                    "average_amount": "26971.38"
                                },
                                {
                                    "customerName": "Gift Depot Inc.",
                                    "city": "Bridgewater",
                                    "state": "CT",
                                    "total_profit": "3995020.90",
                                    "total_amount": "215771.06",
                                    "average_amount": "26971.38"
                                },
                                {
                                    "customerName": "Gift Depot Inc.",
                                    "city": "Bridgewater",
                                    "state": "CT",
                                    "total_profit": "3995020.90",
                                    "total_amount": "215771.06",
                                    "average_amount": "26971.38"
                                },
                                {
                                    "customerName": "Gift Ideas Corp.",
                                    "city": "Glendale",
                                    "state": "CT",
                                    "total_profit": "3995020.90",
                                    "total_amount": "215771.06",
                                    "average_amount": "26971.38"
                                },
                                {
                                    "customerName": "Gift Ideas Corp.",
                                    "city": "Glendale",
                                    "state": "CT",
                                    "total_profit": "3995020.90",
                                    "total_amount": "215771.06",
                                    "average_amount": "26971.38"
                                },
                                {
                                    "customerName": "giftsbymail.co.uk",
                                    "city": "Cowes",
                                    "state": "Isle of Wight",
                                    "total_profit": "3995020.90",
                                    "total_amount": "71783.75",
                                    "average_amount": "35891.88"
                                },
                                {
                                    "customerName": "giftsbymail.co.uk",
                                    "city": "Cowes",
                                    "state": "Isle of Wight",
                                    "total_profit": "3995020.90",
                                    "total_amount": "71783.75",
                                    "average_amount": "35891.88"
                                },
                                {
                                    "customerName": "FunGiftIdeas.com",
                                    "city": "New Bedford",
                                    "state": "MA",
                                    "total_profit": "3995020.90",
                                    "total_amount": "562984.45",
                                    "average_amount": "25590.20"
                                },
                                {
                                    "customerName": "FunGiftIdeas.com",
                                    "city": "New Bedford",
                                    "state": "MA",
                                    "total_profit": "3995020.90",
                                    "total_amount": "562984.45",
                                    "average_amount": "25590.20"
                                },
                                {
                                    "customerName": "Cambridge Collectables Co.",
                                    "city": "Cambridge",
                                    "state": "MA",
                                    "total_profit": "3995020.90",
                                    "total_amount": "562984.45",
                                    "average_amount": "25590.20"
                                },
                                {
                                    "customerName": "Cambridge Collectables Co.",
                                    "city": "Cambridge",
                                    "state": "MA",
                                    "total_profit": "3995020.90",
                                    "total_amount": "562984.45",
                                    "average_amount": "25590.20"
                                },
                                {
                                    "customerName": "Collectables For Less Inc.",
                                    "city": "Brickhaven",
                                    "state": "MA",
                                    "total_profit": "3995020.90",
                                    "total_amount": "562984.45",
                                    "average_amount": "25590.20"
                                },
                                {
                                    "customerName": "Collectables For Less Inc.",
                                    "city": "Brickhaven",
                                    "state": "MA",
                                    "total_profit": "3995020.90",
                                    "total_amount": "562984.45",
                                    "average_amount": "25590.20"
                                },
                                {
                                    "customerName": "Collectables For Less Inc.",
                                    "city": "Brickhaven",
                                    "state": "MA",
                                    "total_profit": "3995020.90",
                                    "total_amount": "562984.45",
                                    "average_amount": "25590.20"
                                },
                                {
                                    "customerName": "Auto-Moto Classics Inc.",
                                    "city": "Brickhaven",
                                    "state": "MA",
                                    "total_profit": "3995020.90",
                                    "total_amount": "562984.45",
                                    "average_amount": "25590.20"
                                },
                                {
                                    "customerName": "Auto-Moto Classics Inc.",
                                    "city": "Brickhaven",
                                    "state": "MA",
                                    "total_profit": "3995020.90",
                                    "total_amount": "562984.45",
                                    "average_amount": "25590.20"
                                },
                                {
                                    "customerName": "Auto-Moto Classics Inc.",
                                    "city": "Brickhaven",
                                    "state": "MA",
                                    "total_profit": "3995020.90",
                                    "total_amount": "562984.45",
                                    "average_amount": "25590.20"
                                },
                                {
                                    "customerName": "Online Mini Collectables",
                                    "city": "Brickhaven",
                                    "state": "MA",
                                    "total_profit": "3995020.90",
                                    "total_amount": "562984.45",
                                    "average_amount": "25590.20"
                                },
                                {
                                    "customerName": "Diecast Collectables",
                                    "city": "Boston",
                                    "state": "MA",
                                    "total_profit": "3995020.90",
                                    "total_amount": "562984.45",
                                    "average_amount": "25590.20"
                                },
                                {
                                    "customerName": "FunGiftIdeas.com",
                                    "city": "New Bedford",
                                    "state": "MA",
                                    "total_profit": "3995020.90",
                                    "total_amount": "562984.45",
                                    "average_amount": "25590.20"
                                },
                                {
                                    "customerName": "Mini Creations Ltd.",
                                    "city": "New Bedford",
                                    "state": "MA",
                                    "total_profit": "3995020.90",
                                    "total_amount": "562984.45",
                                    "average_amount": "25590.20"
                                },
                                {
                                    "customerName": "Gifts4AllAges.com",
                                    "city": "Boston",
                                    "state": "MA",
                                    "total_profit": "3995020.90",
                                    "total_amount": "562984.45",
                                    "average_amount": "25590.20"
                                },
                                {
                                    "customerName": "Gifts4AllAges.com",
                                    "city": "Boston",
                                    "state": "MA",
                                    "total_profit": "3995020.90",
                                    "total_amount": "562984.45",
                                    "average_amount": "25590.20"
                                },
                                {
                                    "customerName": "Mini Creations Ltd.",
                                    "city": "New Bedford",
                                    "state": "MA",
                                    "total_profit": "3995020.90",
                                    "total_amount": "562984.45",
                                    "average_amount": "25590.20"
                                },
                                {
                                    "customerName": "Marta's Replicas Co.",
                                    "city": "Cambridge",
                                    "state": "MA",
                                    "total_profit": "3995020.90",
                                    "total_amount": "562984.45",
                                    "average_amount": "25590.20"
                                },
                                {
                                    "customerName": "Mini Creations Ltd.",
                                    "city": "New Bedford",
                                    "state": "MA",
                                    "total_profit": "3995020.90",
                                    "total_amount": "562984.45",
                                    "average_amount": "25590.20"
                                },
                                {
                                    "customerName": "Online Mini Collectables",
                                    "city": "Brickhaven",
                                    "state": "MA",
                                    "total_profit": "3995020.90",
                                    "total_amount": "562984.45",
                                    "average_amount": "25590.20"
                                },
                                {
                                    "customerName": "Diecast Collectables",
                                    "city": "Boston",
                                    "state": "MA",
                                    "total_profit": "3995020.90",
                                    "total_amount": "562984.45",
                                    "average_amount": "25590.20"
                                },
                                {
                                    "customerName": "Marta's Replicas Co.",
                                    "city": "Cambridge",
                                    "state": "MA",
                                    "total_profit": "3995020.90",
                                    "total_amount": "562984.45",
                                    "average_amount": "25590.20"
                                },
                                {
                                    "customerName": "Online Diecast Creations Co.",
                                    "city": "Nashua",
                                    "state": "NH",
                                    "total_profit": "3995020.90",
                                    "total_amount": "116449.29",
                                    "average_amount": "38816.43"
                                },
                                {
                                    "customerName": "Online Diecast Creations Co.",
                                    "city": "Nashua",
                                    "state": "NH",
                                    "total_profit": "3995020.90",
                                    "total_amount": "116449.29",
                                    "average_amount": "38816.43"
                                },
                                {
                                    "customerName": "Online Diecast Creations Co.",
                                    "city": "Nashua",
                                    "state": "NH",
                                    "total_profit": "3995020.90",
                                    "total_amount": "116449.29",
                                    "average_amount": "38816.43"
                                },
                                {
                                    "customerName": "Tekni Collectables Inc.",
                                    "city": "Newark",
                                    "state": "NJ",
                                    "total_profit": "3995020.90",
                                    "total_amount": "38281.51",
                                    "average_amount": "19140.76"
                                },
                                {
                                    "customerName": "Tekni Collectables Inc.",
                                    "city": "Newark",
                                    "state": "NJ",
                                    "total_profit": "3995020.90",
                                    "total_amount": "38281.51",
                                    "average_amount": "19140.76"
                                },
                                {
                                    "customerName": "Anna's Decorations, Ltd",
                                    "city": "North Sydney",
                                    "state": "NSW",
                                    "total_profit": "3995020.90",
                                    "total_amount": "228689.83",
                                    "average_amount": "32669.98"
                                },
                                {
                                    "customerName": "Anna's Decorations, Ltd",
                                    "city": "North Sydney",
                                    "state": "NSW",
                                    "total_profit": "3995020.90",
                                    "total_amount": "228689.83",
                                    "average_amount": "32669.98"
                                },
                                {
                                    "customerName": "Anna's Decorations, Ltd",
                                    "city": "North Sydney",
                                    "state": "NSW",
                                    "total_profit": "3995020.90",
                                    "total_amount": "228689.83",
                                    "average_amount": "32669.98"
                                },
                                {
                                    "customerName": "Souveniers And Things Co.",
                                    "city": "Chatswood",
                                    "state": "NSW",
                                    "total_profit": "3995020.90",
                                    "total_amount": "228689.83",
                                    "average_amount": "32669.98"
                                },
                                {
                                    "customerName": "Souveniers And Things Co.",
                                    "city": "Chatswood",
                                    "state": "NSW",
                                    "total_profit": "3995020.90",
                                    "total_amount": "228689.83",
                                    "average_amount": "32669.98"
                                },
                                {
                                    "customerName": "Souveniers And Things Co.",
                                    "city": "Chatswood",
                                    "state": "NSW",
                                    "total_profit": "3995020.90",
                                    "total_amount": "228689.83",
                                    "average_amount": "32669.98"
                                },
                                {
                                    "customerName": "Anna's Decorations, Ltd",
                                    "city": "North Sydney",
                                    "state": "NSW",
                                    "total_profit": "3995020.90",
                                    "total_amount": "228689.83",
                                    "average_amount": "32669.98"
                                },
                                {
                                    "customerName": "Signal Gift Stores",
                                    "city": "Las Vegas",
                                    "state": "NV",
                                    "total_profit": "3995020.90",
                                    "total_amount": "80180.98",
                                    "average_amount": "26726.99"
                                },
                                {
                                    "customerName": "Signal Gift Stores",
                                    "city": "Las Vegas",
                                    "state": "NV",
                                    "total_profit": "3995020.90",
                                    "total_amount": "80180.98",
                                    "average_amount": "26726.99"
                                },
                                {
                                    "customerName": "Signal Gift Stores",
                                    "city": "Las Vegas",
                                    "state": "NV",
                                    "total_profit": "3995020.90",
                                    "total_amount": "80180.98",
                                    "average_amount": "26726.99"
                                },
                                {
                                    "customerName": "Vitachrome Inc.",
                                    "city": "NYC",
                                    "state": "NY",
                                    "total_profit": "3995020.90",
                                    "total_amount": "534928.45",
                                    "average_amount": "31466.38"
                                },
                                {
                                    "customerName": "Vitachrome Inc.",
                                    "city": "NYC",
                                    "state": "NY",
                                    "total_profit": "3995020.90",
                                    "total_amount": "534928.45",
                                    "average_amount": "31466.38"
                                },
                                {
                                    "customerName": "Vitachrome Inc.",
                                    "city": "NYC",
                                    "state": "NY",
                                    "total_profit": "3995020.90",
                                    "total_amount": "534928.45",
                                    "average_amount": "31466.38"
                                },
                                {
                                    "customerName": "Mini Classics",
                                    "city": "White Plains",
                                    "state": "NY",
                                    "total_profit": "3995020.90",
                                    "total_amount": "534928.45",
                                    "average_amount": "31466.38"
                                },
                                {
                                    "customerName": "Land of Toys Inc.",
                                    "city": "NYC",
                                    "state": "NY",
                                    "total_profit": "3995020.90",
                                    "total_amount": "534928.45",
                                    "average_amount": "31466.38"
                                },
                                {
                                    "customerName": "Land of Toys Inc.",
                                    "city": "NYC",
                                    "state": "NY",
                                    "total_profit": "3995020.90",
                                    "total_amount": "534928.45",
                                    "average_amount": "31466.38"
                                },
                                {
                                    "customerName": "Land of Toys Inc.",
                                    "city": "NYC",
                                    "state": "NY",
                                    "total_profit": "3995020.90",
                                    "total_amount": "534928.45",
                                    "average_amount": "31466.38"
                                },
                                {
                                    "customerName": "Microscale Inc.",
                                    "city": "NYC",
                                    "state": "NY",
                                    "total_profit": "3995020.90",
                                    "total_amount": "534928.45",
                                    "average_amount": "31466.38"
                                },
                                {
                                    "customerName": "Microscale Inc.",
                                    "city": "NYC",
                                    "state": "NY",
                                    "total_profit": "3995020.90",
                                    "total_amount": "534928.45",
                                    "average_amount": "31466.38"
                                },
                                {
                                    "customerName": "Muscle Machine Inc",
                                    "city": "NYC",
                                    "state": "NY",
                                    "total_profit": "3995020.90",
                                    "total_amount": "534928.45",
                                    "average_amount": "31466.38"
                                },
                                {
                                    "customerName": "Muscle Machine Inc",
                                    "city": "NYC",
                                    "state": "NY",
                                    "total_profit": "3995020.90",
                                    "total_amount": "534928.45",
                                    "average_amount": "31466.38"
                                },
                                {
                                    "customerName": "Muscle Machine Inc",
                                    "city": "NYC",
                                    "state": "NY",
                                    "total_profit": "3995020.90",
                                    "total_amount": "534928.45",
                                    "average_amount": "31466.38"
                                },
                                {
                                    "customerName": "Classic Legends Inc.",
                                    "city": "NYC",
                                    "state": "NY",
                                    "total_profit": "3995020.90",
                                    "total_amount": "534928.45",
                                    "average_amount": "31466.38"
                                },
                                {
                                    "customerName": "Classic Legends Inc.",
                                    "city": "NYC",
                                    "state": "NY",
                                    "total_profit": "3995020.90",
                                    "total_amount": "534928.45",
                                    "average_amount": "31466.38"
                                },
                                {
                                    "customerName": "Mini Classics",
                                    "city": "White Plains",
                                    "state": "NY",
                                    "total_profit": "3995020.90",
                                    "total_amount": "534928.45",
                                    "average_amount": "31466.38"
                                },
                                {
                                    "customerName": "Classic Legends Inc.",
                                    "city": "NYC",
                                    "state": "NY",
                                    "total_profit": "3995020.90",
                                    "total_amount": "534928.45",
                                    "average_amount": "31466.38"
                                },
                                {
                                    "customerName": "Muscle Machine Inc",
                                    "city": "NYC",
                                    "state": "NY",
                                    "total_profit": "3995020.90",
                                    "total_amount": "534928.45",
                                    "average_amount": "31466.38"
                                },
                                {
                                    "customerName": "Osaka Souveniers Co.",
                                    "city": "Kita-ku",
                                    "state": "Osaka",
                                    "total_profit": "3995020.90",
                                    "total_amount": "62361.22",
                                    "average_amount": "31180.61"
                                },
                                {
                                    "customerName": "Osaka Souveniers Co.",
                                    "city": "Kita-ku",
                                    "state": "Osaka",
                                    "total_profit": "3995020.90",
                                    "total_amount": "62361.22",
                                    "average_amount": "31180.61"
                                },
                                {
                                    "customerName": "Diecast Classics Inc.",
                                    "city": "Allentown",
                                    "state": "PA",
                                    "total_profit": "3995020.90",
                                    "total_amount": "234175.18",
                                    "average_amount": "33453.60"
                                },
                                {
                                    "customerName": "Diecast Classics Inc.",
                                    "city": "Allentown",
                                    "state": "PA",
                                    "total_profit": "3995020.90",
                                    "total_amount": "234175.18",
                                    "average_amount": "33453.60"
                                },
                                {
                                    "customerName": "Classic Gift Ideas, Inc",
                                    "city": "Philadelphia",
                                    "state": "PA",
                                    "total_profit": "3995020.90",
                                    "total_amount": "234175.18",
                                    "average_amount": "33453.60"
                                },
                                {
                                    "customerName": "Motor Mint Distributors Inc.",
                                    "city": "Philadelphia",
                                    "state": "PA",
                                    "total_profit": "3995020.90",
                                    "total_amount": "234175.18",
                                    "average_amount": "33453.60"
                                },
                                {
                                    "customerName": "Motor Mint Distributors Inc.",
                                    "city": "Philadelphia",
                                    "state": "PA",
                                    "total_profit": "3995020.90",
                                    "total_amount": "234175.18",
                                    "average_amount": "33453.60"
                                },
                                {
                                    "customerName": "Classic Gift Ideas, Inc",
                                    "city": "Philadelphia",
                                    "state": "PA",
                                    "total_profit": "3995020.90",
                                    "total_amount": "234175.18",
                                    "average_amount": "33453.60"
                                },
                                {
                                    "customerName": "Motor Mint Distributors Inc.",
                                    "city": "Philadelphia",
                                    "state": "PA",
                                    "total_profit": "3995020.90",
                                    "total_amount": "234175.18",
                                    "average_amount": "33453.60"
                                },
                                {
                                    "customerName": "Québec Home Shopping Network",
                                    "city": "Montréal",
                                    "state": "Québec",
                                    "total_profit": "3995020.90",
                                    "total_amount": "68977.67",
                                    "average_amount": "22992.56"
                                },
                                {
                                    "customerName": "Québec Home Shopping Network",
                                    "city": "Montréal",
                                    "state": "Québec",
                                    "total_profit": "3995020.90",
                                    "total_amount": "68977.67",
                                    "average_amount": "22992.56"
                                },
                                {
                                    "customerName": "Québec Home Shopping Network",
                                    "city": "Montréal",
                                    "state": "Québec",
                                    "total_profit": "3995020.90",
                                    "total_amount": "68977.67",
                                    "average_amount": "22992.56"
                                },
                                {
                                    "customerName": "Australian Gift Network, Co",
                                    "city": "South Brisbane",
                                    "state": "Queensland",
                                    "total_profit": "3995020.90",
                                    "total_amount": "55190.16",
                                    "average_amount": "18396.72"
                                },
                                {
                                    "customerName": "Australian Gift Network, Co",
                                    "city": "South Brisbane",
                                    "state": "Queensland",
                                    "total_profit": "3995020.90",
                                    "total_amount": "55190.16",
                                    "average_amount": "18396.72"
                                },
                                {
                                    "customerName": "Australian Gift Network, Co",
                                    "city": "South Brisbane",
                                    "state": "Queensland",
                                    "total_profit": "3995020.90",
                                    "total_amount": "55190.16",
                                    "average_amount": "18396.72"
                                },
                                {
                                    "customerName": "Tokyo Collectables, Ltd",
                                    "city": "Minato-ku",
                                    "state": "Tokyo",
                                    "total_profit": "3995020.90",
                                    "total_amount": "105548.73",
                                    "average_amount": "26387.18"
                                },
                                {
                                    "customerName": "Tokyo Collectables, Ltd",
                                    "city": "Minato-ku",
                                    "state": "Tokyo",
                                    "total_profit": "3995020.90",
                                    "total_amount": "105548.73",
                                    "average_amount": "26387.18"
                                },
                                {
                                    "customerName": "Tokyo Collectables, Ltd",
                                    "city": "Minato-ku",
                                    "state": "Tokyo",
                                    "total_profit": "3995020.90",
                                    "total_amount": "105548.73",
                                    "average_amount": "26387.18"
                                },
                                {
                                    "customerName": "Tokyo Collectables, Ltd",
                                    "city": "Minato-ku",
                                    "state": "Tokyo",
                                    "total_profit": "3995020.90",
                                    "total_amount": "105548.73",
                                    "average_amount": "26387.18"
                                },
                                {
                                    "customerName": "Australian Collectors, Co.",
                                    "city": "Melbourne",
                                    "state": "Victoria",
                                    "total_profit": "3995020.90",
                                    "total_amount": "225505.83",
                                    "average_amount": "37584.31"
                                },
                                {
                                    "customerName": "Australian Collectors, Co.",
                                    "city": "Melbourne",
                                    "state": "Victoria",
                                    "total_profit": "3995020.90",
                                    "total_amount": "225505.83",
                                    "average_amount": "37584.31"
                                },
                                {
                                    "customerName": "Australian Collectables, Ltd",
                                    "city": "Glen Waverly",
                                    "state": "Victoria",
                                    "total_profit": "3995020.90",
                                    "total_amount": "225505.83",
                                    "average_amount": "37584.31"
                                },
                                {
                                    "customerName": "Australian Collectors, Co.",
                                    "city": "Melbourne",
                                    "state": "Victoria",
                                    "total_profit": "3995020.90",
                                    "total_amount": "225505.83",
                                    "average_amount": "37584.31"
                                },
                                {
                                    "customerName": "Australian Collectors, Co.",
                                    "city": "Melbourne",
                                    "state": "Victoria",
                                    "total_profit": "3995020.90",
                                    "total_amount": "225505.83",
                                    "average_amount": "37584.31"
                                },
                                {
                                    "customerName": "Australian Collectables, Ltd",
                                    "city": "Glen Waverly",
                                    "state": "Victoria",
                                    "total_profit": "3995020.90",
                                    "total_amount": "225505.83",
                                    "average_amount": "37584.31"
                                }
                            ]
                        },
                        "text/html": "<table><tr><th>customerName</th><th>city</th><th>state</th><th>total_profit</th><th>total_amount</th><th>average_amount</th></tr><tr><td>Canadian Gift Exchange Network</td><td>Vancouver</td><td>BC</td><td>3995020.90</td><td>136934.19</td><td>34233.55</td></tr><tr><td>Canadian Gift Exchange Network</td><td>Vancouver</td><td>BC</td><td>3995020.90</td><td>136934.19</td><td>34233.55</td></tr><tr><td>Royal Canadian Collectables, Ltd.</td><td>Tsawassen</td><td>BC</td><td>3995020.90</td><td>136934.19</td><td>34233.55</td></tr><tr><td>Royal Canadian Collectables, Ltd.</td><td>Tsawassen</td><td>BC</td><td>3995020.90</td><td>136934.19</td><td>34233.55</td></tr><tr><td>Toys4GrownUps.com</td><td>Pasadena</td><td>CA</td><td>3995020.90</td><td>1257258.60</td><td>40556.73</td></tr><tr><td>Mini Gifts Distributors Ltd.</td><td>San Rafael</td><td>CA</td><td>3995020.90</td><td>1257258.60</td><td>40556.73</td></tr><tr><td>Signal Collectibles Ltd.</td><td>Brisbane</td><td>CA</td><td>3995020.90</td><td>1257258.60</td><td>40556.73</td></tr><tr><td>Signal Collectibles Ltd.</td><td>Brisbane</td><td>CA</td><td>3995020.90</td><td>1257258.60</td><td>40556.73</td></tr><tr><td>West Coast Collectables Co.</td><td>Burbank</td><td>CA</td><td>3995020.90</td><td>1257258.60</td><td>40556.73</td></tr><tr><td>West Coast Collectables Co.</td><td>Burbank</td><td>CA</td><td>3995020.90</td><td>1257258.60</td><td>40556.73</td></tr><tr><td>Mini Gifts Distributors Ltd.</td><td>San Rafael</td><td>CA</td><td>3995020.90</td><td>1257258.60</td><td>40556.73</td></tr><tr><td>Mini Gifts Distributors Ltd.</td><td>San Rafael</td><td>CA</td><td>3995020.90</td><td>1257258.60</td><td>40556.73</td></tr><tr><td>Mini Gifts Distributors Ltd.</td><td>San Rafael</td><td>CA</td><td>3995020.90</td><td>1257258.60</td><td>40556.73</td></tr><tr><td>Mini Gifts Distributors Ltd.</td><td>San Rafael</td><td>CA</td><td>3995020.90</td><td>1257258.60</td><td>40556.73</td></tr><tr><td>Mini Gifts Distributors Ltd.</td><td>San Rafael</td><td>CA</td><td>3995020.90</td><td>1257258.60</td><td>40556.73</td></tr><tr><td>Mini Gifts Distributors Ltd.</td><td>San Rafael</td><td>CA</td><td>3995020.90</td><td>1257258.60</td><td>40556.73</td></tr><tr><td>Mini Gifts Distributors Ltd.</td><td>San Rafael</td><td>CA</td><td>3995020.90</td><td>1257258.60</td><td>40556.73</td></tr><tr><td>Mini Wheels Co.</td><td>San Francisco</td><td>CA</td><td>3995020.90</td><td>1257258.60</td><td>40556.73</td></tr><tr><td>Mini Wheels Co.</td><td>San Francisco</td><td>CA</td><td>3995020.90</td><td>1257258.60</td><td>40556.73</td></tr><tr><td>Mini Gifts Distributors Ltd.</td><td>San Rafael</td><td>CA</td><td>3995020.90</td><td>1257258.60</td><td>40556.73</td></tr><tr><td>Toys4GrownUps.com</td><td>Pasadena</td><td>CA</td><td>3995020.90</td><td>1257258.60</td><td>40556.73</td></tr><tr><td>Mini Wheels Co.</td><td>San Francisco</td><td>CA</td><td>3995020.90</td><td>1257258.60</td><td>40556.73</td></tr><tr><td>Boards &amp; Toys Co.</td><td>Glendale</td><td>CA</td><td>3995020.90</td><td>1257258.60</td><td>40556.73</td></tr><tr><td>Corporate Gift Ideas Co.</td><td>San Francisco</td><td>CA</td><td>3995020.90</td><td>1257258.60</td><td>40556.73</td></tr><tr><td>Boards &amp; Toys Co.</td><td>Glendale</td><td>CA</td><td>3995020.90</td><td>1257258.60</td><td>40556.73</td></tr><tr><td>The Sharp Gifts Warehouse</td><td>San Jose</td><td>CA</td><td>3995020.90</td><td>1257258.60</td><td>40556.73</td></tr><tr><td>Collectable Mini Designs Co.</td><td>San Diego</td><td>CA</td><td>3995020.90</td><td>1257258.60</td><td>40556.73</td></tr><tr><td>Toys4GrownUps.com</td><td>Pasadena</td><td>CA</td><td>3995020.90</td><td>1257258.60</td><td>40556.73</td></tr><tr><td>Technics Stores Inc.</td><td>Burlingame</td><td>CA</td><td>3995020.90</td><td>1257258.60</td><td>40556.73</td></tr><tr><td>Technics Stores Inc.</td><td>Burlingame</td><td>CA</td><td>3995020.90</td><td>1257258.60</td><td>40556.73</td></tr><tr><td>Technics Stores Inc.</td><td>Burlingame</td><td>CA</td><td>3995020.90</td><td>1257258.60</td><td>40556.73</td></tr><tr><td>Technics Stores Inc.</td><td>Burlingame</td><td>CA</td><td>3995020.90</td><td>1257258.60</td><td>40556.73</td></tr><tr><td>Corporate Gift Ideas Co.</td><td>San Francisco</td><td>CA</td><td>3995020.90</td><td>1257258.60</td><td>40556.73</td></tr><tr><td>Men &#39;R&#39; US Retailers, Ltd.</td><td>Los Angeles</td><td>CA</td><td>3995020.90</td><td>1257258.60</td><td>40556.73</td></tr><tr><td>Men &#39;R&#39; US Retailers, Ltd.</td><td>Los Angeles</td><td>CA</td><td>3995020.90</td><td>1257258.60</td><td>40556.73</td></tr><tr><td>Super Scale Inc.</td><td>New Haven</td><td>CT</td><td>3995020.90</td><td>215771.06</td><td>26971.38</td></tr><tr><td>Super Scale Inc.</td><td>New Haven</td><td>CT</td><td>3995020.90</td><td>215771.06</td><td>26971.38</td></tr><tr><td>Gift Depot Inc.</td><td>Bridgewater</td><td>CT</td><td>3995020.90</td><td>215771.06</td><td>26971.38</td></tr><tr><td>Gift Ideas Corp.</td><td>Glendale</td><td>CT</td><td>3995020.90</td><td>215771.06</td><td>26971.38</td></tr><tr><td>Gift Depot Inc.</td><td>Bridgewater</td><td>CT</td><td>3995020.90</td><td>215771.06</td><td>26971.38</td></tr><tr><td>Gift Depot Inc.</td><td>Bridgewater</td><td>CT</td><td>3995020.90</td><td>215771.06</td><td>26971.38</td></tr><tr><td>Gift Ideas Corp.</td><td>Glendale</td><td>CT</td><td>3995020.90</td><td>215771.06</td><td>26971.38</td></tr><tr><td>Gift Ideas Corp.</td><td>Glendale</td><td>CT</td><td>3995020.90</td><td>215771.06</td><td>26971.38</td></tr><tr><td>giftsbymail.co.uk</td><td>Cowes</td><td>Isle of Wight</td><td>3995020.90</td><td>71783.75</td><td>35891.88</td></tr><tr><td>giftsbymail.co.uk</td><td>Cowes</td><td>Isle of Wight</td><td>3995020.90</td><td>71783.75</td><td>35891.88</td></tr><tr><td>FunGiftIdeas.com</td><td>New Bedford</td><td>MA</td><td>3995020.90</td><td>562984.45</td><td>25590.20</td></tr><tr><td>FunGiftIdeas.com</td><td>New Bedford</td><td>MA</td><td>3995020.90</td><td>562984.45</td><td>25590.20</td></tr><tr><td>Cambridge Collectables Co.</td><td>Cambridge</td><td>MA</td><td>3995020.90</td><td>562984.45</td><td>25590.20</td></tr><tr><td>Cambridge Collectables Co.</td><td>Cambridge</td><td>MA</td><td>3995020.90</td><td>562984.45</td><td>25590.20</td></tr><tr><td>Collectables For Less Inc.</td><td>Brickhaven</td><td>MA</td><td>3995020.90</td><td>562984.45</td><td>25590.20</td></tr><tr><td>Collectables For Less Inc.</td><td>Brickhaven</td><td>MA</td><td>3995020.90</td><td>562984.45</td><td>25590.20</td></tr><tr><td>Collectables For Less Inc.</td><td>Brickhaven</td><td>MA</td><td>3995020.90</td><td>562984.45</td><td>25590.20</td></tr><tr><td>Auto-Moto Classics Inc.</td><td>Brickhaven</td><td>MA</td><td>3995020.90</td><td>562984.45</td><td>25590.20</td></tr><tr><td>Auto-Moto Classics Inc.</td><td>Brickhaven</td><td>MA</td><td>3995020.90</td><td>562984.45</td><td>25590.20</td></tr><tr><td>Auto-Moto Classics Inc.</td><td>Brickhaven</td><td>MA</td><td>3995020.90</td><td>562984.45</td><td>25590.20</td></tr><tr><td>Online Mini Collectables</td><td>Brickhaven</td><td>MA</td><td>3995020.90</td><td>562984.45</td><td>25590.20</td></tr><tr><td>Diecast Collectables</td><td>Boston</td><td>MA</td><td>3995020.90</td><td>562984.45</td><td>25590.20</td></tr><tr><td>FunGiftIdeas.com</td><td>New Bedford</td><td>MA</td><td>3995020.90</td><td>562984.45</td><td>25590.20</td></tr><tr><td>Mini Creations Ltd.</td><td>New Bedford</td><td>MA</td><td>3995020.90</td><td>562984.45</td><td>25590.20</td></tr><tr><td>Gifts4AllAges.com</td><td>Boston</td><td>MA</td><td>3995020.90</td><td>562984.45</td><td>25590.20</td></tr><tr><td>Gifts4AllAges.com</td><td>Boston</td><td>MA</td><td>3995020.90</td><td>562984.45</td><td>25590.20</td></tr><tr><td>Mini Creations Ltd.</td><td>New Bedford</td><td>MA</td><td>3995020.90</td><td>562984.45</td><td>25590.20</td></tr><tr><td>Marta&#39;s Replicas Co.</td><td>Cambridge</td><td>MA</td><td>3995020.90</td><td>562984.45</td><td>25590.20</td></tr><tr><td>Mini Creations Ltd.</td><td>New Bedford</td><td>MA</td><td>3995020.90</td><td>562984.45</td><td>25590.20</td></tr><tr><td>Online Mini Collectables</td><td>Brickhaven</td><td>MA</td><td>3995020.90</td><td>562984.45</td><td>25590.20</td></tr><tr><td>Diecast Collectables</td><td>Boston</td><td>MA</td><td>3995020.90</td><td>562984.45</td><td>25590.20</td></tr><tr><td>Marta&#39;s Replicas Co.</td><td>Cambridge</td><td>MA</td><td>3995020.90</td><td>562984.45</td><td>25590.20</td></tr><tr><td>Online Diecast Creations Co.</td><td>Nashua</td><td>NH</td><td>3995020.90</td><td>116449.29</td><td>38816.43</td></tr><tr><td>Online Diecast Creations Co.</td><td>Nashua</td><td>NH</td><td>3995020.90</td><td>116449.29</td><td>38816.43</td></tr><tr><td>Online Diecast Creations Co.</td><td>Nashua</td><td>NH</td><td>3995020.90</td><td>116449.29</td><td>38816.43</td></tr><tr><td>Tekni Collectables Inc.</td><td>Newark</td><td>NJ</td><td>3995020.90</td><td>38281.51</td><td>19140.76</td></tr><tr><td>Tekni Collectables Inc.</td><td>Newark</td><td>NJ</td><td>3995020.90</td><td>38281.51</td><td>19140.76</td></tr><tr><td>Anna&#39;s Decorations, Ltd</td><td>North Sydney</td><td>NSW</td><td>3995020.90</td><td>228689.83</td><td>32669.98</td></tr><tr><td>Anna&#39;s Decorations, Ltd</td><td>North Sydney</td><td>NSW</td><td>3995020.90</td><td>228689.83</td><td>32669.98</td></tr><tr><td>Anna&#39;s Decorations, Ltd</td><td>North Sydney</td><td>NSW</td><td>3995020.90</td><td>228689.83</td><td>32669.98</td></tr><tr><td>Souveniers And Things Co.</td><td>Chatswood</td><td>NSW</td><td>3995020.90</td><td>228689.83</td><td>32669.98</td></tr><tr><td>Souveniers And Things Co.</td><td>Chatswood</td><td>NSW</td><td>3995020.90</td><td>228689.83</td><td>32669.98</td></tr><tr><td>Souveniers And Things Co.</td><td>Chatswood</td><td>NSW</td><td>3995020.90</td><td>228689.83</td><td>32669.98</td></tr><tr><td>Anna&#39;s Decorations, Ltd</td><td>North Sydney</td><td>NSW</td><td>3995020.90</td><td>228689.83</td><td>32669.98</td></tr><tr><td>Signal Gift Stores</td><td>Las Vegas</td><td>NV</td><td>3995020.90</td><td>80180.98</td><td>26726.99</td></tr><tr><td>Signal Gift Stores</td><td>Las Vegas</td><td>NV</td><td>3995020.90</td><td>80180.98</td><td>26726.99</td></tr><tr><td>Signal Gift Stores</td><td>Las Vegas</td><td>NV</td><td>3995020.90</td><td>80180.98</td><td>26726.99</td></tr><tr><td>Vitachrome Inc.</td><td>NYC</td><td>NY</td><td>3995020.90</td><td>534928.45</td><td>31466.38</td></tr><tr><td>Vitachrome Inc.</td><td>NYC</td><td>NY</td><td>3995020.90</td><td>534928.45</td><td>31466.38</td></tr><tr><td>Vitachrome Inc.</td><td>NYC</td><td>NY</td><td>3995020.90</td><td>534928.45</td><td>31466.38</td></tr><tr><td>Mini Classics</td><td>White Plains</td><td>NY</td><td>3995020.90</td><td>534928.45</td><td>31466.38</td></tr><tr><td>Land of Toys Inc.</td><td>NYC</td><td>NY</td><td>3995020.90</td><td>534928.45</td><td>31466.38</td></tr><tr><td>Land of Toys Inc.</td><td>NYC</td><td>NY</td><td>3995020.90</td><td>534928.45</td><td>31466.38</td></tr><tr><td>Land of Toys Inc.</td><td>NYC</td><td>NY</td><td>3995020.90</td><td>534928.45</td><td>31466.38</td></tr><tr><td>Microscale Inc.</td><td>NYC</td><td>NY</td><td>3995020.90</td><td>534928.45</td><td>31466.38</td></tr><tr><td>Microscale Inc.</td><td>NYC</td><td>NY</td><td>3995020.90</td><td>534928.45</td><td>31466.38</td></tr><tr><td>Muscle Machine Inc</td><td>NYC</td><td>NY</td><td>3995020.90</td><td>534928.45</td><td>31466.38</td></tr><tr><td>Muscle Machine Inc</td><td>NYC</td><td>NY</td><td>3995020.90</td><td>534928.45</td><td>31466.38</td></tr><tr><td>Muscle Machine Inc</td><td>NYC</td><td>NY</td><td>3995020.90</td><td>534928.45</td><td>31466.38</td></tr><tr><td>Classic Legends Inc.</td><td>NYC</td><td>NY</td><td>3995020.90</td><td>534928.45</td><td>31466.38</td></tr><tr><td>Classic Legends Inc.</td><td>NYC</td><td>NY</td><td>3995020.90</td><td>534928.45</td><td>31466.38</td></tr><tr><td>Mini Classics</td><td>White Plains</td><td>NY</td><td>3995020.90</td><td>534928.45</td><td>31466.38</td></tr><tr><td>Classic Legends Inc.</td><td>NYC</td><td>NY</td><td>3995020.90</td><td>534928.45</td><td>31466.38</td></tr><tr><td>Muscle Machine Inc</td><td>NYC</td><td>NY</td><td>3995020.90</td><td>534928.45</td><td>31466.38</td></tr><tr><td>Osaka Souveniers Co.</td><td>Kita-ku</td><td>Osaka</td><td>3995020.90</td><td>62361.22</td><td>31180.61</td></tr><tr><td>Osaka Souveniers Co.</td><td>Kita-ku</td><td>Osaka</td><td>3995020.90</td><td>62361.22</td><td>31180.61</td></tr><tr><td>Diecast Classics Inc.</td><td>Allentown</td><td>PA</td><td>3995020.90</td><td>234175.18</td><td>33453.60</td></tr><tr><td>Diecast Classics Inc.</td><td>Allentown</td><td>PA</td><td>3995020.90</td><td>234175.18</td><td>33453.60</td></tr><tr><td>Classic Gift Ideas, Inc</td><td>Philadelphia</td><td>PA</td><td>3995020.90</td><td>234175.18</td><td>33453.60</td></tr><tr><td>Motor Mint Distributors Inc.</td><td>Philadelphia</td><td>PA</td><td>3995020.90</td><td>234175.18</td><td>33453.60</td></tr><tr><td>Motor Mint Distributors Inc.</td><td>Philadelphia</td><td>PA</td><td>3995020.90</td><td>234175.18</td><td>33453.60</td></tr><tr><td>Classic Gift Ideas, Inc</td><td>Philadelphia</td><td>PA</td><td>3995020.90</td><td>234175.18</td><td>33453.60</td></tr><tr><td>Motor Mint Distributors Inc.</td><td>Philadelphia</td><td>PA</td><td>3995020.90</td><td>234175.18</td><td>33453.60</td></tr><tr><td>Québec Home Shopping Network</td><td>Montréal</td><td>Québec</td><td>3995020.90</td><td>68977.67</td><td>22992.56</td></tr><tr><td>Québec Home Shopping Network</td><td>Montréal</td><td>Québec</td><td>3995020.90</td><td>68977.67</td><td>22992.56</td></tr><tr><td>Québec Home Shopping Network</td><td>Montréal</td><td>Québec</td><td>3995020.90</td><td>68977.67</td><td>22992.56</td></tr><tr><td>Australian Gift Network, Co</td><td>South Brisbane</td><td>Queensland</td><td>3995020.90</td><td>55190.16</td><td>18396.72</td></tr><tr><td>Australian Gift Network, Co</td><td>South Brisbane</td><td>Queensland</td><td>3995020.90</td><td>55190.16</td><td>18396.72</td></tr><tr><td>Australian Gift Network, Co</td><td>South Brisbane</td><td>Queensland</td><td>3995020.90</td><td>55190.16</td><td>18396.72</td></tr><tr><td>Tokyo Collectables, Ltd</td><td>Minato-ku</td><td>Tokyo</td><td>3995020.90</td><td>105548.73</td><td>26387.18</td></tr><tr><td>Tokyo Collectables, Ltd</td><td>Minato-ku</td><td>Tokyo</td><td>3995020.90</td><td>105548.73</td><td>26387.18</td></tr><tr><td>Tokyo Collectables, Ltd</td><td>Minato-ku</td><td>Tokyo</td><td>3995020.90</td><td>105548.73</td><td>26387.18</td></tr><tr><td>Tokyo Collectables, Ltd</td><td>Minato-ku</td><td>Tokyo</td><td>3995020.90</td><td>105548.73</td><td>26387.18</td></tr><tr><td>Australian Collectors, Co.</td><td>Melbourne</td><td>Victoria</td><td>3995020.90</td><td>225505.83</td><td>37584.31</td></tr><tr><td>Australian Collectors, Co.</td><td>Melbourne</td><td>Victoria</td><td>3995020.90</td><td>225505.83</td><td>37584.31</td></tr><tr><td>Australian Collectables, Ltd</td><td>Glen Waverly</td><td>Victoria</td><td>3995020.90</td><td>225505.83</td><td>37584.31</td></tr><tr><td>Australian Collectors, Co.</td><td>Melbourne</td><td>Victoria</td><td>3995020.90</td><td>225505.83</td><td>37584.31</td></tr><tr><td>Australian Collectors, Co.</td><td>Melbourne</td><td>Victoria</td><td>3995020.90</td><td>225505.83</td><td>37584.31</td></tr><tr><td>Australian Collectables, Ltd</td><td>Glen Waverly</td><td>Victoria</td><td>3995020.90</td><td>225505.83</td><td>37584.31</td></tr></table>"
                    },
                    "metadata": {}
                }
            ],
            "execution_count": 40
        },
        {
            "cell_type": "code",
            "source": [
                "-- IF\n",
                "\n",
                "select \n",
                " SUM(IF(o.status = 'Shipped', 1, 0)) as Shipped,\n",
                " SUM(IF(o.status = 'Resolved', 1, 0)) as Resolved,\n",
                " SUM(IF(o.status = 'Cancelled', 1, 0)) as Cancelled,\n",
                " SUM(IF(o.status = 'On Hold', 1, 0)) as OnHold,\n",
                " SUM(IF(o.status = 'Disputed', 1, 0)) as Disputed,\n",
                " SUM(IF(o.status = 'In Process', 1, 0)) as InProcess\n",
                "\n",
                " from orders o"
            ],
            "metadata": {
                "language": "sql",
                "azdata_cell_guid": "a2e030fe-38a7-4e5d-8749-d982585840dd"
            },
            "outputs": [
                {
                    "output_type": "display_data",
                    "data": {
                        "text/html": "(1 row(s) affected)"
                    },
                    "metadata": {}
                },
                {
                    "output_type": "display_data",
                    "data": {
                        "text/html": "Total execution time: 00:00:01.010"
                    },
                    "metadata": {}
                },
                {
                    "output_type": "execute_result",
                    "execution_count": 41,
                    "data": {
                        "application/vnd.dataresource+json": {
                            "schema": {
                                "fields": [
                                    {
                                        "name": "Shipped"
                                    },
                                    {
                                        "name": "Resolved"
                                    },
                                    {
                                        "name": "Cancelled"
                                    },
                                    {
                                        "name": "OnHold"
                                    },
                                    {
                                        "name": "Disputed"
                                    },
                                    {
                                        "name": "InProcess"
                                    }
                                ]
                            },
                            "data": [
                                {
                                    "Shipped": "303",
                                    "Resolved": "4",
                                    "Cancelled": "6",
                                    "OnHold": "4",
                                    "Disputed": "3",
                                    "InProcess": "6"
                                }
                            ]
                        },
                        "text/html": "<table><tr><th>Shipped</th><th>Resolved</th><th>Cancelled</th><th>OnHold</th><th>Disputed</th><th>InProcess</th></tr><tr><td>303</td><td>4</td><td>6</td><td>4</td><td>3</td><td>6</td></tr></table>"
                    },
                    "metadata": {}
                }
            ],
            "execution_count": 41
        },
        {
            "cell_type": "code",
            "source": [
                "-- stored FUNCTION\n",
                "DROP FUNCTION IF EXISTS CreditLevel;\n",
                "\n",
                "\n",
                "CREATE FUNCTION CreditLevel(\n",
                "    credit DECIMAL(10, 2)\n",
                ")\n",
                "RETURNS VARCHAR(20)\n",
                "-- DETERMINISTIC\n",
                "BEGIN\n",
                "    DECLARE customerLevel VARCHAR(20);\n",
                "\n",
                "    IF credit > 8000 THEN\n",
                "        SET customerLevel = 'PLATINUM';\n",
                "    ELSEIF credit > 5000 THEN\n",
                "        SET customerLevel = 'GOLD';\n",
                "    ELSE\n",
                "        SET customerLevel = 'SILVER';\n",
                "    END IF;\n",
                "\n",
                "    RETURN customerLevel;\n",
                "END;\n",
                "\n",
                "\n",
                "\n",
                "\n",
                ""
            ],
            "metadata": {
                "azdata_cell_guid": "fa87c8a3-d7b3-4154-b078-90f57127bfc8",
                "language": "sql",
                "tags": []
            },
            "outputs": [
                {
                    "output_type": "display_data",
                    "data": {
                        "text/html": "Commands completed successfully"
                    },
                    "metadata": {}
                },
                {
                    "output_type": "display_data",
                    "data": {
                        "text/html": "Commands completed successfully"
                    },
                    "metadata": {}
                },
                {
                    "output_type": "display_data",
                    "data": {
                        "text/html": "Total execution time: 00:00:00.036"
                    },
                    "metadata": {}
                }
            ],
            "execution_count": 21
        },
        {
            "cell_type": "code",
            "source": [
                "--  SHow function syntex\n",
                "\n",
                "show FUNCTION status where db =\"ecom\";\n",
                "SELECT CreditLevel(9000), CreditLevel(500), CreditLevel(5500);\n",
                "SELECT customerNumber, customerName,creditLimit,  CreditLevel(creditLimit) as creditLevel FROM customers;"
            ],
            "metadata": {
                "azdata_cell_guid": "a76ccae1-4bc4-49ec-8bac-cec7c87a497b",
                "language": "sql"
            },
            "outputs": [
                {
                    "output_type": "display_data",
                    "data": {
                        "text/html": "(1 row(s) affected)"
                    },
                    "metadata": {}
                },
                {
                    "output_type": "display_data",
                    "data": {
                        "text/html": "Total execution time: 00:00:01.005"
                    },
                    "metadata": {}
                },
                {
                    "output_type": "execute_result",
                    "execution_count": 22,
                    "data": {
                        "application/vnd.dataresource+json": {
                            "schema": {
                                "fields": [
                                    {
                                        "name": "CreditLevel(9000)"
                                    },
                                    {
                                        "name": "CreditLevel(500)"
                                    },
                                    {
                                        "name": "CreditLevel(5500)"
                                    }
                                ]
                            },
                            "data": [
                                {
                                    "CreditLevel(9000)": "PLATINUM",
                                    "CreditLevel(500)": "SILVER",
                                    "CreditLevel(5500)": "GOLD"
                                }
                            ]
                        },
                        "text/html": "<table><tr><th>CreditLevel(9000)</th><th>CreditLevel(500)</th><th>CreditLevel(5500)</th></tr><tr><td>PLATINUM</td><td>SILVER</td><td>GOLD</td></tr></table>"
                    },
                    "metadata": {}
                }
            ],
            "execution_count": 22
        },
        {
            "cell_type": "code",
            "source": [
                "show function status where db =\"ecom\";"
            ],
            "metadata": {
                "azdata_cell_guid": "88e0eecc-2e76-48d3-b7a7-cd8c20dde670",
                "language": "sql"
            },
            "outputs": [
                {
                    "output_type": "display_data",
                    "data": {
                        "text/html": "(1 row(s) affected)"
                    },
                    "metadata": {}
                },
                {
                    "output_type": "display_data",
                    "data": {
                        "text/html": "Total execution time: 00:00:01.013"
                    },
                    "metadata": {}
                },
                {
                    "output_type": "execute_result",
                    "execution_count": 24,
                    "data": {
                        "application/vnd.dataresource+json": {
                            "schema": {
                                "fields": [
                                    {
                                        "name": "Db"
                                    },
                                    {
                                        "name": "Name"
                                    },
                                    {
                                        "name": "Type"
                                    },
                                    {
                                        "name": "Definer"
                                    },
                                    {
                                        "name": "Modified"
                                    },
                                    {
                                        "name": "Created"
                                    },
                                    {
                                        "name": "Security_type"
                                    },
                                    {
                                        "name": "Comment"
                                    },
                                    {
                                        "name": "character_set_client"
                                    },
                                    {
                                        "name": "collation_connection"
                                    },
                                    {
                                        "name": "Database Collation"
                                    }
                                ]
                            },
                            "data": [
                                {
                                    "Db": "ecom",
                                    "Name": "CreditLevel",
                                    "Type": "FUNCTION",
                                    "Definer": "irfan@localhost",
                                    "Modified": "2024-07-14 11:15:37",
                                    "Created": "2024-07-14 11:15:37",
                                    "Security_type": "DEFINER",
                                    "Comment": "b''",
                                    "character_set_client": "utf8mb4",
                                    "collation_connection": "utf8mb4_0900_ai_ci",
                                    "Database Collation": "utf8mb4_0900_ai_ci"
                                }
                            ]
                        },
                        "text/html": "<table><tr><th>Db</th><th>Name</th><th>Type</th><th>Definer</th><th>Modified</th><th>Created</th><th>Security_type</th><th>Comment</th><th>character_set_client</th><th>collation_connection</th><th>Database Collation</th></tr><tr><td>ecom</td><td>CreditLevel</td><td>FUNCTION</td><td>irfan@localhost</td><td>2024-07-14 11:15:37</td><td>2024-07-14 11:15:37</td><td>DEFINER</td><td>b&#39;&#39;</td><td>utf8mb4</td><td>utf8mb4_0900_ai_ci</td><td>utf8mb4_0900_ai_ci</td></tr></table>"
                    },
                    "metadata": {}
                }
            ],
            "execution_count": 24
        },
        {
            "cell_type": "code",
            "source": [
                "-- Create Stored Proc with custom function\n",
                "\n",
                "DROP PROCEDURE IF EXISTS GetCustomerWithLevel;\n",
                "\n",
                "CREATE PROCEDURE GetCustomerWithLevel()\n",
                "BEGIN\n",
                "    SELECT customerNumber, customerName,creditLimit,  CreditLevel(creditLimit) AS creditLevel FROM customers;\n",
                "END;"
            ],
            "metadata": {
                "azdata_cell_guid": "c6f4be60-2597-4a43-8f5a-5eb63bf56126",
                "language": "sql"
            },
            "outputs": [
                {
                    "output_type": "display_data",
                    "data": {
                        "text/html": "Commands completed successfully"
                    },
                    "metadata": {}
                },
                {
                    "output_type": "display_data",
                    "data": {
                        "text/html": "Commands completed successfully"
                    },
                    "metadata": {}
                },
                {
                    "output_type": "display_data",
                    "data": {
                        "text/html": "Total execution time: 00:00:00.034"
                    },
                    "metadata": {}
                }
            ],
            "execution_count": 25
        },
        {
            "cell_type": "code",
            "source": [
                "use ecom;\n",
                "CALL GetCustomerWithLevel();"
            ],
            "metadata": {
                "language": "sql",
                "azdata_cell_guid": "a6a2ad66-e0d9-45c8-8060-6b4b400caa5e"
            },
            "outputs": [
                {
                    "output_type": "display_data",
                    "data": {
                        "text/html": "Commands completed successfully"
                    },
                    "metadata": {}
                },
                {
                    "output_type": "display_data",
                    "data": {
                        "text/html": "(122 row(s) affected)"
                    },
                    "metadata": {}
                },
                {
                    "output_type": "display_data",
                    "data": {
                        "text/html": "Total execution time: 00:00:01.012"
                    },
                    "metadata": {}
                },
                {
                    "output_type": "execute_result",
                    "execution_count": 28,
                    "data": {
                        "application/vnd.dataresource+json": {
                            "schema": {
                                "fields": [
                                    {
                                        "name": "customerNumber"
                                    },
                                    {
                                        "name": "customerName"
                                    },
                                    {
                                        "name": "creditLimit"
                                    },
                                    {
                                        "name": "creditLevel"
                                    }
                                ]
                            },
                            "data": [
                                {
                                    "customerNumber": "103",
                                    "customerName": "Atelier graphique",
                                    "creditLimit": "21000.00",
                                    "creditLevel": "PLATINUM"
                                },
                                {
                                    "customerNumber": "112",
                                    "customerName": "Signal Gift Stores",
                                    "creditLimit": "71800.00",
                                    "creditLevel": "PLATINUM"
                                },
                                {
                                    "customerNumber": "114",
                                    "customerName": "Australian Collectors, Co.",
                                    "creditLimit": "117300.00",
                                    "creditLevel": "PLATINUM"
                                },
                                {
                                    "customerNumber": "119",
                                    "customerName": "La Rochelle Gifts",
                                    "creditLimit": "118200.00",
                                    "creditLevel": "PLATINUM"
                                },
                                {
                                    "customerNumber": "121",
                                    "customerName": "Baane Mini Imports",
                                    "creditLimit": "81700.00",
                                    "creditLevel": "PLATINUM"
                                },
                                {
                                    "customerNumber": "124",
                                    "customerName": "Mini Gifts Distributors Ltd.",
                                    "creditLimit": "210500.00",
                                    "creditLevel": "PLATINUM"
                                },
                                {
                                    "customerNumber": "125",
                                    "customerName": "Havel & Zbyszek Co",
                                    "creditLimit": "0.00",
                                    "creditLevel": "SILVER"
                                },
                                {
                                    "customerNumber": "128",
                                    "customerName": "Blauer See Auto, Co.",
                                    "creditLimit": "59700.00",
                                    "creditLevel": "PLATINUM"
                                },
                                {
                                    "customerNumber": "129",
                                    "customerName": "Mini Wheels Co.",
                                    "creditLimit": "64600.00",
                                    "creditLevel": "PLATINUM"
                                },
                                {
                                    "customerNumber": "131",
                                    "customerName": "Land of Toys Inc.",
                                    "creditLimit": "114900.00",
                                    "creditLevel": "PLATINUM"
                                },
                                {
                                    "customerNumber": "141",
                                    "customerName": "Euro+ Shopping Channel",
                                    "creditLimit": "227600.00",
                                    "creditLevel": "PLATINUM"
                                },
                                {
                                    "customerNumber": "144",
                                    "customerName": "Volvo Model Replicas, Co",
                                    "creditLimit": "53100.00",
                                    "creditLevel": "PLATINUM"
                                },
                                {
                                    "customerNumber": "145",
                                    "customerName": "Danish Wholesale Imports",
                                    "creditLimit": "83400.00",
                                    "creditLevel": "PLATINUM"
                                },
                                {
                                    "customerNumber": "146",
                                    "customerName": "Saveley & Henriot, Co.",
                                    "creditLimit": "123900.00",
                                    "creditLevel": "PLATINUM"
                                },
                                {
                                    "customerNumber": "148",
                                    "customerName": "Dragon Souveniers, Ltd.",
                                    "creditLimit": "103800.00",
                                    "creditLevel": "PLATINUM"
                                },
                                {
                                    "customerNumber": "151",
                                    "customerName": "Muscle Machine Inc",
                                    "creditLimit": "138500.00",
                                    "creditLevel": "PLATINUM"
                                },
                                {
                                    "customerNumber": "157",
                                    "customerName": "Diecast Classics Inc.",
                                    "creditLimit": "100600.00",
                                    "creditLevel": "PLATINUM"
                                },
                                {
                                    "customerNumber": "161",
                                    "customerName": "Technics Stores Inc.",
                                    "creditLimit": "84600.00",
                                    "creditLevel": "PLATINUM"
                                },
                                {
                                    "customerNumber": "166",
                                    "customerName": "Handji Gifts& Co",
                                    "creditLimit": "97900.00",
                                    "creditLevel": "PLATINUM"
                                },
                                {
                                    "customerNumber": "167",
                                    "customerName": "Herkku Gifts",
                                    "creditLimit": "96800.00",
                                    "creditLevel": "PLATINUM"
                                },
                                {
                                    "customerNumber": "168",
                                    "customerName": "American Souvenirs Inc",
                                    "creditLimit": "0.00",
                                    "creditLevel": "SILVER"
                                },
                                {
                                    "customerNumber": "169",
                                    "customerName": "Porto Imports Co.",
                                    "creditLimit": "0.00",
                                    "creditLevel": "SILVER"
                                },
                                {
                                    "customerNumber": "171",
                                    "customerName": "Daedalus Designs Imports",
                                    "creditLimit": "82900.00",
                                    "creditLevel": "PLATINUM"
                                },
                                {
                                    "customerNumber": "172",
                                    "customerName": "La Corne D'abondance, Co.",
                                    "creditLimit": "84300.00",
                                    "creditLevel": "PLATINUM"
                                },
                                {
                                    "customerNumber": "173",
                                    "customerName": "Cambridge Collectables Co.",
                                    "creditLimit": "43400.00",
                                    "creditLevel": "PLATINUM"
                                },
                                {
                                    "customerNumber": "175",
                                    "customerName": "Gift Depot Inc.",
                                    "creditLimit": "84300.00",
                                    "creditLevel": "PLATINUM"
                                },
                                {
                                    "customerNumber": "177",
                                    "customerName": "Osaka Souveniers Co.",
                                    "creditLimit": "81200.00",
                                    "creditLevel": "PLATINUM"
                                },
                                {
                                    "customerNumber": "181",
                                    "customerName": "Vitachrome Inc.",
                                    "creditLimit": "76400.00",
                                    "creditLevel": "PLATINUM"
                                },
                                {
                                    "customerNumber": "186",
                                    "customerName": "Toys of Finland, Co.",
                                    "creditLimit": "96500.00",
                                    "creditLevel": "PLATINUM"
                                },
                                {
                                    "customerNumber": "187",
                                    "customerName": "AV Stores, Co.",
                                    "creditLimit": "136800.00",
                                    "creditLevel": "PLATINUM"
                                },
                                {
                                    "customerNumber": "189",
                                    "customerName": "Clover Collections, Co.",
                                    "creditLimit": "69400.00",
                                    "creditLevel": "PLATINUM"
                                },
                                {
                                    "customerNumber": "198",
                                    "customerName": "Auto-Moto Classics Inc.",
                                    "creditLimit": "23000.00",
                                    "creditLevel": "PLATINUM"
                                },
                                {
                                    "customerNumber": "201",
                                    "customerName": "UK Collectables, Ltd.",
                                    "creditLimit": "92700.00",
                                    "creditLevel": "PLATINUM"
                                },
                                {
                                    "customerNumber": "202",
                                    "customerName": "Canadian Gift Exchange Network",
                                    "creditLimit": "90300.00",
                                    "creditLevel": "PLATINUM"
                                },
                                {
                                    "customerNumber": "204",
                                    "customerName": "Online Mini Collectables",
                                    "creditLimit": "68700.00",
                                    "creditLevel": "PLATINUM"
                                },
                                {
                                    "customerNumber": "205",
                                    "customerName": "Toys4GrownUps.com",
                                    "creditLimit": "90700.00",
                                    "creditLevel": "PLATINUM"
                                },
                                {
                                    "customerNumber": "206",
                                    "customerName": "Asian Shopping Network, Co",
                                    "creditLimit": "0.00",
                                    "creditLevel": "SILVER"
                                },
                                {
                                    "customerNumber": "209",
                                    "customerName": "Mini Caravy",
                                    "creditLimit": "53800.00",
                                    "creditLevel": "PLATINUM"
                                },
                                {
                                    "customerNumber": "211",
                                    "customerName": "King Kong Collectables, Co.",
                                    "creditLimit": "58600.00",
                                    "creditLevel": "PLATINUM"
                                },
                                {
                                    "customerNumber": "216",
                                    "customerName": "Enaco Distributors",
                                    "creditLimit": "60300.00",
                                    "creditLevel": "PLATINUM"
                                },
                                {
                                    "customerNumber": "219",
                                    "customerName": "Boards & Toys Co.",
                                    "creditLimit": "11000.00",
                                    "creditLevel": "PLATINUM"
                                },
                                {
                                    "customerNumber": "223",
                                    "customerName": "Natürlich Autos",
                                    "creditLimit": "0.00",
                                    "creditLevel": "SILVER"
                                },
                                {
                                    "customerNumber": "227",
                                    "customerName": "Heintze Collectables",
                                    "creditLimit": "120800.00",
                                    "creditLevel": "PLATINUM"
                                },
                                {
                                    "customerNumber": "233",
                                    "customerName": "Québec Home Shopping Network",
                                    "creditLimit": "48700.00",
                                    "creditLevel": "PLATINUM"
                                },
                                {
                                    "customerNumber": "237",
                                    "customerName": "ANG Resellers",
                                    "creditLimit": "0.00",
                                    "creditLevel": "SILVER"
                                },
                                {
                                    "customerNumber": "239",
                                    "customerName": "Collectable Mini Designs Co.",
                                    "creditLimit": "105000.00",
                                    "creditLevel": "PLATINUM"
                                },
                                {
                                    "customerNumber": "240",
                                    "customerName": "giftsbymail.co.uk",
                                    "creditLimit": "93900.00",
                                    "creditLevel": "PLATINUM"
                                },
                                {
                                    "customerNumber": "242",
                                    "customerName": "Alpha Cognac",
                                    "creditLimit": "61100.00",
                                    "creditLevel": "PLATINUM"
                                },
                                {
                                    "customerNumber": "247",
                                    "customerName": "Messner Shopping Network",
                                    "creditLimit": "0.00",
                                    "creditLevel": "SILVER"
                                },
                                {
                                    "customerNumber": "249",
                                    "customerName": "Amica Models & Co.",
                                    "creditLimit": "113000.00",
                                    "creditLevel": "PLATINUM"
                                },
                                {
                                    "customerNumber": "250",
                                    "customerName": "Lyon Souveniers",
                                    "creditLimit": "68100.00",
                                    "creditLevel": "PLATINUM"
                                },
                                {
                                    "customerNumber": "256",
                                    "customerName": "Auto Associés & Cie.",
                                    "creditLimit": "77900.00",
                                    "creditLevel": "PLATINUM"
                                },
                                {
                                    "customerNumber": "259",
                                    "customerName": "Toms Spezialitäten, Ltd",
                                    "creditLimit": "120400.00",
                                    "creditLevel": "PLATINUM"
                                },
                                {
                                    "customerNumber": "260",
                                    "customerName": "Royal Canadian Collectables, Ltd.",
                                    "creditLimit": "89600.00",
                                    "creditLevel": "PLATINUM"
                                },
                                {
                                    "customerNumber": "273",
                                    "customerName": "Franken Gifts, Co",
                                    "creditLimit": "0.00",
                                    "creditLevel": "SILVER"
                                },
                                {
                                    "customerNumber": "276",
                                    "customerName": "Anna's Decorations, Ltd",
                                    "creditLimit": "107800.00",
                                    "creditLevel": "PLATINUM"
                                },
                                {
                                    "customerNumber": "278",
                                    "customerName": "Rovelli Gifts",
                                    "creditLimit": "119600.00",
                                    "creditLevel": "PLATINUM"
                                },
                                {
                                    "customerNumber": "282",
                                    "customerName": "Souveniers And Things Co.",
                                    "creditLimit": "93300.00",
                                    "creditLevel": "PLATINUM"
                                },
                                {
                                    "customerNumber": "286",
                                    "customerName": "Marta's Replicas Co.",
                                    "creditLimit": "123700.00",
                                    "creditLevel": "PLATINUM"
                                },
                                {
                                    "customerNumber": "293",
                                    "customerName": "BG&E Collectables",
                                    "creditLimit": "0.00",
                                    "creditLevel": "SILVER"
                                },
                                {
                                    "customerNumber": "298",
                                    "customerName": "Vida Sport, Ltd",
                                    "creditLimit": "141300.00",
                                    "creditLevel": "PLATINUM"
                                },
                                {
                                    "customerNumber": "299",
                                    "customerName": "Norway Gifts By Mail, Co.",
                                    "creditLimit": "95100.00",
                                    "creditLevel": "PLATINUM"
                                },
                                {
                                    "customerNumber": "303",
                                    "customerName": "Schuyler Imports",
                                    "creditLimit": "0.00",
                                    "creditLevel": "SILVER"
                                },
                                {
                                    "customerNumber": "307",
                                    "customerName": "Der Hund Imports",
                                    "creditLimit": "0.00",
                                    "creditLevel": "SILVER"
                                },
                                {
                                    "customerNumber": "311",
                                    "customerName": "Oulu Toy Supplies, Inc.",
                                    "creditLimit": "90500.00",
                                    "creditLevel": "PLATINUM"
                                },
                                {
                                    "customerNumber": "314",
                                    "customerName": "Petit Auto",
                                    "creditLimit": "79900.00",
                                    "creditLevel": "PLATINUM"
                                },
                                {
                                    "customerNumber": "319",
                                    "customerName": "Mini Classics",
                                    "creditLimit": "102700.00",
                                    "creditLevel": "PLATINUM"
                                },
                                {
                                    "customerNumber": "320",
                                    "customerName": "Mini Creations Ltd.",
                                    "creditLimit": "94500.00",
                                    "creditLevel": "PLATINUM"
                                },
                                {
                                    "customerNumber": "321",
                                    "customerName": "Corporate Gift Ideas Co.",
                                    "creditLimit": "105000.00",
                                    "creditLevel": "PLATINUM"
                                },
                                {
                                    "customerNumber": "323",
                                    "customerName": "Down Under Souveniers, Inc",
                                    "creditLimit": "88000.00",
                                    "creditLevel": "PLATINUM"
                                },
                                {
                                    "customerNumber": "324",
                                    "customerName": "Stylish Desk Decors, Co.",
                                    "creditLimit": "77000.00",
                                    "creditLevel": "PLATINUM"
                                },
                                {
                                    "customerNumber": "328",
                                    "customerName": "Tekni Collectables Inc.",
                                    "creditLimit": "43000.00",
                                    "creditLevel": "PLATINUM"
                                },
                                {
                                    "customerNumber": "333",
                                    "customerName": "Australian Gift Network, Co",
                                    "creditLimit": "51600.00",
                                    "creditLevel": "PLATINUM"
                                },
                                {
                                    "customerNumber": "334",
                                    "customerName": "Suominen Souveniers",
                                    "creditLimit": "98800.00",
                                    "creditLevel": "PLATINUM"
                                },
                                {
                                    "customerNumber": "335",
                                    "customerName": "Cramer Spezialitäten, Ltd",
                                    "creditLimit": "0.00",
                                    "creditLevel": "SILVER"
                                },
                                {
                                    "customerNumber": "339",
                                    "customerName": "Classic Gift Ideas, Inc",
                                    "creditLimit": "81100.00",
                                    "creditLevel": "PLATINUM"
                                },
                                {
                                    "customerNumber": "344",
                                    "customerName": "CAF Imports",
                                    "creditLimit": "59600.00",
                                    "creditLevel": "PLATINUM"
                                },
                                {
                                    "customerNumber": "347",
                                    "customerName": "Men 'R' US Retailers, Ltd.",
                                    "creditLimit": "57700.00",
                                    "creditLevel": "PLATINUM"
                                },
                                {
                                    "customerNumber": "348",
                                    "customerName": "Asian Treasures, Inc.",
                                    "creditLimit": "0.00",
                                    "creditLevel": "SILVER"
                                },
                                {
                                    "customerNumber": "350",
                                    "customerName": "Marseille Mini Autos",
                                    "creditLimit": "65000.00",
                                    "creditLevel": "PLATINUM"
                                },
                                {
                                    "customerNumber": "353",
                                    "customerName": "Reims Collectables",
                                    "creditLimit": "81100.00",
                                    "creditLevel": "PLATINUM"
                                },
                                {
                                    "customerNumber": "356",
                                    "customerName": "SAR Distributors, Co",
                                    "creditLimit": "0.00",
                                    "creditLevel": "SILVER"
                                },
                                {
                                    "customerNumber": "357",
                                    "customerName": "GiftsForHim.com",
                                    "creditLimit": "77700.00",
                                    "creditLevel": "PLATINUM"
                                },
                                {
                                    "customerNumber": "361",
                                    "customerName": "Kommission Auto",
                                    "creditLimit": "0.00",
                                    "creditLevel": "SILVER"
                                },
                                {
                                    "customerNumber": "362",
                                    "customerName": "Gifts4AllAges.com",
                                    "creditLimit": "41900.00",
                                    "creditLevel": "PLATINUM"
                                },
                                {
                                    "customerNumber": "363",
                                    "customerName": "Online Diecast Creations Co.",
                                    "creditLimit": "114200.00",
                                    "creditLevel": "PLATINUM"
                                },
                                {
                                    "customerNumber": "369",
                                    "customerName": "Lisboa Souveniers, Inc",
                                    "creditLimit": "0.00",
                                    "creditLevel": "SILVER"
                                },
                                {
                                    "customerNumber": "376",
                                    "customerName": "Precious Collectables",
                                    "creditLimit": "0.00",
                                    "creditLevel": "SILVER"
                                },
                                {
                                    "customerNumber": "379",
                                    "customerName": "Collectables For Less Inc.",
                                    "creditLimit": "70700.00",
                                    "creditLevel": "PLATINUM"
                                },
                                {
                                    "customerNumber": "381",
                                    "customerName": "Royale Belge",
                                    "creditLimit": "23500.00",
                                    "creditLevel": "PLATINUM"
                                },
                                {
                                    "customerNumber": "382",
                                    "customerName": "Salzburg Collectables",
                                    "creditLimit": "71700.00",
                                    "creditLevel": "PLATINUM"
                                },
                                {
                                    "customerNumber": "385",
                                    "customerName": "Cruz & Sons Co.",
                                    "creditLimit": "81500.00",
                                    "creditLevel": "PLATINUM"
                                },
                                {
                                    "customerNumber": "386",
                                    "customerName": "L'ordine Souveniers",
                                    "creditLimit": "121400.00",
                                    "creditLevel": "PLATINUM"
                                },
                                {
                                    "customerNumber": "398",
                                    "customerName": "Tokyo Collectables, Ltd",
                                    "creditLimit": "94400.00",
                                    "creditLevel": "PLATINUM"
                                },
                                {
                                    "customerNumber": "406",
                                    "customerName": "Auto Canal+ Petit",
                                    "creditLimit": "95000.00",
                                    "creditLevel": "PLATINUM"
                                },
                                {
                                    "customerNumber": "409",
                                    "customerName": "Stuttgart Collectable Exchange",
                                    "creditLimit": "0.00",
                                    "creditLevel": "SILVER"
                                },
                                {
                                    "customerNumber": "412",
                                    "customerName": "Extreme Desk Decorations, Ltd",
                                    "creditLimit": "86800.00",
                                    "creditLevel": "PLATINUM"
                                },
                                {
                                    "customerNumber": "415",
                                    "customerName": "Bavarian Collectables Imports, Co.",
                                    "creditLimit": "77000.00",
                                    "creditLevel": "PLATINUM"
                                },
                                {
                                    "customerNumber": "424",
                                    "customerName": "Classic Legends Inc.",
                                    "creditLimit": "67500.00",
                                    "creditLevel": "PLATINUM"
                                },
                                {
                                    "customerNumber": "443",
                                    "customerName": "Feuer Online Stores, Inc",
                                    "creditLimit": "0.00",
                                    "creditLevel": "SILVER"
                                },
                                {
                                    "customerNumber": "447",
                                    "customerName": "Gift Ideas Corp.",
                                    "creditLimit": "49700.00",
                                    "creditLevel": "PLATINUM"
                                },
                                {
                                    "customerNumber": "448",
                                    "customerName": "Scandinavian Gift Ideas",
                                    "creditLimit": "116400.00",
                                    "creditLevel": "PLATINUM"
                                },
                                {
                                    "customerNumber": "450",
                                    "customerName": "The Sharp Gifts Warehouse",
                                    "creditLimit": "77600.00",
                                    "creditLevel": "PLATINUM"
                                },
                                {
                                    "customerNumber": "452",
                                    "customerName": "Mini Auto Werke",
                                    "creditLimit": "45300.00",
                                    "creditLevel": "PLATINUM"
                                },
                                {
                                    "customerNumber": "455",
                                    "customerName": "Super Scale Inc.",
                                    "creditLimit": "95400.00",
                                    "creditLevel": "PLATINUM"
                                },
                                {
                                    "customerNumber": "456",
                                    "customerName": "Microscale Inc.",
                                    "creditLimit": "39800.00",
                                    "creditLevel": "PLATINUM"
                                },
                                {
                                    "customerNumber": "458",
                                    "customerName": "Corrida Auto Replicas, Ltd",
                                    "creditLimit": "104600.00",
                                    "creditLevel": "PLATINUM"
                                },
                                {
                                    "customerNumber": "459",
                                    "customerName": "Warburg Exchange",
                                    "creditLimit": "0.00",
                                    "creditLevel": "SILVER"
                                },
                                {
                                    "customerNumber": "462",
                                    "customerName": "FunGiftIdeas.com",
                                    "creditLimit": "85800.00",
                                    "creditLevel": "PLATINUM"
                                },
                                {
                                    "customerNumber": "465",
                                    "customerName": "Anton Designs, Ltd.",
                                    "creditLimit": "0.00",
                                    "creditLevel": "SILVER"
                                },
                                {
                                    "customerNumber": "471",
                                    "customerName": "Australian Collectables, Ltd",
                                    "creditLimit": "60300.00",
                                    "creditLevel": "PLATINUM"
                                },
                                {
                                    "customerNumber": "473",
                                    "customerName": "Frau da Collezione",
                                    "creditLimit": "34800.00",
                                    "creditLevel": "PLATINUM"
                                },
                                {
                                    "customerNumber": "475",
                                    "customerName": "West Coast Collectables Co.",
                                    "creditLimit": "55400.00",
                                    "creditLevel": "PLATINUM"
                                },
                                {
                                    "customerNumber": "477",
                                    "customerName": "Mit Vergnügen & Co.",
                                    "creditLimit": "0.00",
                                    "creditLevel": "SILVER"
                                },
                                {
                                    "customerNumber": "480",
                                    "customerName": "Kremlin Collectables, Co.",
                                    "creditLimit": "0.00",
                                    "creditLevel": "SILVER"
                                },
                                {
                                    "customerNumber": "481",
                                    "customerName": "Raanan Stores, Inc",
                                    "creditLimit": "0.00",
                                    "creditLevel": "SILVER"
                                },
                                {
                                    "customerNumber": "484",
                                    "customerName": "Iberia Gift Imports, Corp.",
                                    "creditLimit": "65700.00",
                                    "creditLevel": "PLATINUM"
                                },
                                {
                                    "customerNumber": "486",
                                    "customerName": "Motor Mint Distributors Inc.",
                                    "creditLimit": "72600.00",
                                    "creditLevel": "PLATINUM"
                                },
                                {
                                    "customerNumber": "487",
                                    "customerName": "Signal Collectibles Ltd.",
                                    "creditLimit": "60300.00",
                                    "creditLevel": "PLATINUM"
                                },
                                {
                                    "customerNumber": "489",
                                    "customerName": "Double Decker Gift Stores, Ltd",
                                    "creditLimit": "43300.00",
                                    "creditLevel": "PLATINUM"
                                },
                                {
                                    "customerNumber": "495",
                                    "customerName": "Diecast Collectables",
                                    "creditLimit": "85100.00",
                                    "creditLevel": "PLATINUM"
                                },
                                {
                                    "customerNumber": "496",
                                    "customerName": "Kelly's Gift Shop",
                                    "creditLimit": "110000.00",
                                    "creditLevel": "PLATINUM"
                                }
                            ]
                        },
                        "text/html": "<table><tr><th>customerNumber</th><th>customerName</th><th>creditLimit</th><th>creditLevel</th></tr><tr><td>103</td><td>Atelier graphique</td><td>21000.00</td><td>PLATINUM</td></tr><tr><td>112</td><td>Signal Gift Stores</td><td>71800.00</td><td>PLATINUM</td></tr><tr><td>114</td><td>Australian Collectors, Co.</td><td>117300.00</td><td>PLATINUM</td></tr><tr><td>119</td><td>La Rochelle Gifts</td><td>118200.00</td><td>PLATINUM</td></tr><tr><td>121</td><td>Baane Mini Imports</td><td>81700.00</td><td>PLATINUM</td></tr><tr><td>124</td><td>Mini Gifts Distributors Ltd.</td><td>210500.00</td><td>PLATINUM</td></tr><tr><td>125</td><td>Havel &amp; Zbyszek Co</td><td>0.00</td><td>SILVER</td></tr><tr><td>128</td><td>Blauer See Auto, Co.</td><td>59700.00</td><td>PLATINUM</td></tr><tr><td>129</td><td>Mini Wheels Co.</td><td>64600.00</td><td>PLATINUM</td></tr><tr><td>131</td><td>Land of Toys Inc.</td><td>114900.00</td><td>PLATINUM</td></tr><tr><td>141</td><td>Euro+ Shopping Channel</td><td>227600.00</td><td>PLATINUM</td></tr><tr><td>144</td><td>Volvo Model Replicas, Co</td><td>53100.00</td><td>PLATINUM</td></tr><tr><td>145</td><td>Danish Wholesale Imports</td><td>83400.00</td><td>PLATINUM</td></tr><tr><td>146</td><td>Saveley &amp; Henriot, Co.</td><td>123900.00</td><td>PLATINUM</td></tr><tr><td>148</td><td>Dragon Souveniers, Ltd.</td><td>103800.00</td><td>PLATINUM</td></tr><tr><td>151</td><td>Muscle Machine Inc</td><td>138500.00</td><td>PLATINUM</td></tr><tr><td>157</td><td>Diecast Classics Inc.</td><td>100600.00</td><td>PLATINUM</td></tr><tr><td>161</td><td>Technics Stores Inc.</td><td>84600.00</td><td>PLATINUM</td></tr><tr><td>166</td><td>Handji Gifts&amp; Co</td><td>97900.00</td><td>PLATINUM</td></tr><tr><td>167</td><td>Herkku Gifts</td><td>96800.00</td><td>PLATINUM</td></tr><tr><td>168</td><td>American Souvenirs Inc</td><td>0.00</td><td>SILVER</td></tr><tr><td>169</td><td>Porto Imports Co.</td><td>0.00</td><td>SILVER</td></tr><tr><td>171</td><td>Daedalus Designs Imports</td><td>82900.00</td><td>PLATINUM</td></tr><tr><td>172</td><td>La Corne D&#39;abondance, Co.</td><td>84300.00</td><td>PLATINUM</td></tr><tr><td>173</td><td>Cambridge Collectables Co.</td><td>43400.00</td><td>PLATINUM</td></tr><tr><td>175</td><td>Gift Depot Inc.</td><td>84300.00</td><td>PLATINUM</td></tr><tr><td>177</td><td>Osaka Souveniers Co.</td><td>81200.00</td><td>PLATINUM</td></tr><tr><td>181</td><td>Vitachrome Inc.</td><td>76400.00</td><td>PLATINUM</td></tr><tr><td>186</td><td>Toys of Finland, Co.</td><td>96500.00</td><td>PLATINUM</td></tr><tr><td>187</td><td>AV Stores, Co.</td><td>136800.00</td><td>PLATINUM</td></tr><tr><td>189</td><td>Clover Collections, Co.</td><td>69400.00</td><td>PLATINUM</td></tr><tr><td>198</td><td>Auto-Moto Classics Inc.</td><td>23000.00</td><td>PLATINUM</td></tr><tr><td>201</td><td>UK Collectables, Ltd.</td><td>92700.00</td><td>PLATINUM</td></tr><tr><td>202</td><td>Canadian Gift Exchange Network</td><td>90300.00</td><td>PLATINUM</td></tr><tr><td>204</td><td>Online Mini Collectables</td><td>68700.00</td><td>PLATINUM</td></tr><tr><td>205</td><td>Toys4GrownUps.com</td><td>90700.00</td><td>PLATINUM</td></tr><tr><td>206</td><td>Asian Shopping Network, Co</td><td>0.00</td><td>SILVER</td></tr><tr><td>209</td><td>Mini Caravy</td><td>53800.00</td><td>PLATINUM</td></tr><tr><td>211</td><td>King Kong Collectables, Co.</td><td>58600.00</td><td>PLATINUM</td></tr><tr><td>216</td><td>Enaco Distributors</td><td>60300.00</td><td>PLATINUM</td></tr><tr><td>219</td><td>Boards &amp; Toys Co.</td><td>11000.00</td><td>PLATINUM</td></tr><tr><td>223</td><td>Natürlich Autos</td><td>0.00</td><td>SILVER</td></tr><tr><td>227</td><td>Heintze Collectables</td><td>120800.00</td><td>PLATINUM</td></tr><tr><td>233</td><td>Québec Home Shopping Network</td><td>48700.00</td><td>PLATINUM</td></tr><tr><td>237</td><td>ANG Resellers</td><td>0.00</td><td>SILVER</td></tr><tr><td>239</td><td>Collectable Mini Designs Co.</td><td>105000.00</td><td>PLATINUM</td></tr><tr><td>240</td><td>giftsbymail.co.uk</td><td>93900.00</td><td>PLATINUM</td></tr><tr><td>242</td><td>Alpha Cognac</td><td>61100.00</td><td>PLATINUM</td></tr><tr><td>247</td><td>Messner Shopping Network</td><td>0.00</td><td>SILVER</td></tr><tr><td>249</td><td>Amica Models &amp; Co.</td><td>113000.00</td><td>PLATINUM</td></tr><tr><td>250</td><td>Lyon Souveniers</td><td>68100.00</td><td>PLATINUM</td></tr><tr><td>256</td><td>Auto Associés &amp; Cie.</td><td>77900.00</td><td>PLATINUM</td></tr><tr><td>259</td><td>Toms Spezialitäten, Ltd</td><td>120400.00</td><td>PLATINUM</td></tr><tr><td>260</td><td>Royal Canadian Collectables, Ltd.</td><td>89600.00</td><td>PLATINUM</td></tr><tr><td>273</td><td>Franken Gifts, Co</td><td>0.00</td><td>SILVER</td></tr><tr><td>276</td><td>Anna&#39;s Decorations, Ltd</td><td>107800.00</td><td>PLATINUM</td></tr><tr><td>278</td><td>Rovelli Gifts</td><td>119600.00</td><td>PLATINUM</td></tr><tr><td>282</td><td>Souveniers And Things Co.</td><td>93300.00</td><td>PLATINUM</td></tr><tr><td>286</td><td>Marta&#39;s Replicas Co.</td><td>123700.00</td><td>PLATINUM</td></tr><tr><td>293</td><td>BG&amp;E Collectables</td><td>0.00</td><td>SILVER</td></tr><tr><td>298</td><td>Vida Sport, Ltd</td><td>141300.00</td><td>PLATINUM</td></tr><tr><td>299</td><td>Norway Gifts By Mail, Co.</td><td>95100.00</td><td>PLATINUM</td></tr><tr><td>303</td><td>Schuyler Imports</td><td>0.00</td><td>SILVER</td></tr><tr><td>307</td><td>Der Hund Imports</td><td>0.00</td><td>SILVER</td></tr><tr><td>311</td><td>Oulu Toy Supplies, Inc.</td><td>90500.00</td><td>PLATINUM</td></tr><tr><td>314</td><td>Petit Auto</td><td>79900.00</td><td>PLATINUM</td></tr><tr><td>319</td><td>Mini Classics</td><td>102700.00</td><td>PLATINUM</td></tr><tr><td>320</td><td>Mini Creations Ltd.</td><td>94500.00</td><td>PLATINUM</td></tr><tr><td>321</td><td>Corporate Gift Ideas Co.</td><td>105000.00</td><td>PLATINUM</td></tr><tr><td>323</td><td>Down Under Souveniers, Inc</td><td>88000.00</td><td>PLATINUM</td></tr><tr><td>324</td><td>Stylish Desk Decors, Co.</td><td>77000.00</td><td>PLATINUM</td></tr><tr><td>328</td><td>Tekni Collectables Inc.</td><td>43000.00</td><td>PLATINUM</td></tr><tr><td>333</td><td>Australian Gift Network, Co</td><td>51600.00</td><td>PLATINUM</td></tr><tr><td>334</td><td>Suominen Souveniers</td><td>98800.00</td><td>PLATINUM</td></tr><tr><td>335</td><td>Cramer Spezialitäten, Ltd</td><td>0.00</td><td>SILVER</td></tr><tr><td>339</td><td>Classic Gift Ideas, Inc</td><td>81100.00</td><td>PLATINUM</td></tr><tr><td>344</td><td>CAF Imports</td><td>59600.00</td><td>PLATINUM</td></tr><tr><td>347</td><td>Men &#39;R&#39; US Retailers, Ltd.</td><td>57700.00</td><td>PLATINUM</td></tr><tr><td>348</td><td>Asian Treasures, Inc.</td><td>0.00</td><td>SILVER</td></tr><tr><td>350</td><td>Marseille Mini Autos</td><td>65000.00</td><td>PLATINUM</td></tr><tr><td>353</td><td>Reims Collectables</td><td>81100.00</td><td>PLATINUM</td></tr><tr><td>356</td><td>SAR Distributors, Co</td><td>0.00</td><td>SILVER</td></tr><tr><td>357</td><td>GiftsForHim.com</td><td>77700.00</td><td>PLATINUM</td></tr><tr><td>361</td><td>Kommission Auto</td><td>0.00</td><td>SILVER</td></tr><tr><td>362</td><td>Gifts4AllAges.com</td><td>41900.00</td><td>PLATINUM</td></tr><tr><td>363</td><td>Online Diecast Creations Co.</td><td>114200.00</td><td>PLATINUM</td></tr><tr><td>369</td><td>Lisboa Souveniers, Inc</td><td>0.00</td><td>SILVER</td></tr><tr><td>376</td><td>Precious Collectables</td><td>0.00</td><td>SILVER</td></tr><tr><td>379</td><td>Collectables For Less Inc.</td><td>70700.00</td><td>PLATINUM</td></tr><tr><td>381</td><td>Royale Belge</td><td>23500.00</td><td>PLATINUM</td></tr><tr><td>382</td><td>Salzburg Collectables</td><td>71700.00</td><td>PLATINUM</td></tr><tr><td>385</td><td>Cruz &amp; Sons Co.</td><td>81500.00</td><td>PLATINUM</td></tr><tr><td>386</td><td>L&#39;ordine Souveniers</td><td>121400.00</td><td>PLATINUM</td></tr><tr><td>398</td><td>Tokyo Collectables, Ltd</td><td>94400.00</td><td>PLATINUM</td></tr><tr><td>406</td><td>Auto Canal+ Petit</td><td>95000.00</td><td>PLATINUM</td></tr><tr><td>409</td><td>Stuttgart Collectable Exchange</td><td>0.00</td><td>SILVER</td></tr><tr><td>412</td><td>Extreme Desk Decorations, Ltd</td><td>86800.00</td><td>PLATINUM</td></tr><tr><td>415</td><td>Bavarian Collectables Imports, Co.</td><td>77000.00</td><td>PLATINUM</td></tr><tr><td>424</td><td>Classic Legends Inc.</td><td>67500.00</td><td>PLATINUM</td></tr><tr><td>443</td><td>Feuer Online Stores, Inc</td><td>0.00</td><td>SILVER</td></tr><tr><td>447</td><td>Gift Ideas Corp.</td><td>49700.00</td><td>PLATINUM</td></tr><tr><td>448</td><td>Scandinavian Gift Ideas</td><td>116400.00</td><td>PLATINUM</td></tr><tr><td>450</td><td>The Sharp Gifts Warehouse</td><td>77600.00</td><td>PLATINUM</td></tr><tr><td>452</td><td>Mini Auto Werke</td><td>45300.00</td><td>PLATINUM</td></tr><tr><td>455</td><td>Super Scale Inc.</td><td>95400.00</td><td>PLATINUM</td></tr><tr><td>456</td><td>Microscale Inc.</td><td>39800.00</td><td>PLATINUM</td></tr><tr><td>458</td><td>Corrida Auto Replicas, Ltd</td><td>104600.00</td><td>PLATINUM</td></tr><tr><td>459</td><td>Warburg Exchange</td><td>0.00</td><td>SILVER</td></tr><tr><td>462</td><td>FunGiftIdeas.com</td><td>85800.00</td><td>PLATINUM</td></tr><tr><td>465</td><td>Anton Designs, Ltd.</td><td>0.00</td><td>SILVER</td></tr><tr><td>471</td><td>Australian Collectables, Ltd</td><td>60300.00</td><td>PLATINUM</td></tr><tr><td>473</td><td>Frau da Collezione</td><td>34800.00</td><td>PLATINUM</td></tr><tr><td>475</td><td>West Coast Collectables Co.</td><td>55400.00</td><td>PLATINUM</td></tr><tr><td>477</td><td>Mit Vergnügen &amp; Co.</td><td>0.00</td><td>SILVER</td></tr><tr><td>480</td><td>Kremlin Collectables, Co.</td><td>0.00</td><td>SILVER</td></tr><tr><td>481</td><td>Raanan Stores, Inc</td><td>0.00</td><td>SILVER</td></tr><tr><td>484</td><td>Iberia Gift Imports, Corp.</td><td>65700.00</td><td>PLATINUM</td></tr><tr><td>486</td><td>Motor Mint Distributors Inc.</td><td>72600.00</td><td>PLATINUM</td></tr><tr><td>487</td><td>Signal Collectibles Ltd.</td><td>60300.00</td><td>PLATINUM</td></tr><tr><td>489</td><td>Double Decker Gift Stores, Ltd</td><td>43300.00</td><td>PLATINUM</td></tr><tr><td>495</td><td>Diecast Collectables</td><td>85100.00</td><td>PLATINUM</td></tr><tr><td>496</td><td>Kelly&#39;s Gift Shop</td><td>110000.00</td><td>PLATINUM</td></tr></table>"
                    },
                    "metadata": {}
                }
            ],
            "execution_count": 28
        },
        {
            "cell_type": "code",
            "source": [
                "use ecom;\n",
                "\n",
                "DROP PROCEDURE IF EXISTS GetCustomerByCountry;\n",
                "\n",
                "-- input countryName\n",
                "\n",
                "Create PROCEDURE GetCustomerByCountry (\n",
                "    IN countryName VARCHAR(255),\n",
                "    IN take_number INT,\n",
                "    IN skip_number INT\n",
                ")\n",
                "BEGIN\n",
                "    SELECT customerNumber, customerName,creditLimit,  CreditLevel(creditLimit) AS creditLevel, country\n",
                "    FROM customers\n",
                "    WHERE country = countryName\n",
                "    ORDER BY customerName\n",
                "    LIMIT take_number\n",
                "    OFFSET skip_number;\n",
                "END;\n",
                ""
            ],
            "metadata": {
                "language": "sql",
                "azdata_cell_guid": "747f94ce-780c-45d0-95cb-7e8784d2373a"
            },
            "outputs": [
                {
                    "output_type": "display_data",
                    "data": {
                        "text/html": "Commands completed successfully"
                    },
                    "metadata": {}
                },
                {
                    "output_type": "display_data",
                    "data": {
                        "text/html": "Commands completed successfully"
                    },
                    "metadata": {}
                },
                {
                    "output_type": "display_data",
                    "data": {
                        "text/html": "Commands completed successfully"
                    },
                    "metadata": {}
                },
                {
                    "output_type": "display_data",
                    "data": {
                        "text/html": "Total execution time: 00:00:00.031"
                    },
                    "metadata": {}
                }
            ],
            "execution_count": 24
        },
        {
            "cell_type": "code",
            "source": [
                "use ecom;\n",
                "\n",
                "CALL GetCustomerByCountry('USA', 10, 1);"
            ],
            "metadata": {
                "language": "sql",
                "azdata_cell_guid": "3d06b697-0d70-4243-be67-fe0d4c25b6bc",
                "tags": []
            },
            "outputs": [
                {
                    "output_type": "display_data",
                    "data": {
                        "text/html": "Commands completed successfully"
                    },
                    "metadata": {}
                },
                {
                    "output_type": "display_data",
                    "data": {
                        "text/html": "(10 row(s) affected)"
                    },
                    "metadata": {}
                },
                {
                    "output_type": "display_data",
                    "data": {
                        "text/html": "Total execution time: 00:00:01.012"
                    },
                    "metadata": {}
                },
                {
                    "output_type": "execute_result",
                    "execution_count": 22,
                    "data": {
                        "application/vnd.dataresource+json": {
                            "schema": {
                                "fields": [
                                    {
                                        "name": "customerNumber"
                                    },
                                    {
                                        "name": "customerName"
                                    },
                                    {
                                        "name": "creditLimit"
                                    },
                                    {
                                        "name": "creditLevel"
                                    },
                                    {
                                        "name": "country"
                                    }
                                ]
                            },
                            "data": [
                                {
                                    "customerNumber": "198",
                                    "customerName": "Auto-Moto Classics Inc.",
                                    "creditLimit": "23000.00",
                                    "creditLevel": "PLATINUM",
                                    "country": "USA"
                                },
                                {
                                    "customerNumber": "219",
                                    "customerName": "Boards & Toys Co.",
                                    "creditLimit": "11000.00",
                                    "creditLevel": "PLATINUM",
                                    "country": "USA"
                                },
                                {
                                    "customerNumber": "173",
                                    "customerName": "Cambridge Collectables Co.",
                                    "creditLimit": "43400.00",
                                    "creditLevel": "PLATINUM",
                                    "country": "USA"
                                },
                                {
                                    "customerNumber": "339",
                                    "customerName": "Classic Gift Ideas, Inc",
                                    "creditLimit": "81100.00",
                                    "creditLevel": "PLATINUM",
                                    "country": "USA"
                                },
                                {
                                    "customerNumber": "424",
                                    "customerName": "Classic Legends Inc.",
                                    "creditLimit": "67500.00",
                                    "creditLevel": "PLATINUM",
                                    "country": "USA"
                                },
                                {
                                    "customerNumber": "239",
                                    "customerName": "Collectable Mini Designs Co.",
                                    "creditLimit": "105000.00",
                                    "creditLevel": "PLATINUM",
                                    "country": "USA"
                                },
                                {
                                    "customerNumber": "379",
                                    "customerName": "Collectables For Less Inc.",
                                    "creditLimit": "70700.00",
                                    "creditLevel": "PLATINUM",
                                    "country": "USA"
                                },
                                {
                                    "customerNumber": "321",
                                    "customerName": "Corporate Gift Ideas Co.",
                                    "creditLimit": "105000.00",
                                    "creditLevel": "PLATINUM",
                                    "country": "USA"
                                },
                                {
                                    "customerNumber": "157",
                                    "customerName": "Diecast Classics Inc.",
                                    "creditLimit": "100600.00",
                                    "creditLevel": "PLATINUM",
                                    "country": "USA"
                                },
                                {
                                    "customerNumber": "495",
                                    "customerName": "Diecast Collectables",
                                    "creditLimit": "85100.00",
                                    "creditLevel": "PLATINUM",
                                    "country": "USA"
                                }
                            ]
                        },
                        "text/html": "<table><tr><th>customerNumber</th><th>customerName</th><th>creditLimit</th><th>creditLevel</th><th>country</th></tr><tr><td>198</td><td>Auto-Moto Classics Inc.</td><td>23000.00</td><td>PLATINUM</td><td>USA</td></tr><tr><td>219</td><td>Boards &amp; Toys Co.</td><td>11000.00</td><td>PLATINUM</td><td>USA</td></tr><tr><td>173</td><td>Cambridge Collectables Co.</td><td>43400.00</td><td>PLATINUM</td><td>USA</td></tr><tr><td>339</td><td>Classic Gift Ideas, Inc</td><td>81100.00</td><td>PLATINUM</td><td>USA</td></tr><tr><td>424</td><td>Classic Legends Inc.</td><td>67500.00</td><td>PLATINUM</td><td>USA</td></tr><tr><td>239</td><td>Collectable Mini Designs Co.</td><td>105000.00</td><td>PLATINUM</td><td>USA</td></tr><tr><td>379</td><td>Collectables For Less Inc.</td><td>70700.00</td><td>PLATINUM</td><td>USA</td></tr><tr><td>321</td><td>Corporate Gift Ideas Co.</td><td>105000.00</td><td>PLATINUM</td><td>USA</td></tr><tr><td>157</td><td>Diecast Classics Inc.</td><td>100600.00</td><td>PLATINUM</td><td>USA</td></tr><tr><td>495</td><td>Diecast Collectables</td><td>85100.00</td><td>PLATINUM</td><td>USA</td></tr></table>"
                    },
                    "metadata": {}
                }
            ],
            "execution_count": 22
        },
        {
            "cell_type": "code",
            "source": [
                "-- Stored proc to return total order based on the order status\n",
                "\n",
                "\n",
                "use ecom;\n",
                "\n",
                "\n",
                "DROP PROCEDURE IF EXISTS GetTotalOrderByStatus; \n",
                "\n",
                "CREATE PROCEDURE GetTotalOrderByStatus(\n",
                "    IN orderStatus VARCHAR(255),\n",
                "    OUT total INT\n",
                ")\n",
                "BEGIN\n",
                "    SELECT COUNT(orderNumber) \n",
                "    INTO total\n",
                "    FROM orders \n",
                "    WHERE status = orderStatus;\n",
                "END \n",
                "\n",
                ""
            ],
            "metadata": {
                "language": "sql",
                "azdata_cell_guid": "cf7c6fff-502b-4f8f-901f-f2e41e15f096",
                "tags": []
            },
            "outputs": [
                {
                    "output_type": "display_data",
                    "data": {
                        "text/html": "Commands completed successfully"
                    },
                    "metadata": {}
                },
                {
                    "output_type": "display_data",
                    "data": {
                        "text/html": "Commands completed successfully"
                    },
                    "metadata": {}
                },
                {
                    "output_type": "display_data",
                    "data": {
                        "text/html": "Commands completed successfully"
                    },
                    "metadata": {}
                },
                {
                    "output_type": "display_data",
                    "data": {
                        "text/html": "Total execution time: 00:00:00.035"
                    },
                    "metadata": {}
                }
            ],
            "execution_count": 37
        },
        {
            "cell_type": "code",
            "source": [
                "use ecom;\n",
                "\n",
                "\n",
                "CALL GetTotalOrderByStatus('shipped', @shippedCount);\n",
                "CALL GetTotalOrderByStatus('disputed', @disputedCcount);\n",
                "\n",
                "\n",
                "SELECT @count AS shipped, @disputedCcount AS disputed;\n",
                "\n",
                "SHOW PROCEDURE STATUS WHERE Db = 'ecom';\n",
                ""
            ],
            "metadata": {
                "language": "sql",
                "azdata_cell_guid": "58c184f5-8f41-4658-806a-3cd08af995b9",
                "tags": []
            },
            "outputs": [
                {
                    "output_type": "display_data",
                    "data": {
                        "text/html": "Commands completed successfully"
                    },
                    "metadata": {}
                },
                {
                    "output_type": "display_data",
                    "data": {
                        "text/html": "Commands completed successfully"
                    },
                    "metadata": {}
                },
                {
                    "output_type": "display_data",
                    "data": {
                        "text/html": "Commands completed successfully"
                    },
                    "metadata": {}
                },
                {
                    "output_type": "display_data",
                    "data": {
                        "text/html": "(1 row(s) affected)"
                    },
                    "metadata": {}
                },
                {
                    "output_type": "display_data",
                    "data": {
                        "text/html": "(3 row(s) affected)"
                    },
                    "metadata": {}
                },
                {
                    "output_type": "display_data",
                    "data": {
                        "text/html": "Total execution time: 00:00:02.030"
                    },
                    "metadata": {}
                },
                {
                    "output_type": "execute_result",
                    "execution_count": 51,
                    "data": {
                        "application/vnd.dataresource+json": {
                            "schema": {
                                "fields": [
                                    {
                                        "name": "shipped"
                                    },
                                    {
                                        "name": "disputed"
                                    }
                                ]
                            },
                            "data": [
                                {
                                    "shipped": "303",
                                    "disputed": "3"
                                }
                            ]
                        },
                        "text/html": "<table><tr><th>shipped</th><th>disputed</th></tr><tr><td>303</td><td>3</td></tr></table>"
                    },
                    "metadata": {}
                },
                {
                    "output_type": "execute_result",
                    "execution_count": 51,
                    "data": {
                        "application/vnd.dataresource+json": {
                            "schema": {
                                "fields": [
                                    {
                                        "name": "Db"
                                    },
                                    {
                                        "name": "Name"
                                    },
                                    {
                                        "name": "Type"
                                    },
                                    {
                                        "name": "Definer"
                                    },
                                    {
                                        "name": "Modified"
                                    },
                                    {
                                        "name": "Created"
                                    },
                                    {
                                        "name": "Security_type"
                                    },
                                    {
                                        "name": "Comment"
                                    },
                                    {
                                        "name": "character_set_client"
                                    },
                                    {
                                        "name": "collation_connection"
                                    },
                                    {
                                        "name": "Database Collation"
                                    }
                                ]
                            },
                            "data": [
                                {
                                    "Db": "ecom",
                                    "Name": "GetCustomerByCountry",
                                    "Type": "PROCEDURE",
                                    "Definer": "irfan@localhost",
                                    "Modified": "2024-07-14 16:04:57",
                                    "Created": "2024-07-14 16:04:57",
                                    "Security_type": "DEFINER",
                                    "Comment": "b''",
                                    "character_set_client": "utf8mb4",
                                    "collation_connection": "utf8mb4_0900_ai_ci",
                                    "Database Collation": "utf8mb4_0900_ai_ci"
                                },
                                {
                                    "Db": "ecom",
                                    "Name": "GetCustomerWithLevel",
                                    "Type": "PROCEDURE",
                                    "Definer": "irfan@localhost",
                                    "Modified": "2024-07-14 11:50:40",
                                    "Created": "2024-07-14 11:50:40",
                                    "Security_type": "DEFINER",
                                    "Comment": "b''",
                                    "character_set_client": "utf8mb4",
                                    "collation_connection": "utf8mb4_0900_ai_ci",
                                    "Database Collation": "utf8mb4_0900_ai_ci"
                                },
                                {
                                    "Db": "ecom",
                                    "Name": "GetTotalOrderByStatus",
                                    "Type": "PROCEDURE",
                                    "Definer": "irfan@localhost",
                                    "Modified": "2024-07-14 16:35:09",
                                    "Created": "2024-07-14 16:23:25",
                                    "Security_type": "DEFINER",
                                    "Comment": "b'Get Total Order By Status'",
                                    "character_set_client": "utf8mb4",
                                    "collation_connection": "utf8mb4_0900_ai_ci",
                                    "Database Collation": "utf8mb4_0900_ai_ci"
                                }
                            ]
                        },
                        "text/html": "<table><tr><th>Db</th><th>Name</th><th>Type</th><th>Definer</th><th>Modified</th><th>Created</th><th>Security_type</th><th>Comment</th><th>character_set_client</th><th>collation_connection</th><th>Database Collation</th></tr><tr><td>ecom</td><td>GetCustomerByCountry</td><td>PROCEDURE</td><td>irfan@localhost</td><td>2024-07-14 16:04:57</td><td>2024-07-14 16:04:57</td><td>DEFINER</td><td>b&#39;&#39;</td><td>utf8mb4</td><td>utf8mb4_0900_ai_ci</td><td>utf8mb4_0900_ai_ci</td></tr><tr><td>ecom</td><td>GetCustomerWithLevel</td><td>PROCEDURE</td><td>irfan@localhost</td><td>2024-07-14 11:50:40</td><td>2024-07-14 11:50:40</td><td>DEFINER</td><td>b&#39;&#39;</td><td>utf8mb4</td><td>utf8mb4_0900_ai_ci</td><td>utf8mb4_0900_ai_ci</td></tr><tr><td>ecom</td><td>GetTotalOrderByStatus</td><td>PROCEDURE</td><td>irfan@localhost</td><td>2024-07-14 16:35:09</td><td>2024-07-14 16:23:25</td><td>DEFINER</td><td>b&#39;Get Total Order By Status&#39;</td><td>utf8mb4</td><td>utf8mb4_0900_ai_ci</td><td>utf8mb4_0900_ai_ci</td></tr></table>"
                    },
                    "metadata": {}
                }
            ],
            "execution_count": 51
        },
        {
            "cell_type": "code",
            "source": [
                "CREATE PROCEDURE SetCounter(\n",
                "\tINOUT counter INT,\n",
                "    IN inc INT\n",
                ")\n",
                "BEGIN\n",
                "\tSET counter = counter + inc;\n",
                "END\n",
                ""
            ],
            "metadata": {
                "azdata_cell_guid": "ecbc9ccf-1c70-466e-adc9-c027d5c36479",
                "language": "sql"
            },
            "outputs": [
                {
                    "output_type": "display_data",
                    "data": {
                        "text/html": "Commands completed successfully"
                    },
                    "metadata": {}
                },
                {
                    "output_type": "display_data",
                    "data": {
                        "text/html": "Total execution time: 00:00:00.022"
                    },
                    "metadata": {}
                }
            ],
            "execution_count": 52
        },
        {
            "cell_type": "code",
            "source": [
                "SET @counter = 1;\n",
                "CALL SetCounter(@counter,1); -- 2\n",
                "CALL SetCounter(@counter,1); -- 3\n",
                "CALL SetCounter(@counter,5); -- 8\n",
                "SELECT @counter; -- 8"
            ],
            "metadata": {
                "language": "sql",
                "azdata_cell_guid": "0f4c4614-3d42-41b0-900b-ebbd24c3c28a"
            },
            "outputs": [
                {
                    "output_type": "display_data",
                    "data": {
                        "text/html": "Commands completed successfully"
                    },
                    "metadata": {}
                },
                {
                    "output_type": "display_data",
                    "data": {
                        "text/html": "Commands completed successfully"
                    },
                    "metadata": {}
                },
                {
                    "output_type": "display_data",
                    "data": {
                        "text/html": "Commands completed successfully"
                    },
                    "metadata": {}
                },
                {
                    "output_type": "display_data",
                    "data": {
                        "text/html": "Commands completed successfully"
                    },
                    "metadata": {}
                },
                {
                    "output_type": "display_data",
                    "data": {
                        "text/html": "(1 row(s) affected)"
                    },
                    "metadata": {}
                },
                {
                    "output_type": "display_data",
                    "data": {
                        "text/html": "Total execution time: 00:00:01.015"
                    },
                    "metadata": {}
                },
                {
                    "output_type": "execute_result",
                    "execution_count": 54,
                    "data": {
                        "application/vnd.dataresource+json": {
                            "schema": {
                                "fields": [
                                    {
                                        "name": "@counter"
                                    }
                                ]
                            },
                            "data": [
                                {
                                    "@counter": "8"
                                }
                            ]
                        },
                        "text/html": "<table><tr><th>@counter</th></tr><tr><td>8</td></tr></table>"
                    },
                    "metadata": {}
                }
            ],
            "execution_count": 54
        },
        {
            "cell_type": "code",
            "source": [
                "ALTER PROCEDURE GetTotalOrderByStatus COMMENT \"Get Total Order By Status\""
            ],
            "metadata": {
                "language": "sql",
                "azdata_cell_guid": "8b3250de-cbdb-4362-8b9c-c19c3e354be5"
            },
            "outputs": [
                {
                    "output_type": "display_data",
                    "data": {
                        "text/html": "Commands completed successfully"
                    },
                    "metadata": {}
                },
                {
                    "output_type": "display_data",
                    "data": {
                        "text/html": "Total execution time: 00:00:00.015"
                    },
                    "metadata": {}
                }
            ],
            "execution_count": 50
        },
        {
            "cell_type": "code",
            "source": [
                "SELECT \n",
                "\t  orderNumber ,DATEDIFF(shippedDate, requiredDate) FROM \n",
                "\t  orders ;"
            ],
            "metadata": {
                "language": "sql",
                "azdata_cell_guid": "a7739ab2-0b9d-4013-b8b4-1df57a889894"
            },
            "outputs": [
                {
                    "output_type": "display_data",
                    "data": {
                        "text/html": "(326 row(s) affected)"
                    },
                    "metadata": {}
                },
                {
                    "output_type": "display_data",
                    "data": {
                        "text/html": "Total execution time: 00:00:01.006"
                    },
                    "metadata": {}
                },
                {
                    "output_type": "execute_result",
                    "execution_count": 59,
                    "data": {
                        "application/vnd.dataresource+json": {
                            "schema": {
                                "fields": [
                                    {
                                        "name": "orderNumber"
                                    },
                                    {
                                        "name": "DATEDIFF(shippedDate, requiredDate)"
                                    }
                                ]
                            },
                            "data": [
                                {
                                    "orderNumber": "10100",
                                    "DATEDIFF(shippedDate, requiredDate)": "-3"
                                },
                                {
                                    "orderNumber": "10101",
                                    "DATEDIFF(shippedDate, requiredDate)": "-7"
                                },
                                {
                                    "orderNumber": "10102",
                                    "DATEDIFF(shippedDate, requiredDate)": "-4"
                                },
                                {
                                    "orderNumber": "10103",
                                    "DATEDIFF(shippedDate, requiredDate)": "-5"
                                },
                                {
                                    "orderNumber": "10104",
                                    "DATEDIFF(shippedDate, requiredDate)": "-8"
                                },
                                {
                                    "orderNumber": "10105",
                                    "DATEDIFF(shippedDate, requiredDate)": "-9"
                                },
                                {
                                    "orderNumber": "10106",
                                    "DATEDIFF(shippedDate, requiredDate)": "-3"
                                },
                                {
                                    "orderNumber": "10107",
                                    "DATEDIFF(shippedDate, requiredDate)": "-5"
                                },
                                {
                                    "orderNumber": "10108",
                                    "DATEDIFF(shippedDate, requiredDate)": "-4"
                                },
                                {
                                    "orderNumber": "10109",
                                    "DATEDIFF(shippedDate, requiredDate)": "-8"
                                },
                                {
                                    "orderNumber": "10110",
                                    "DATEDIFF(shippedDate, requiredDate)": "-4"
                                },
                                {
                                    "orderNumber": "10111",
                                    "DATEDIFF(shippedDate, requiredDate)": "-1"
                                },
                                {
                                    "orderNumber": "10112",
                                    "DATEDIFF(shippedDate, requiredDate)": "-5"
                                },
                                {
                                    "orderNumber": "10113",
                                    "DATEDIFF(shippedDate, requiredDate)": "-6"
                                },
                                {
                                    "orderNumber": "10114",
                                    "DATEDIFF(shippedDate, requiredDate)": "-5"
                                },
                                {
                                    "orderNumber": "10115",
                                    "DATEDIFF(shippedDate, requiredDate)": "-5"
                                },
                                {
                                    "orderNumber": "10116",
                                    "DATEDIFF(shippedDate, requiredDate)": "-6"
                                },
                                {
                                    "orderNumber": "10117",
                                    "DATEDIFF(shippedDate, requiredDate)": "-7"
                                },
                                {
                                    "orderNumber": "10118",
                                    "DATEDIFF(shippedDate, requiredDate)": "-3"
                                },
                                {
                                    "orderNumber": "10119",
                                    "DATEDIFF(shippedDate, requiredDate)": "-3"
                                },
                                {
                                    "orderNumber": "10120",
                                    "DATEDIFF(shippedDate, requiredDate)": "-7"
                                },
                                {
                                    "orderNumber": "10121",
                                    "DATEDIFF(shippedDate, requiredDate)": "0"
                                },
                                {
                                    "orderNumber": "10122",
                                    "DATEDIFF(shippedDate, requiredDate)": "-3"
                                },
                                {
                                    "orderNumber": "10123",
                                    "DATEDIFF(shippedDate, requiredDate)": "-7"
                                },
                                {
                                    "orderNumber": "10124",
                                    "DATEDIFF(shippedDate, requiredDate)": "-4"
                                },
                                {
                                    "orderNumber": "10125",
                                    "DATEDIFF(shippedDate, requiredDate)": "-3"
                                },
                                {
                                    "orderNumber": "10126",
                                    "DATEDIFF(shippedDate, requiredDate)": "-5"
                                },
                                {
                                    "orderNumber": "10127",
                                    "DATEDIFF(shippedDate, requiredDate)": "-3"
                                },
                                {
                                    "orderNumber": "10128",
                                    "DATEDIFF(shippedDate, requiredDate)": "-1"
                                },
                                {
                                    "orderNumber": "10129",
                                    "DATEDIFF(shippedDate, requiredDate)": "-4"
                                },
                                {
                                    "orderNumber": "10130",
                                    "DATEDIFF(shippedDate, requiredDate)": "-3"
                                },
                                {
                                    "orderNumber": "10131",
                                    "DATEDIFF(shippedDate, requiredDate)": "-4"
                                },
                                {
                                    "orderNumber": "10132",
                                    "DATEDIFF(shippedDate, requiredDate)": "-3"
                                },
                                {
                                    "orderNumber": "10133",
                                    "DATEDIFF(shippedDate, requiredDate)": "-1"
                                },
                                {
                                    "orderNumber": "10134",
                                    "DATEDIFF(shippedDate, requiredDate)": "-5"
                                },
                                {
                                    "orderNumber": "10135",
                                    "DATEDIFF(shippedDate, requiredDate)": "-9"
                                },
                                {
                                    "orderNumber": "10136",
                                    "DATEDIFF(shippedDate, requiredDate)": "-8"
                                },
                                {
                                    "orderNumber": "10137",
                                    "DATEDIFF(shippedDate, requiredDate)": "-6"
                                },
                                {
                                    "orderNumber": "10138",
                                    "DATEDIFF(shippedDate, requiredDate)": "-3"
                                },
                                {
                                    "orderNumber": "10139",
                                    "DATEDIFF(shippedDate, requiredDate)": "-2"
                                },
                                {
                                    "orderNumber": "10140",
                                    "DATEDIFF(shippedDate, requiredDate)": "-3"
                                },
                                {
                                    "orderNumber": "10141",
                                    "DATEDIFF(shippedDate, requiredDate)": "-5"
                                },
                                {
                                    "orderNumber": "10142",
                                    "DATEDIFF(shippedDate, requiredDate)": "-3"
                                },
                                {
                                    "orderNumber": "10143",
                                    "DATEDIFF(shippedDate, requiredDate)": "-6"
                                },
                                {
                                    "orderNumber": "10144",
                                    "DATEDIFF(shippedDate, requiredDate)": "-7"
                                },
                                {
                                    "orderNumber": "10145",
                                    "DATEDIFF(shippedDate, requiredDate)": "-2"
                                },
                                {
                                    "orderNumber": "10146",
                                    "DATEDIFF(shippedDate, requiredDate)": "-7"
                                },
                                {
                                    "orderNumber": "10147",
                                    "DATEDIFF(shippedDate, requiredDate)": "-3"
                                },
                                {
                                    "orderNumber": "10148",
                                    "DATEDIFF(shippedDate, requiredDate)": "-6"
                                },
                                {
                                    "orderNumber": "10149",
                                    "DATEDIFF(shippedDate, requiredDate)": "-1"
                                },
                                {
                                    "orderNumber": "10150",
                                    "DATEDIFF(shippedDate, requiredDate)": "-6"
                                },
                                {
                                    "orderNumber": "10151",
                                    "DATEDIFF(shippedDate, requiredDate)": "-6"
                                },
                                {
                                    "orderNumber": "10152",
                                    "DATEDIFF(shippedDate, requiredDate)": "-2"
                                },
                                {
                                    "orderNumber": "10153",
                                    "DATEDIFF(shippedDate, requiredDate)": "-2"
                                },
                                {
                                    "orderNumber": "10154",
                                    "DATEDIFF(shippedDate, requiredDate)": "-4"
                                },
                                {
                                    "orderNumber": "10155",
                                    "DATEDIFF(shippedDate, requiredDate)": "-6"
                                },
                                {
                                    "orderNumber": "10156",
                                    "DATEDIFF(shippedDate, requiredDate)": "-6"
                                },
                                {
                                    "orderNumber": "10157",
                                    "DATEDIFF(shippedDate, requiredDate)": "-1"
                                },
                                {
                                    "orderNumber": "10158",
                                    "DATEDIFF(shippedDate, requiredDate)": "-3"
                                },
                                {
                                    "orderNumber": "10159",
                                    "DATEDIFF(shippedDate, requiredDate)": "-3"
                                },
                                {
                                    "orderNumber": "10160",
                                    "DATEDIFF(shippedDate, requiredDate)": "0"
                                },
                                {
                                    "orderNumber": "10161",
                                    "DATEDIFF(shippedDate, requiredDate)": "-5"
                                },
                                {
                                    "orderNumber": "10162",
                                    "DATEDIFF(shippedDate, requiredDate)": "-7"
                                },
                                {
                                    "orderNumber": "10163",
                                    "DATEDIFF(shippedDate, requiredDate)": "-3"
                                },
                                {
                                    "orderNumber": "10164",
                                    "DATEDIFF(shippedDate, requiredDate)": "-7"
                                },
                                {
                                    "orderNumber": "10165",
                                    "DATEDIFF(shippedDate, requiredDate)": "56"
                                },
                                {
                                    "orderNumber": "10166",
                                    "DATEDIFF(shippedDate, requiredDate)": "-3"
                                },
                                {
                                    "orderNumber": "10167",
                                    "DATEDIFF(shippedDate, requiredDate)": "NULL"
                                },
                                {
                                    "orderNumber": "10168",
                                    "DATEDIFF(shippedDate, requiredDate)": "-2"
                                },
                                {
                                    "orderNumber": "10169",
                                    "DATEDIFF(shippedDate, requiredDate)": "-5"
                                },
                                {
                                    "orderNumber": "10170",
                                    "DATEDIFF(shippedDate, requiredDate)": "-5"
                                },
                                {
                                    "orderNumber": "10171",
                                    "DATEDIFF(shippedDate, requiredDate)": "-6"
                                },
                                {
                                    "orderNumber": "10172",
                                    "DATEDIFF(shippedDate, requiredDate)": "-3"
                                },
                                {
                                    "orderNumber": "10173",
                                    "DATEDIFF(shippedDate, requiredDate)": "-6"
                                },
                                {
                                    "orderNumber": "10174",
                                    "DATEDIFF(shippedDate, requiredDate)": "-5"
                                },
                                {
                                    "orderNumber": "10175",
                                    "DATEDIFF(shippedDate, requiredDate)": "-5"
                                },
                                {
                                    "orderNumber": "10176",
                                    "DATEDIFF(shippedDate, requiredDate)": "-3"
                                },
                                {
                                    "orderNumber": "10177",
                                    "DATEDIFF(shippedDate, requiredDate)": "-5"
                                },
                                {
                                    "orderNumber": "10178",
                                    "DATEDIFF(shippedDate, requiredDate)": "-6"
                                },
                                {
                                    "orderNumber": "10179",
                                    "DATEDIFF(shippedDate, requiredDate)": "-4"
                                },
                                {
                                    "orderNumber": "10180",
                                    "DATEDIFF(shippedDate, requiredDate)": "-5"
                                },
                                {
                                    "orderNumber": "10181",
                                    "DATEDIFF(shippedDate, requiredDate)": "-4"
                                },
                                {
                                    "orderNumber": "10182",
                                    "DATEDIFF(shippedDate, requiredDate)": "-3"
                                },
                                {
                                    "orderNumber": "10183",
                                    "DATEDIFF(shippedDate, requiredDate)": "-7"
                                },
                                {
                                    "orderNumber": "10184",
                                    "DATEDIFF(shippedDate, requiredDate)": "-2"
                                },
                                {
                                    "orderNumber": "10185",
                                    "DATEDIFF(shippedDate, requiredDate)": "-1"
                                },
                                {
                                    "orderNumber": "10186",
                                    "DATEDIFF(shippedDate, requiredDate)": "-2"
                                },
                                {
                                    "orderNumber": "10187",
                                    "DATEDIFF(shippedDate, requiredDate)": "-8"
                                },
                                {
                                    "orderNumber": "10188",
                                    "DATEDIFF(shippedDate, requiredDate)": "-2"
                                },
                                {
                                    "orderNumber": "10189",
                                    "DATEDIFF(shippedDate, requiredDate)": "-1"
                                },
                                {
                                    "orderNumber": "10190",
                                    "DATEDIFF(shippedDate, requiredDate)": "-9"
                                },
                                {
                                    "orderNumber": "10191",
                                    "DATEDIFF(shippedDate, requiredDate)": "-6"
                                },
                                {
                                    "orderNumber": "10192",
                                    "DATEDIFF(shippedDate, requiredDate)": "-4"
                                },
                                {
                                    "orderNumber": "10193",
                                    "DATEDIFF(shippedDate, requiredDate)": "-1"
                                },
                                {
                                    "orderNumber": "10194",
                                    "DATEDIFF(shippedDate, requiredDate)": "-6"
                                },
                                {
                                    "orderNumber": "10195",
                                    "DATEDIFF(shippedDate, requiredDate)": "-3"
                                },
                                {
                                    "orderNumber": "10196",
                                    "DATEDIFF(shippedDate, requiredDate)": "-2"
                                },
                                {
                                    "orderNumber": "10197",
                                    "DATEDIFF(shippedDate, requiredDate)": "-1"
                                },
                                {
                                    "orderNumber": "10198",
                                    "DATEDIFF(shippedDate, requiredDate)": "-3"
                                },
                                {
                                    "orderNumber": "10199",
                                    "DATEDIFF(shippedDate, requiredDate)": "-4"
                                },
                                {
                                    "orderNumber": "10200",
                                    "DATEDIFF(shippedDate, requiredDate)": "-3"
                                },
                                {
                                    "orderNumber": "10201",
                                    "DATEDIFF(shippedDate, requiredDate)": "-9"
                                },
                                {
                                    "orderNumber": "10202",
                                    "DATEDIFF(shippedDate, requiredDate)": "-3"
                                },
                                {
                                    "orderNumber": "10203",
                                    "DATEDIFF(shippedDate, requiredDate)": "-4"
                                },
                                {
                                    "orderNumber": "10204",
                                    "DATEDIFF(shippedDate, requiredDate)": "-6"
                                },
                                {
                                    "orderNumber": "10205",
                                    "DATEDIFF(shippedDate, requiredDate)": "-2"
                                },
                                {
                                    "orderNumber": "10206",
                                    "DATEDIFF(shippedDate, requiredDate)": "-5"
                                },
                                {
                                    "orderNumber": "10207",
                                    "DATEDIFF(shippedDate, requiredDate)": "-6"
                                },
                                {
                                    "orderNumber": "10208",
                                    "DATEDIFF(shippedDate, requiredDate)": "-7"
                                },
                                {
                                    "orderNumber": "10209",
                                    "DATEDIFF(shippedDate, requiredDate)": "-3"
                                },
                                {
                                    "orderNumber": "10210",
                                    "DATEDIFF(shippedDate, requiredDate)": "-2"
                                },
                                {
                                    "orderNumber": "10211",
                                    "DATEDIFF(shippedDate, requiredDate)": "-7"
                                },
                                {
                                    "orderNumber": "10212",
                                    "DATEDIFF(shippedDate, requiredDate)": "-6"
                                },
                                {
                                    "orderNumber": "10213",
                                    "DATEDIFF(shippedDate, requiredDate)": "-1"
                                },
                                {
                                    "orderNumber": "10214",
                                    "DATEDIFF(shippedDate, requiredDate)": "-6"
                                },
                                {
                                    "orderNumber": "10215",
                                    "DATEDIFF(shippedDate, requiredDate)": "-7"
                                },
                                {
                                    "orderNumber": "10216",
                                    "DATEDIFF(shippedDate, requiredDate)": "-6"
                                },
                                {
                                    "orderNumber": "10217",
                                    "DATEDIFF(shippedDate, requiredDate)": "-8"
                                },
                                {
                                    "orderNumber": "10218",
                                    "DATEDIFF(shippedDate, requiredDate)": "-5"
                                },
                                {
                                    "orderNumber": "10219",
                                    "DATEDIFF(shippedDate, requiredDate)": "-5"
                                },
                                {
                                    "orderNumber": "10220",
                                    "DATEDIFF(shippedDate, requiredDate)": "-3"
                                },
                                {
                                    "orderNumber": "10221",
                                    "DATEDIFF(shippedDate, requiredDate)": "-7"
                                },
                                {
                                    "orderNumber": "10222",
                                    "DATEDIFF(shippedDate, requiredDate)": "-7"
                                },
                                {
                                    "orderNumber": "10223",
                                    "DATEDIFF(shippedDate, requiredDate)": "-5"
                                },
                                {
                                    "orderNumber": "10224",
                                    "DATEDIFF(shippedDate, requiredDate)": "-5"
                                },
                                {
                                    "orderNumber": "10225",
                                    "DATEDIFF(shippedDate, requiredDate)": "-6"
                                },
                                {
                                    "orderNumber": "10226",
                                    "DATEDIFF(shippedDate, requiredDate)": "-4"
                                },
                                {
                                    "orderNumber": "10227",
                                    "DATEDIFF(shippedDate, requiredDate)": "-4"
                                },
                                {
                                    "orderNumber": "10228",
                                    "DATEDIFF(shippedDate, requiredDate)": "-5"
                                },
                                {
                                    "orderNumber": "10229",
                                    "DATEDIFF(shippedDate, requiredDate)": "-8"
                                },
                                {
                                    "orderNumber": "10230",
                                    "DATEDIFF(shippedDate, requiredDate)": "-4"
                                },
                                {
                                    "orderNumber": "10231",
                                    "DATEDIFF(shippedDate, requiredDate)": "-1"
                                },
                                {
                                    "orderNumber": "10232",
                                    "DATEDIFF(shippedDate, requiredDate)": "-5"
                                },
                                {
                                    "orderNumber": "10233",
                                    "DATEDIFF(shippedDate, requiredDate)": "-2"
                                },
                                {
                                    "orderNumber": "10234",
                                    "DATEDIFF(shippedDate, requiredDate)": "-3"
                                },
                                {
                                    "orderNumber": "10235",
                                    "DATEDIFF(shippedDate, requiredDate)": "-6"
                                },
                                {
                                    "orderNumber": "10236",
                                    "DATEDIFF(shippedDate, requiredDate)": "-3"
                                },
                                {
                                    "orderNumber": "10237",
                                    "DATEDIFF(shippedDate, requiredDate)": "-2"
                                },
                                {
                                    "orderNumber": "10238",
                                    "DATEDIFF(shippedDate, requiredDate)": "-6"
                                },
                                {
                                    "orderNumber": "10239",
                                    "DATEDIFF(shippedDate, requiredDate)": "-4"
                                },
                                {
                                    "orderNumber": "10240",
                                    "DATEDIFF(shippedDate, requiredDate)": "0"
                                },
                                {
                                    "orderNumber": "10241",
                                    "DATEDIFF(shippedDate, requiredDate)": "-1"
                                },
                                {
                                    "orderNumber": "10242",
                                    "DATEDIFF(shippedDate, requiredDate)": "-3"
                                },
                                {
                                    "orderNumber": "10243",
                                    "DATEDIFF(shippedDate, requiredDate)": "-5"
                                },
                                {
                                    "orderNumber": "10244",
                                    "DATEDIFF(shippedDate, requiredDate)": "-5"
                                },
                                {
                                    "orderNumber": "10245",
                                    "DATEDIFF(shippedDate, requiredDate)": "-3"
                                },
                                {
                                    "orderNumber": "10246",
                                    "DATEDIFF(shippedDate, requiredDate)": "-7"
                                },
                                {
                                    "orderNumber": "10247",
                                    "DATEDIFF(shippedDate, requiredDate)": "-3"
                                },
                                {
                                    "orderNumber": "10248",
                                    "DATEDIFF(shippedDate, requiredDate)": "NULL"
                                },
                                {
                                    "orderNumber": "10249",
                                    "DATEDIFF(shippedDate, requiredDate)": "-6"
                                },
                                {
                                    "orderNumber": "10250",
                                    "DATEDIFF(shippedDate, requiredDate)": "-4"
                                },
                                {
                                    "orderNumber": "10251",
                                    "DATEDIFF(shippedDate, requiredDate)": "0"
                                },
                                {
                                    "orderNumber": "10252",
                                    "DATEDIFF(shippedDate, requiredDate)": "-6"
                                },
                                {
                                    "orderNumber": "10253",
                                    "DATEDIFF(shippedDate, requiredDate)": "-7"
                                },
                                {
                                    "orderNumber": "10254",
                                    "DATEDIFF(shippedDate, requiredDate)": "-9"
                                },
                                {
                                    "orderNumber": "10255",
                                    "DATEDIFF(shippedDate, requiredDate)": "-3"
                                },
                                {
                                    "orderNumber": "10256",
                                    "DATEDIFF(shippedDate, requiredDate)": "-6"
                                },
                                {
                                    "orderNumber": "10257",
                                    "DATEDIFF(shippedDate, requiredDate)": "-9"
                                },
                                {
                                    "orderNumber": "10258",
                                    "DATEDIFF(shippedDate, requiredDate)": "-2"
                                },
                                {
                                    "orderNumber": "10259",
                                    "DATEDIFF(shippedDate, requiredDate)": "-5"
                                },
                                {
                                    "orderNumber": "10260",
                                    "DATEDIFF(shippedDate, requiredDate)": "NULL"
                                },
                                {
                                    "orderNumber": "10261",
                                    "DATEDIFF(shippedDate, requiredDate)": "-3"
                                },
                                {
                                    "orderNumber": "10262",
                                    "DATEDIFF(shippedDate, requiredDate)": "NULL"
                                },
                                {
                                    "orderNumber": "10263",
                                    "DATEDIFF(shippedDate, requiredDate)": "-2"
                                },
                                {
                                    "orderNumber": "10264",
                                    "DATEDIFF(shippedDate, requiredDate)": "-5"
                                },
                                {
                                    "orderNumber": "10265",
                                    "DATEDIFF(shippedDate, requiredDate)": "-2"
                                },
                                {
                                    "orderNumber": "10266",
                                    "DATEDIFF(shippedDate, requiredDate)": "-4"
                                },
                                {
                                    "orderNumber": "10267",
                                    "DATEDIFF(shippedDate, requiredDate)": "-8"
                                },
                                {
                                    "orderNumber": "10268",
                                    "DATEDIFF(shippedDate, requiredDate)": "-4"
                                },
                                {
                                    "orderNumber": "10269",
                                    "DATEDIFF(shippedDate, requiredDate)": "-4"
                                },
                                {
                                    "orderNumber": "10270",
                                    "DATEDIFF(shippedDate, requiredDate)": "-3"
                                },
                                {
                                    "orderNumber": "10271",
                                    "DATEDIFF(shippedDate, requiredDate)": "-6"
                                },
                                {
                                    "orderNumber": "10272",
                                    "DATEDIFF(shippedDate, requiredDate)": "-4"
                                },
                                {
                                    "orderNumber": "10273",
                                    "DATEDIFF(shippedDate, requiredDate)": "-6"
                                },
                                {
                                    "orderNumber": "10274",
                                    "DATEDIFF(shippedDate, requiredDate)": "-7"
                                },
                                {
                                    "orderNumber": "10275",
                                    "DATEDIFF(shippedDate, requiredDate)": "-4"
                                },
                                {
                                    "orderNumber": "10276",
                                    "DATEDIFF(shippedDate, requiredDate)": "-3"
                                },
                                {
                                    "orderNumber": "10277",
                                    "DATEDIFF(shippedDate, requiredDate)": "-7"
                                },
                                {
                                    "orderNumber": "10278",
                                    "DATEDIFF(shippedDate, requiredDate)": "-7"
                                },
                                {
                                    "orderNumber": "10279",
                                    "DATEDIFF(shippedDate, requiredDate)": "-4"
                                },
                                {
                                    "orderNumber": "10280",
                                    "DATEDIFF(shippedDate, requiredDate)": "-8"
                                },
                                {
                                    "orderNumber": "10281",
                                    "DATEDIFF(shippedDate, requiredDate)": "-5"
                                },
                                {
                                    "orderNumber": "10282",
                                    "DATEDIFF(shippedDate, requiredDate)": "-4"
                                },
                                {
                                    "orderNumber": "10283",
                                    "DATEDIFF(shippedDate, requiredDate)": "-7"
                                },
                                {
                                    "orderNumber": "10284",
                                    "DATEDIFF(shippedDate, requiredDate)": "-3"
                                },
                                {
                                    "orderNumber": "10285",
                                    "DATEDIFF(shippedDate, requiredDate)": "-4"
                                },
                                {
                                    "orderNumber": "10286",
                                    "DATEDIFF(shippedDate, requiredDate)": "-5"
                                },
                                {
                                    "orderNumber": "10287",
                                    "DATEDIFF(shippedDate, requiredDate)": "-5"
                                },
                                {
                                    "orderNumber": "10288",
                                    "DATEDIFF(shippedDate, requiredDate)": "-6"
                                },
                                {
                                    "orderNumber": "10289",
                                    "DATEDIFF(shippedDate, requiredDate)": "-9"
                                },
                                {
                                    "orderNumber": "10290",
                                    "DATEDIFF(shippedDate, requiredDate)": "-2"
                                },
                                {
                                    "orderNumber": "10291",
                                    "DATEDIFF(shippedDate, requiredDate)": "-3"
                                },
                                {
                                    "orderNumber": "10292",
                                    "DATEDIFF(shippedDate, requiredDate)": "-7"
                                },
                                {
                                    "orderNumber": "10293",
                                    "DATEDIFF(shippedDate, requiredDate)": "-4"
                                },
                                {
                                    "orderNumber": "10294",
                                    "DATEDIFF(shippedDate, requiredDate)": "-3"
                                },
                                {
                                    "orderNumber": "10295",
                                    "DATEDIFF(shippedDate, requiredDate)": "-3"
                                },
                                {
                                    "orderNumber": "10296",
                                    "DATEDIFF(shippedDate, requiredDate)": "-6"
                                },
                                {
                                    "orderNumber": "10297",
                                    "DATEDIFF(shippedDate, requiredDate)": "-1"
                                },
                                {
                                    "orderNumber": "10298",
                                    "DATEDIFF(shippedDate, requiredDate)": "-4"
                                },
                                {
                                    "orderNumber": "10299",
                                    "DATEDIFF(shippedDate, requiredDate)": "-9"
                                },
                                {
                                    "orderNumber": "10300",
                                    "DATEDIFF(shippedDate, requiredDate)": "-4"
                                },
                                {
                                    "orderNumber": "10301",
                                    "DATEDIFF(shippedDate, requiredDate)": "-7"
                                },
                                {
                                    "orderNumber": "10302",
                                    "DATEDIFF(shippedDate, requiredDate)": "-9"
                                },
                                {
                                    "orderNumber": "10303",
                                    "DATEDIFF(shippedDate, requiredDate)": "-5"
                                },
                                {
                                    "orderNumber": "10304",
                                    "DATEDIFF(shippedDate, requiredDate)": "-3"
                                },
                                {
                                    "orderNumber": "10305",
                                    "DATEDIFF(shippedDate, requiredDate)": "-7"
                                },
                                {
                                    "orderNumber": "10306",
                                    "DATEDIFF(shippedDate, requiredDate)": "-4"
                                },
                                {
                                    "orderNumber": "10307",
                                    "DATEDIFF(shippedDate, requiredDate)": "-3"
                                },
                                {
                                    "orderNumber": "10308",
                                    "DATEDIFF(shippedDate, requiredDate)": "-4"
                                },
                                {
                                    "orderNumber": "10309",
                                    "DATEDIFF(shippedDate, requiredDate)": "-6"
                                },
                                {
                                    "orderNumber": "10310",
                                    "DATEDIFF(shippedDate, requiredDate)": "-6"
                                },
                                {
                                    "orderNumber": "10311",
                                    "DATEDIFF(shippedDate, requiredDate)": "-3"
                                },
                                {
                                    "orderNumber": "10312",
                                    "DATEDIFF(shippedDate, requiredDate)": "-4"
                                },
                                {
                                    "orderNumber": "10313",
                                    "DATEDIFF(shippedDate, requiredDate)": "-3"
                                },
                                {
                                    "orderNumber": "10314",
                                    "DATEDIFF(shippedDate, requiredDate)": "-9"
                                },
                                {
                                    "orderNumber": "10315",
                                    "DATEDIFF(shippedDate, requiredDate)": "-9"
                                },
                                {
                                    "orderNumber": "10316",
                                    "DATEDIFF(shippedDate, requiredDate)": "-2"
                                },
                                {
                                    "orderNumber": "10317",
                                    "DATEDIFF(shippedDate, requiredDate)": "-4"
                                },
                                {
                                    "orderNumber": "10318",
                                    "DATEDIFF(shippedDate, requiredDate)": "-2"
                                },
                                {
                                    "orderNumber": "10319",
                                    "DATEDIFF(shippedDate, requiredDate)": "-5"
                                },
                                {
                                    "orderNumber": "10320",
                                    "DATEDIFF(shippedDate, requiredDate)": "-6"
                                },
                                {
                                    "orderNumber": "10321",
                                    "DATEDIFF(shippedDate, requiredDate)": "-5"
                                },
                                {
                                    "orderNumber": "10322",
                                    "DATEDIFF(shippedDate, requiredDate)": "-2"
                                },
                                {
                                    "orderNumber": "10323",
                                    "DATEDIFF(shippedDate, requiredDate)": "-3"
                                },
                                {
                                    "orderNumber": "10324",
                                    "DATEDIFF(shippedDate, requiredDate)": "-3"
                                },
                                {
                                    "orderNumber": "10325",
                                    "DATEDIFF(shippedDate, requiredDate)": "-5"
                                },
                                {
                                    "orderNumber": "10326",
                                    "DATEDIFF(shippedDate, requiredDate)": "-6"
                                },
                                {
                                    "orderNumber": "10327",
                                    "DATEDIFF(shippedDate, requiredDate)": "-6"
                                },
                                {
                                    "orderNumber": "10328",
                                    "DATEDIFF(shippedDate, requiredDate)": "-3"
                                },
                                {
                                    "orderNumber": "10329",
                                    "DATEDIFF(shippedDate, requiredDate)": "-8"
                                },
                                {
                                    "orderNumber": "10330",
                                    "DATEDIFF(shippedDate, requiredDate)": "-4"
                                },
                                {
                                    "orderNumber": "10331",
                                    "DATEDIFF(shippedDate, requiredDate)": "0"
                                },
                                {
                                    "orderNumber": "10332",
                                    "DATEDIFF(shippedDate, requiredDate)": "-7"
                                },
                                {
                                    "orderNumber": "10333",
                                    "DATEDIFF(shippedDate, requiredDate)": "-7"
                                },
                                {
                                    "orderNumber": "10334",
                                    "DATEDIFF(shippedDate, requiredDate)": "NULL"
                                },
                                {
                                    "orderNumber": "10335",
                                    "DATEDIFF(shippedDate, requiredDate)": "-6"
                                },
                                {
                                    "orderNumber": "10336",
                                    "DATEDIFF(shippedDate, requiredDate)": "-2"
                                },
                                {
                                    "orderNumber": "10337",
                                    "DATEDIFF(shippedDate, requiredDate)": "-4"
                                },
                                {
                                    "orderNumber": "10338",
                                    "DATEDIFF(shippedDate, requiredDate)": "-5"
                                },
                                {
                                    "orderNumber": "10339",
                                    "DATEDIFF(shippedDate, requiredDate)": "0"
                                },
                                {
                                    "orderNumber": "10340",
                                    "DATEDIFF(shippedDate, requiredDate)": "-6"
                                },
                                {
                                    "orderNumber": "10341",
                                    "DATEDIFF(shippedDate, requiredDate)": "-2"
                                },
                                {
                                    "orderNumber": "10342",
                                    "DATEDIFF(shippedDate, requiredDate)": "-2"
                                },
                                {
                                    "orderNumber": "10343",
                                    "DATEDIFF(shippedDate, requiredDate)": "-5"
                                },
                                {
                                    "orderNumber": "10344",
                                    "DATEDIFF(shippedDate, requiredDate)": "-3"
                                },
                                {
                                    "orderNumber": "10345",
                                    "DATEDIFF(shippedDate, requiredDate)": "-5"
                                },
                                {
                                    "orderNumber": "10346",
                                    "DATEDIFF(shippedDate, requiredDate)": "-5"
                                },
                                {
                                    "orderNumber": "10347",
                                    "DATEDIFF(shippedDate, requiredDate)": "-7"
                                },
                                {
                                    "orderNumber": "10348",
                                    "DATEDIFF(shippedDate, requiredDate)": "-3"
                                },
                                {
                                    "orderNumber": "10349",
                                    "DATEDIFF(shippedDate, requiredDate)": "-4"
                                },
                                {
                                    "orderNumber": "10350",
                                    "DATEDIFF(shippedDate, requiredDate)": "-3"
                                },
                                {
                                    "orderNumber": "10351",
                                    "DATEDIFF(shippedDate, requiredDate)": "-4"
                                },
                                {
                                    "orderNumber": "10352",
                                    "DATEDIFF(shippedDate, requiredDate)": "-3"
                                },
                                {
                                    "orderNumber": "10353",
                                    "DATEDIFF(shippedDate, requiredDate)": "-6"
                                },
                                {
                                    "orderNumber": "10354",
                                    "DATEDIFF(shippedDate, requiredDate)": "-5"
                                },
                                {
                                    "orderNumber": "10355",
                                    "DATEDIFF(shippedDate, requiredDate)": "-1"
                                },
                                {
                                    "orderNumber": "10356",
                                    "DATEDIFF(shippedDate, requiredDate)": "-3"
                                },
                                {
                                    "orderNumber": "10357",
                                    "DATEDIFF(shippedDate, requiredDate)": "-2"
                                },
                                {
                                    "orderNumber": "10358",
                                    "DATEDIFF(shippedDate, requiredDate)": "0"
                                },
                                {
                                    "orderNumber": "10359",
                                    "DATEDIFF(shippedDate, requiredDate)": "-5"
                                },
                                {
                                    "orderNumber": "10360",
                                    "DATEDIFF(shippedDate, requiredDate)": "-4"
                                },
                                {
                                    "orderNumber": "10361",
                                    "DATEDIFF(shippedDate, requiredDate)": "-4"
                                },
                                {
                                    "orderNumber": "10362",
                                    "DATEDIFF(shippedDate, requiredDate)": "-6"
                                },
                                {
                                    "orderNumber": "10363",
                                    "DATEDIFF(shippedDate, requiredDate)": "-2"
                                },
                                {
                                    "orderNumber": "10364",
                                    "DATEDIFF(shippedDate, requiredDate)": "-8"
                                },
                                {
                                    "orderNumber": "10365",
                                    "DATEDIFF(shippedDate, requiredDate)": "-7"
                                },
                                {
                                    "orderNumber": "10366",
                                    "DATEDIFF(shippedDate, requiredDate)": "-7"
                                },
                                {
                                    "orderNumber": "10367",
                                    "DATEDIFF(shippedDate, requiredDate)": "-5"
                                },
                                {
                                    "orderNumber": "10368",
                                    "DATEDIFF(shippedDate, requiredDate)": "-3"
                                },
                                {
                                    "orderNumber": "10369",
                                    "DATEDIFF(shippedDate, requiredDate)": "-4"
                                },
                                {
                                    "orderNumber": "10370",
                                    "DATEDIFF(shippedDate, requiredDate)": "-7"
                                },
                                {
                                    "orderNumber": "10371",
                                    "DATEDIFF(shippedDate, requiredDate)": "-9"
                                },
                                {
                                    "orderNumber": "10372",
                                    "DATEDIFF(shippedDate, requiredDate)": "-8"
                                },
                                {
                                    "orderNumber": "10373",
                                    "DATEDIFF(shippedDate, requiredDate)": "-2"
                                },
                                {
                                    "orderNumber": "10374",
                                    "DATEDIFF(shippedDate, requiredDate)": "-6"
                                },
                                {
                                    "orderNumber": "10375",
                                    "DATEDIFF(shippedDate, requiredDate)": "-4"
                                },
                                {
                                    "orderNumber": "10376",
                                    "DATEDIFF(shippedDate, requiredDate)": "-5"
                                },
                                {
                                    "orderNumber": "10377",
                                    "DATEDIFF(shippedDate, requiredDate)": "-9"
                                },
                                {
                                    "orderNumber": "10378",
                                    "DATEDIFF(shippedDate, requiredDate)": "-7"
                                },
                                {
                                    "orderNumber": "10379",
                                    "DATEDIFF(shippedDate, requiredDate)": "-7"
                                },
                                {
                                    "orderNumber": "10380",
                                    "DATEDIFF(shippedDate, requiredDate)": "-6"
                                },
                                {
                                    "orderNumber": "10381",
                                    "DATEDIFF(shippedDate, requiredDate)": "-7"
                                },
                                {
                                    "orderNumber": "10382",
                                    "DATEDIFF(shippedDate, requiredDate)": "-5"
                                },
                                {
                                    "orderNumber": "10383",
                                    "DATEDIFF(shippedDate, requiredDate)": "-5"
                                },
                                {
                                    "orderNumber": "10384",
                                    "DATEDIFF(shippedDate, requiredDate)": "-7"
                                },
                                {
                                    "orderNumber": "10385",
                                    "DATEDIFF(shippedDate, requiredDate)": "-8"
                                },
                                {
                                    "orderNumber": "10386",
                                    "DATEDIFF(shippedDate, requiredDate)": "-3"
                                },
                                {
                                    "orderNumber": "10387",
                                    "DATEDIFF(shippedDate, requiredDate)": "-3"
                                },
                                {
                                    "orderNumber": "10388",
                                    "DATEDIFF(shippedDate, requiredDate)": "-2"
                                },
                                {
                                    "orderNumber": "10389",
                                    "DATEDIFF(shippedDate, requiredDate)": "-1"
                                },
                                {
                                    "orderNumber": "10390",
                                    "DATEDIFF(shippedDate, requiredDate)": "-4"
                                },
                                {
                                    "orderNumber": "10391",
                                    "DATEDIFF(shippedDate, requiredDate)": "-5"
                                },
                                {
                                    "orderNumber": "10392",
                                    "DATEDIFF(shippedDate, requiredDate)": "-6"
                                },
                                {
                                    "orderNumber": "10393",
                                    "DATEDIFF(shippedDate, requiredDate)": "-8"
                                },
                                {
                                    "orderNumber": "10394",
                                    "DATEDIFF(shippedDate, requiredDate)": "-6"
                                },
                                {
                                    "orderNumber": "10395",
                                    "DATEDIFF(shippedDate, requiredDate)": "-1"
                                },
                                {
                                    "orderNumber": "10396",
                                    "DATEDIFF(shippedDate, requiredDate)": "-5"
                                },
                                {
                                    "orderNumber": "10397",
                                    "DATEDIFF(shippedDate, requiredDate)": "-8"
                                },
                                {
                                    "orderNumber": "10398",
                                    "DATEDIFF(shippedDate, requiredDate)": "-9"
                                },
                                {
                                    "orderNumber": "10399",
                                    "DATEDIFF(shippedDate, requiredDate)": "-9"
                                },
                                {
                                    "orderNumber": "10400",
                                    "DATEDIFF(shippedDate, requiredDate)": "-7"
                                },
                                {
                                    "orderNumber": "10401",
                                    "DATEDIFF(shippedDate, requiredDate)": "NULL"
                                },
                                {
                                    "orderNumber": "10402",
                                    "DATEDIFF(shippedDate, requiredDate)": "-2"
                                },
                                {
                                    "orderNumber": "10403",
                                    "DATEDIFF(shippedDate, requiredDate)": "-7"
                                },
                                {
                                    "orderNumber": "10404",
                                    "DATEDIFF(shippedDate, requiredDate)": "-3"
                                },
                                {
                                    "orderNumber": "10405",
                                    "DATEDIFF(shippedDate, requiredDate)": "-4"
                                },
                                {
                                    "orderNumber": "10406",
                                    "DATEDIFF(shippedDate, requiredDate)": "-4"
                                },
                                {
                                    "orderNumber": "10407",
                                    "DATEDIFF(shippedDate, requiredDate)": "NULL"
                                },
                                {
                                    "orderNumber": "10408",
                                    "DATEDIFF(shippedDate, requiredDate)": "-2"
                                },
                                {
                                    "orderNumber": "10409",
                                    "DATEDIFF(shippedDate, requiredDate)": "-11"
                                },
                                {
                                    "orderNumber": "10410",
                                    "DATEDIFF(shippedDate, requiredDate)": "-10"
                                },
                                {
                                    "orderNumber": "10411",
                                    "DATEDIFF(shippedDate, requiredDate)": "-2"
                                },
                                {
                                    "orderNumber": "10412",
                                    "DATEDIFF(shippedDate, requiredDate)": "-8"
                                },
                                {
                                    "orderNumber": "10413",
                                    "DATEDIFF(shippedDate, requiredDate)": "-5"
                                },
                                {
                                    "orderNumber": "10414",
                                    "DATEDIFF(shippedDate, requiredDate)": "NULL"
                                },
                                {
                                    "orderNumber": "10415",
                                    "DATEDIFF(shippedDate, requiredDate)": "-8"
                                },
                                {
                                    "orderNumber": "10416",
                                    "DATEDIFF(shippedDate, requiredDate)": "-2"
                                },
                                {
                                    "orderNumber": "10417",
                                    "DATEDIFF(shippedDate, requiredDate)": "0"
                                },
                                {
                                    "orderNumber": "10418",
                                    "DATEDIFF(shippedDate, requiredDate)": "-4"
                                },
                                {
                                    "orderNumber": "10419",
                                    "DATEDIFF(shippedDate, requiredDate)": "-9"
                                },
                                {
                                    "orderNumber": "10420",
                                    "DATEDIFF(shippedDate, requiredDate)": "NULL"
                                },
                                {
                                    "orderNumber": "10421",
                                    "DATEDIFF(shippedDate, requiredDate)": "NULL"
                                },
                                {
                                    "orderNumber": "10422",
                                    "DATEDIFF(shippedDate, requiredDate)": "NULL"
                                },
                                {
                                    "orderNumber": "10423",
                                    "DATEDIFF(shippedDate, requiredDate)": "NULL"
                                },
                                {
                                    "orderNumber": "10424",
                                    "DATEDIFF(shippedDate, requiredDate)": "NULL"
                                },
                                {
                                    "orderNumber": "10425",
                                    "DATEDIFF(shippedDate, requiredDate)": "NULL"
                                }
                            ]
                        },
                        "text/html": "<table><tr><th>orderNumber</th><th>DATEDIFF(shippedDate, requiredDate)</th></tr><tr><td>10100</td><td>-3</td></tr><tr><td>10101</td><td>-7</td></tr><tr><td>10102</td><td>-4</td></tr><tr><td>10103</td><td>-5</td></tr><tr><td>10104</td><td>-8</td></tr><tr><td>10105</td><td>-9</td></tr><tr><td>10106</td><td>-3</td></tr><tr><td>10107</td><td>-5</td></tr><tr><td>10108</td><td>-4</td></tr><tr><td>10109</td><td>-8</td></tr><tr><td>10110</td><td>-4</td></tr><tr><td>10111</td><td>-1</td></tr><tr><td>10112</td><td>-5</td></tr><tr><td>10113</td><td>-6</td></tr><tr><td>10114</td><td>-5</td></tr><tr><td>10115</td><td>-5</td></tr><tr><td>10116</td><td>-6</td></tr><tr><td>10117</td><td>-7</td></tr><tr><td>10118</td><td>-3</td></tr><tr><td>10119</td><td>-3</td></tr><tr><td>10120</td><td>-7</td></tr><tr><td>10121</td><td>0</td></tr><tr><td>10122</td><td>-3</td></tr><tr><td>10123</td><td>-7</td></tr><tr><td>10124</td><td>-4</td></tr><tr><td>10125</td><td>-3</td></tr><tr><td>10126</td><td>-5</td></tr><tr><td>10127</td><td>-3</td></tr><tr><td>10128</td><td>-1</td></tr><tr><td>10129</td><td>-4</td></tr><tr><td>10130</td><td>-3</td></tr><tr><td>10131</td><td>-4</td></tr><tr><td>10132</td><td>-3</td></tr><tr><td>10133</td><td>-1</td></tr><tr><td>10134</td><td>-5</td></tr><tr><td>10135</td><td>-9</td></tr><tr><td>10136</td><td>-8</td></tr><tr><td>10137</td><td>-6</td></tr><tr><td>10138</td><td>-3</td></tr><tr><td>10139</td><td>-2</td></tr><tr><td>10140</td><td>-3</td></tr><tr><td>10141</td><td>-5</td></tr><tr><td>10142</td><td>-3</td></tr><tr><td>10143</td><td>-6</td></tr><tr><td>10144</td><td>-7</td></tr><tr><td>10145</td><td>-2</td></tr><tr><td>10146</td><td>-7</td></tr><tr><td>10147</td><td>-3</td></tr><tr><td>10148</td><td>-6</td></tr><tr><td>10149</td><td>-1</td></tr><tr><td>10150</td><td>-6</td></tr><tr><td>10151</td><td>-6</td></tr><tr><td>10152</td><td>-2</td></tr><tr><td>10153</td><td>-2</td></tr><tr><td>10154</td><td>-4</td></tr><tr><td>10155</td><td>-6</td></tr><tr><td>10156</td><td>-6</td></tr><tr><td>10157</td><td>-1</td></tr><tr><td>10158</td><td>-3</td></tr><tr><td>10159</td><td>-3</td></tr><tr><td>10160</td><td>0</td></tr><tr><td>10161</td><td>-5</td></tr><tr><td>10162</td><td>-7</td></tr><tr><td>10163</td><td>-3</td></tr><tr><td>10164</td><td>-7</td></tr><tr><td>10165</td><td>56</td></tr><tr><td>10166</td><td>-3</td></tr><tr><td>10167</td><td>NULL</td></tr><tr><td>10168</td><td>-2</td></tr><tr><td>10169</td><td>-5</td></tr><tr><td>10170</td><td>-5</td></tr><tr><td>10171</td><td>-6</td></tr><tr><td>10172</td><td>-3</td></tr><tr><td>10173</td><td>-6</td></tr><tr><td>10174</td><td>-5</td></tr><tr><td>10175</td><td>-5</td></tr><tr><td>10176</td><td>-3</td></tr><tr><td>10177</td><td>-5</td></tr><tr><td>10178</td><td>-6</td></tr><tr><td>10179</td><td>-4</td></tr><tr><td>10180</td><td>-5</td></tr><tr><td>10181</td><td>-4</td></tr><tr><td>10182</td><td>-3</td></tr><tr><td>10183</td><td>-7</td></tr><tr><td>10184</td><td>-2</td></tr><tr><td>10185</td><td>-1</td></tr><tr><td>10186</td><td>-2</td></tr><tr><td>10187</td><td>-8</td></tr><tr><td>10188</td><td>-2</td></tr><tr><td>10189</td><td>-1</td></tr><tr><td>10190</td><td>-9</td></tr><tr><td>10191</td><td>-6</td></tr><tr><td>10192</td><td>-4</td></tr><tr><td>10193</td><td>-1</td></tr><tr><td>10194</td><td>-6</td></tr><tr><td>10195</td><td>-3</td></tr><tr><td>10196</td><td>-2</td></tr><tr><td>10197</td><td>-1</td></tr><tr><td>10198</td><td>-3</td></tr><tr><td>10199</td><td>-4</td></tr><tr><td>10200</td><td>-3</td></tr><tr><td>10201</td><td>-9</td></tr><tr><td>10202</td><td>-3</td></tr><tr><td>10203</td><td>-4</td></tr><tr><td>10204</td><td>-6</td></tr><tr><td>10205</td><td>-2</td></tr><tr><td>10206</td><td>-5</td></tr><tr><td>10207</td><td>-6</td></tr><tr><td>10208</td><td>-7</td></tr><tr><td>10209</td><td>-3</td></tr><tr><td>10210</td><td>-2</td></tr><tr><td>10211</td><td>-7</td></tr><tr><td>10212</td><td>-6</td></tr><tr><td>10213</td><td>-1</td></tr><tr><td>10214</td><td>-6</td></tr><tr><td>10215</td><td>-7</td></tr><tr><td>10216</td><td>-6</td></tr><tr><td>10217</td><td>-8</td></tr><tr><td>10218</td><td>-5</td></tr><tr><td>10219</td><td>-5</td></tr><tr><td>10220</td><td>-3</td></tr><tr><td>10221</td><td>-7</td></tr><tr><td>10222</td><td>-7</td></tr><tr><td>10223</td><td>-5</td></tr><tr><td>10224</td><td>-5</td></tr><tr><td>10225</td><td>-6</td></tr><tr><td>10226</td><td>-4</td></tr><tr><td>10227</td><td>-4</td></tr><tr><td>10228</td><td>-5</td></tr><tr><td>10229</td><td>-8</td></tr><tr><td>10230</td><td>-4</td></tr><tr><td>10231</td><td>-1</td></tr><tr><td>10232</td><td>-5</td></tr><tr><td>10233</td><td>-2</td></tr><tr><td>10234</td><td>-3</td></tr><tr><td>10235</td><td>-6</td></tr><tr><td>10236</td><td>-3</td></tr><tr><td>10237</td><td>-2</td></tr><tr><td>10238</td><td>-6</td></tr><tr><td>10239</td><td>-4</td></tr><tr><td>10240</td><td>0</td></tr><tr><td>10241</td><td>-1</td></tr><tr><td>10242</td><td>-3</td></tr><tr><td>10243</td><td>-5</td></tr><tr><td>10244</td><td>-5</td></tr><tr><td>10245</td><td>-3</td></tr><tr><td>10246</td><td>-7</td></tr><tr><td>10247</td><td>-3</td></tr><tr><td>10248</td><td>NULL</td></tr><tr><td>10249</td><td>-6</td></tr><tr><td>10250</td><td>-4</td></tr><tr><td>10251</td><td>0</td></tr><tr><td>10252</td><td>-6</td></tr><tr><td>10253</td><td>-7</td></tr><tr><td>10254</td><td>-9</td></tr><tr><td>10255</td><td>-3</td></tr><tr><td>10256</td><td>-6</td></tr><tr><td>10257</td><td>-9</td></tr><tr><td>10258</td><td>-2</td></tr><tr><td>10259</td><td>-5</td></tr><tr><td>10260</td><td>NULL</td></tr><tr><td>10261</td><td>-3</td></tr><tr><td>10262</td><td>NULL</td></tr><tr><td>10263</td><td>-2</td></tr><tr><td>10264</td><td>-5</td></tr><tr><td>10265</td><td>-2</td></tr><tr><td>10266</td><td>-4</td></tr><tr><td>10267</td><td>-8</td></tr><tr><td>10268</td><td>-4</td></tr><tr><td>10269</td><td>-4</td></tr><tr><td>10270</td><td>-3</td></tr><tr><td>10271</td><td>-6</td></tr><tr><td>10272</td><td>-4</td></tr><tr><td>10273</td><td>-6</td></tr><tr><td>10274</td><td>-7</td></tr><tr><td>10275</td><td>-4</td></tr><tr><td>10276</td><td>-3</td></tr><tr><td>10277</td><td>-7</td></tr><tr><td>10278</td><td>-7</td></tr><tr><td>10279</td><td>-4</td></tr><tr><td>10280</td><td>-8</td></tr><tr><td>10281</td><td>-5</td></tr><tr><td>10282</td><td>-4</td></tr><tr><td>10283</td><td>-7</td></tr><tr><td>10284</td><td>-3</td></tr><tr><td>10285</td><td>-4</td></tr><tr><td>10286</td><td>-5</td></tr><tr><td>10287</td><td>-5</td></tr><tr><td>10288</td><td>-6</td></tr><tr><td>10289</td><td>-9</td></tr><tr><td>10290</td><td>-2</td></tr><tr><td>10291</td><td>-3</td></tr><tr><td>10292</td><td>-7</td></tr><tr><td>10293</td><td>-4</td></tr><tr><td>10294</td><td>-3</td></tr><tr><td>10295</td><td>-3</td></tr><tr><td>10296</td><td>-6</td></tr><tr><td>10297</td><td>-1</td></tr><tr><td>10298</td><td>-4</td></tr><tr><td>10299</td><td>-9</td></tr><tr><td>10300</td><td>-4</td></tr><tr><td>10301</td><td>-7</td></tr><tr><td>10302</td><td>-9</td></tr><tr><td>10303</td><td>-5</td></tr><tr><td>10304</td><td>-3</td></tr><tr><td>10305</td><td>-7</td></tr><tr><td>10306</td><td>-4</td></tr><tr><td>10307</td><td>-3</td></tr><tr><td>10308</td><td>-4</td></tr><tr><td>10309</td><td>-6</td></tr><tr><td>10310</td><td>-6</td></tr><tr><td>10311</td><td>-3</td></tr><tr><td>10312</td><td>-4</td></tr><tr><td>10313</td><td>-3</td></tr><tr><td>10314</td><td>-9</td></tr><tr><td>10315</td><td>-9</td></tr><tr><td>10316</td><td>-2</td></tr><tr><td>10317</td><td>-4</td></tr><tr><td>10318</td><td>-2</td></tr><tr><td>10319</td><td>-5</td></tr><tr><td>10320</td><td>-6</td></tr><tr><td>10321</td><td>-5</td></tr><tr><td>10322</td><td>-2</td></tr><tr><td>10323</td><td>-3</td></tr><tr><td>10324</td><td>-3</td></tr><tr><td>10325</td><td>-5</td></tr><tr><td>10326</td><td>-6</td></tr><tr><td>10327</td><td>-6</td></tr><tr><td>10328</td><td>-3</td></tr><tr><td>10329</td><td>-8</td></tr><tr><td>10330</td><td>-4</td></tr><tr><td>10331</td><td>0</td></tr><tr><td>10332</td><td>-7</td></tr><tr><td>10333</td><td>-7</td></tr><tr><td>10334</td><td>NULL</td></tr><tr><td>10335</td><td>-6</td></tr><tr><td>10336</td><td>-2</td></tr><tr><td>10337</td><td>-4</td></tr><tr><td>10338</td><td>-5</td></tr><tr><td>10339</td><td>0</td></tr><tr><td>10340</td><td>-6</td></tr><tr><td>10341</td><td>-2</td></tr><tr><td>10342</td><td>-2</td></tr><tr><td>10343</td><td>-5</td></tr><tr><td>10344</td><td>-3</td></tr><tr><td>10345</td><td>-5</td></tr><tr><td>10346</td><td>-5</td></tr><tr><td>10347</td><td>-7</td></tr><tr><td>10348</td><td>-3</td></tr><tr><td>10349</td><td>-4</td></tr><tr><td>10350</td><td>-3</td></tr><tr><td>10351</td><td>-4</td></tr><tr><td>10352</td><td>-3</td></tr><tr><td>10353</td><td>-6</td></tr><tr><td>10354</td><td>-5</td></tr><tr><td>10355</td><td>-1</td></tr><tr><td>10356</td><td>-3</td></tr><tr><td>10357</td><td>-2</td></tr><tr><td>10358</td><td>0</td></tr><tr><td>10359</td><td>-5</td></tr><tr><td>10360</td><td>-4</td></tr><tr><td>10361</td><td>-4</td></tr><tr><td>10362</td><td>-6</td></tr><tr><td>10363</td><td>-2</td></tr><tr><td>10364</td><td>-8</td></tr><tr><td>10365</td><td>-7</td></tr><tr><td>10366</td><td>-7</td></tr><tr><td>10367</td><td>-5</td></tr><tr><td>10368</td><td>-3</td></tr><tr><td>10369</td><td>-4</td></tr><tr><td>10370</td><td>-7</td></tr><tr><td>10371</td><td>-9</td></tr><tr><td>10372</td><td>-8</td></tr><tr><td>10373</td><td>-2</td></tr><tr><td>10374</td><td>-6</td></tr><tr><td>10375</td><td>-4</td></tr><tr><td>10376</td><td>-5</td></tr><tr><td>10377</td><td>-9</td></tr><tr><td>10378</td><td>-7</td></tr><tr><td>10379</td><td>-7</td></tr><tr><td>10380</td><td>-6</td></tr><tr><td>10381</td><td>-7</td></tr><tr><td>10382</td><td>-5</td></tr><tr><td>10383</td><td>-5</td></tr><tr><td>10384</td><td>-7</td></tr><tr><td>10385</td><td>-8</td></tr><tr><td>10386</td><td>-3</td></tr><tr><td>10387</td><td>-3</td></tr><tr><td>10388</td><td>-2</td></tr><tr><td>10389</td><td>-1</td></tr><tr><td>10390</td><td>-4</td></tr><tr><td>10391</td><td>-5</td></tr><tr><td>10392</td><td>-6</td></tr><tr><td>10393</td><td>-8</td></tr><tr><td>10394</td><td>-6</td></tr><tr><td>10395</td><td>-1</td></tr><tr><td>10396</td><td>-5</td></tr><tr><td>10397</td><td>-8</td></tr><tr><td>10398</td><td>-9</td></tr><tr><td>10399</td><td>-9</td></tr><tr><td>10400</td><td>-7</td></tr><tr><td>10401</td><td>NULL</td></tr><tr><td>10402</td><td>-2</td></tr><tr><td>10403</td><td>-7</td></tr><tr><td>10404</td><td>-3</td></tr><tr><td>10405</td><td>-4</td></tr><tr><td>10406</td><td>-4</td></tr><tr><td>10407</td><td>NULL</td></tr><tr><td>10408</td><td>-2</td></tr><tr><td>10409</td><td>-11</td></tr><tr><td>10410</td><td>-10</td></tr><tr><td>10411</td><td>-2</td></tr><tr><td>10412</td><td>-8</td></tr><tr><td>10413</td><td>-5</td></tr><tr><td>10414</td><td>NULL</td></tr><tr><td>10415</td><td>-8</td></tr><tr><td>10416</td><td>-2</td></tr><tr><td>10417</td><td>0</td></tr><tr><td>10418</td><td>-4</td></tr><tr><td>10419</td><td>-9</td></tr><tr><td>10420</td><td>NULL</td></tr><tr><td>10421</td><td>NULL</td></tr><tr><td>10422</td><td>NULL</td></tr><tr><td>10423</td><td>NULL</td></tr><tr><td>10424</td><td>NULL</td></tr><tr><td>10425</td><td>NULL</td></tr></table>"
                    },
                    "metadata": {}
                }
            ],
            "execution_count": 59
        },
        {
            "cell_type": "code",
            "source": [
                "use ecom;\n",
                "\n",
                "DROP PROCEDURE IF EXISTS GetDeliveryStatus;\n",
                "\n",
                "CREATE PROCEDURE GetDeliveryStatus(\n",
                "    IN pOrderNumber INT,\n",
                "    OUT pOrderStatus VARCHAR(255)\n",
                ")\n",
                "BEGIN\n",
                "    DECLARE waitingDay INT DEFAULT 0;\n",
                "\n",
                "    SELECT DATEDIFF(shippedDate, requiredDate) \n",
                "    INTO waitingDay\n",
                "    FROM orders\n",
                "    WHERE \n",
                "\t  orderNumber = pOrderNumber;\n",
                "\n",
                "    CASE\n",
                "        WHEN waitingDay < 0 THEN\n",
                "            SET pOrderStatus = 'Early Delivery';\n",
                "        WHEN waitingDay = 0 THEN\n",
                "            SET pOrderStatus = 'On Time';\n",
                "        WHEN waitingDay > 0 THEN\n",
                "            SET pOrderStatus = 'Late';\n",
                "        ELSE\n",
                "            SET pOrderStatus = 'Unknown';\n",
                "    END CASE;\n",
                "END;"
            ],
            "metadata": {
                "language": "sql",
                "azdata_cell_guid": "fb44e3d2-4206-46e4-9b90-af3a194436cc"
            },
            "outputs": [
                {
                    "output_type": "display_data",
                    "data": {
                        "text/html": "Commands completed successfully"
                    },
                    "metadata": {}
                },
                {
                    "output_type": "display_data",
                    "data": {
                        "text/html": "Commands completed successfully"
                    },
                    "metadata": {}
                },
                {
                    "output_type": "display_data",
                    "data": {
                        "text/html": "Commands completed successfully"
                    },
                    "metadata": {}
                },
                {
                    "output_type": "display_data",
                    "data": {
                        "text/html": "Total execution time: 00:00:00.032"
                    },
                    "metadata": {}
                }
            ],
            "execution_count": 61
        },
        {
            "cell_type": "code",
            "source": [
                "use ecom;\n",
                "\n",
                "CALL GetDeliveryStatus(10103, @delivery);\n",
                "SELECT  @delivery;\n",
                "\n",
                "CALL GetDeliveryStatus(10160, @delivery);\n",
                "SELECT  @delivery;"
            ],
            "metadata": {
                "language": "sql",
                "azdata_cell_guid": "c2ed2bb9-635b-4a9c-8a90-8fe06cff637b"
            },
            "outputs": [
                {
                    "output_type": "display_data",
                    "data": {
                        "text/html": "Commands completed successfully"
                    },
                    "metadata": {}
                },
                {
                    "output_type": "display_data",
                    "data": {
                        "text/html": "Commands completed successfully"
                    },
                    "metadata": {}
                },
                {
                    "output_type": "display_data",
                    "data": {
                        "text/html": "(1 row(s) affected)"
                    },
                    "metadata": {}
                },
                {
                    "output_type": "display_data",
                    "data": {
                        "text/html": "Commands completed successfully"
                    },
                    "metadata": {}
                },
                {
                    "output_type": "display_data",
                    "data": {
                        "text/html": "(1 row(s) affected)"
                    },
                    "metadata": {}
                },
                {
                    "output_type": "display_data",
                    "data": {
                        "text/html": "Total execution time: 00:00:02.024"
                    },
                    "metadata": {}
                },
                {
                    "output_type": "execute_result",
                    "execution_count": 63,
                    "data": {
                        "application/vnd.dataresource+json": {
                            "schema": {
                                "fields": [
                                    {
                                        "name": "@delivery"
                                    }
                                ]
                            },
                            "data": [
                                {
                                    "@delivery": "Early Delivery"
                                }
                            ]
                        },
                        "text/html": "<table><tr><th>@delivery</th></tr><tr><td>Early Delivery</td></tr></table>"
                    },
                    "metadata": {}
                },
                {
                    "output_type": "execute_result",
                    "execution_count": 63,
                    "data": {
                        "application/vnd.dataresource+json": {
                            "schema": {
                                "fields": [
                                    {
                                        "name": "@delivery"
                                    }
                                ]
                            },
                            "data": [
                                {
                                    "@delivery": "On Time"
                                }
                            ]
                        },
                        "text/html": "<table><tr><th>@delivery</th></tr><tr><td>On Time</td></tr></table>"
                    },
                    "metadata": {}
                }
            ],
            "execution_count": 63
        },
        {
            "cell_type": "code",
            "source": [
                "\n",
                "use ecom;\n",
                "\n",
                "CREATE VIEW customerPayments\n",
                "AS \n",
                "SELECT \n",
                "    customerName, \n",
                "    checkNumber, \n",
                "    paymentDate, \n",
                "    amount\n",
                "FROM\n",
                "    customers\n",
                "INNER JOIN\n",
                "    payments USING (customerNumber);"
            ],
            "metadata": {
                "language": "sql",
                "azdata_cell_guid": "c2d51f09-f3ad-43ae-9c00-bb8dd1a5ba8d"
            },
            "outputs": [
                {
                    "output_type": "display_data",
                    "data": {
                        "text/html": "Commands completed successfully"
                    },
                    "metadata": {}
                },
                {
                    "output_type": "display_data",
                    "data": {
                        "text/html": "Commands completed successfully"
                    },
                    "metadata": {}
                },
                {
                    "output_type": "display_data",
                    "data": {
                        "text/html": "Total execution time: 00:00:00.019"
                    },
                    "metadata": {}
                }
            ],
            "execution_count": 64
        },
        {
            "cell_type": "code",
            "source": [
                "SELECT * FROM customerPayments;"
            ],
            "metadata": {
                "language": "sql",
                "azdata_cell_guid": "0e37835e-eb9f-4259-bea1-3e23b89a5460"
            },
            "outputs": [
                {
                    "output_type": "display_data",
                    "data": {
                        "text/html": "(273 row(s) affected)"
                    },
                    "metadata": {}
                },
                {
                    "output_type": "display_data",
                    "data": {
                        "text/html": "Total execution time: 00:00:01.013"
                    },
                    "metadata": {}
                },
                {
                    "output_type": "execute_result",
                    "execution_count": 65,
                    "data": {
                        "application/vnd.dataresource+json": {
                            "schema": {
                                "fields": [
                                    {
                                        "name": "customerName"
                                    },
                                    {
                                        "name": "checkNumber"
                                    },
                                    {
                                        "name": "paymentDate"
                                    },
                                    {
                                        "name": "amount"
                                    }
                                ]
                            },
                            "data": [
                                {
                                    "customerName": "Atelier graphique",
                                    "checkNumber": "HQ336336",
                                    "paymentDate": "2004-10-19",
                                    "amount": "6066.78"
                                },
                                {
                                    "customerName": "Atelier graphique",
                                    "checkNumber": "JM555205",
                                    "paymentDate": "2003-06-05",
                                    "amount": "14571.44"
                                },
                                {
                                    "customerName": "Atelier graphique",
                                    "checkNumber": "OM314933",
                                    "paymentDate": "2004-12-18",
                                    "amount": "1676.14"
                                },
                                {
                                    "customerName": "Signal Gift Stores",
                                    "checkNumber": "BO864823",
                                    "paymentDate": "2004-12-17",
                                    "amount": "14191.12"
                                },
                                {
                                    "customerName": "Signal Gift Stores",
                                    "checkNumber": "HQ55022",
                                    "paymentDate": "2003-06-06",
                                    "amount": "32641.98"
                                },
                                {
                                    "customerName": "Signal Gift Stores",
                                    "checkNumber": "ND748579",
                                    "paymentDate": "2004-08-20",
                                    "amount": "33347.88"
                                },
                                {
                                    "customerName": "Australian Collectors, Co.",
                                    "checkNumber": "GG31455",
                                    "paymentDate": "2003-05-20",
                                    "amount": "45864.03"
                                },
                                {
                                    "customerName": "Australian Collectors, Co.",
                                    "checkNumber": "MA765515",
                                    "paymentDate": "2004-12-15",
                                    "amount": "82261.22"
                                },
                                {
                                    "customerName": "Australian Collectors, Co.",
                                    "checkNumber": "NP603840",
                                    "paymentDate": "2003-05-31",
                                    "amount": "7565.08"
                                },
                                {
                                    "customerName": "Australian Collectors, Co.",
                                    "checkNumber": "NR27552",
                                    "paymentDate": "2004-03-10",
                                    "amount": "44894.74"
                                },
                                {
                                    "customerName": "La Rochelle Gifts",
                                    "checkNumber": "DB933704",
                                    "paymentDate": "2004-11-14",
                                    "amount": "19501.82"
                                },
                                {
                                    "customerName": "La Rochelle Gifts",
                                    "checkNumber": "LN373447",
                                    "paymentDate": "2004-08-08",
                                    "amount": "47924.19"
                                },
                                {
                                    "customerName": "La Rochelle Gifts",
                                    "checkNumber": "NG94694",
                                    "paymentDate": "2005-02-22",
                                    "amount": "49523.67"
                                },
                                {
                                    "customerName": "Baane Mini Imports",
                                    "checkNumber": "DB889831",
                                    "paymentDate": "2003-02-16",
                                    "amount": "50218.95"
                                },
                                {
                                    "customerName": "Baane Mini Imports",
                                    "checkNumber": "FD317790",
                                    "paymentDate": "2003-10-28",
                                    "amount": "1491.38"
                                },
                                {
                                    "customerName": "Baane Mini Imports",
                                    "checkNumber": "KI831359",
                                    "paymentDate": "2004-11-04",
                                    "amount": "17876.32"
                                },
                                {
                                    "customerName": "Baane Mini Imports",
                                    "checkNumber": "MA302151",
                                    "paymentDate": "2004-11-28",
                                    "amount": "34638.14"
                                },
                                {
                                    "customerName": "Mini Gifts Distributors Ltd.",
                                    "checkNumber": "AE215433",
                                    "paymentDate": "2005-03-05",
                                    "amount": "101244.59"
                                },
                                {
                                    "customerName": "Mini Gifts Distributors Ltd.",
                                    "checkNumber": "BG255406",
                                    "paymentDate": "2004-08-28",
                                    "amount": "85410.87"
                                },
                                {
                                    "customerName": "Mini Gifts Distributors Ltd.",
                                    "checkNumber": "CQ287967",
                                    "paymentDate": "2003-04-11",
                                    "amount": "11044.30"
                                },
                                {
                                    "customerName": "Mini Gifts Distributors Ltd.",
                                    "checkNumber": "ET64396",
                                    "paymentDate": "2005-04-16",
                                    "amount": "83598.04"
                                },
                                {
                                    "customerName": "Mini Gifts Distributors Ltd.",
                                    "checkNumber": "HI366474",
                                    "paymentDate": "2004-12-27",
                                    "amount": "47142.70"
                                },
                                {
                                    "customerName": "Mini Gifts Distributors Ltd.",
                                    "checkNumber": "HR86578",
                                    "paymentDate": "2004-11-02",
                                    "amount": "55639.66"
                                },
                                {
                                    "customerName": "Mini Gifts Distributors Ltd.",
                                    "checkNumber": "KI131716",
                                    "paymentDate": "2003-08-15",
                                    "amount": "111654.40"
                                },
                                {
                                    "customerName": "Mini Gifts Distributors Ltd.",
                                    "checkNumber": "LF217299",
                                    "paymentDate": "2004-03-26",
                                    "amount": "43369.30"
                                },
                                {
                                    "customerName": "Mini Gifts Distributors Ltd.",
                                    "checkNumber": "NT141748",
                                    "paymentDate": "2003-11-25",
                                    "amount": "45084.38"
                                },
                                {
                                    "customerName": "Blauer See Auto, Co.",
                                    "checkNumber": "DI925118",
                                    "paymentDate": "2003-01-28",
                                    "amount": "10549.01"
                                },
                                {
                                    "customerName": "Blauer See Auto, Co.",
                                    "checkNumber": "FA465482",
                                    "paymentDate": "2003-10-18",
                                    "amount": "24101.81"
                                },
                                {
                                    "customerName": "Blauer See Auto, Co.",
                                    "checkNumber": "FH668230",
                                    "paymentDate": "2004-03-24",
                                    "amount": "33820.62"
                                },
                                {
                                    "customerName": "Blauer See Auto, Co.",
                                    "checkNumber": "IP383901",
                                    "paymentDate": "2004-11-18",
                                    "amount": "7466.32"
                                },
                                {
                                    "customerName": "Mini Wheels Co.",
                                    "checkNumber": "DM826140",
                                    "paymentDate": "2004-12-08",
                                    "amount": "26248.78"
                                },
                                {
                                    "customerName": "Mini Wheels Co.",
                                    "checkNumber": "ID449593",
                                    "paymentDate": "2003-12-11",
                                    "amount": "23923.93"
                                },
                                {
                                    "customerName": "Mini Wheels Co.",
                                    "checkNumber": "PI42991",
                                    "paymentDate": "2003-04-09",
                                    "amount": "16537.85"
                                },
                                {
                                    "customerName": "Land of Toys Inc.",
                                    "checkNumber": "CL442705",
                                    "paymentDate": "2003-03-12",
                                    "amount": "22292.62"
                                },
                                {
                                    "customerName": "Land of Toys Inc.",
                                    "checkNumber": "MA724562",
                                    "paymentDate": "2004-12-02",
                                    "amount": "50025.35"
                                },
                                {
                                    "customerName": "Land of Toys Inc.",
                                    "checkNumber": "NB445135",
                                    "paymentDate": "2004-09-11",
                                    "amount": "35321.97"
                                },
                                {
                                    "customerName": "Euro+ Shopping Channel",
                                    "checkNumber": "AU364101",
                                    "paymentDate": "2003-07-19",
                                    "amount": "36251.03"
                                },
                                {
                                    "customerName": "Euro+ Shopping Channel",
                                    "checkNumber": "DB583216",
                                    "paymentDate": "2004-11-01",
                                    "amount": "36140.38"
                                },
                                {
                                    "customerName": "Euro+ Shopping Channel",
                                    "checkNumber": "DL460618",
                                    "paymentDate": "2005-05-19",
                                    "amount": "46895.48"
                                },
                                {
                                    "customerName": "Euro+ Shopping Channel",
                                    "checkNumber": "HJ32686",
                                    "paymentDate": "2004-01-30",
                                    "amount": "59830.55"
                                },
                                {
                                    "customerName": "Euro+ Shopping Channel",
                                    "checkNumber": "ID10962",
                                    "paymentDate": "2004-12-31",
                                    "amount": "116208.40"
                                },
                                {
                                    "customerName": "Euro+ Shopping Channel",
                                    "checkNumber": "IN446258",
                                    "paymentDate": "2005-03-25",
                                    "amount": "65071.26"
                                },
                                {
                                    "customerName": "Euro+ Shopping Channel",
                                    "checkNumber": "JE105477",
                                    "paymentDate": "2005-03-18",
                                    "amount": "120166.58"
                                },
                                {
                                    "customerName": "Euro+ Shopping Channel",
                                    "checkNumber": "JN355280",
                                    "paymentDate": "2003-10-26",
                                    "amount": "49539.37"
                                },
                                {
                                    "customerName": "Euro+ Shopping Channel",
                                    "checkNumber": "JN722010",
                                    "paymentDate": "2003-02-25",
                                    "amount": "40206.20"
                                },
                                {
                                    "customerName": "Euro+ Shopping Channel",
                                    "checkNumber": "KT52578",
                                    "paymentDate": "2003-12-09",
                                    "amount": "63843.55"
                                },
                                {
                                    "customerName": "Euro+ Shopping Channel",
                                    "checkNumber": "MC46946",
                                    "paymentDate": "2004-07-09",
                                    "amount": "35420.74"
                                },
                                {
                                    "customerName": "Euro+ Shopping Channel",
                                    "checkNumber": "MF629602",
                                    "paymentDate": "2004-08-16",
                                    "amount": "20009.53"
                                },
                                {
                                    "customerName": "Euro+ Shopping Channel",
                                    "checkNumber": "NU627706",
                                    "paymentDate": "2004-05-17",
                                    "amount": "26155.91"
                                },
                                {
                                    "customerName": "Volvo Model Replicas, Co",
                                    "checkNumber": "IR846303",
                                    "paymentDate": "2004-12-12",
                                    "amount": "36005.71"
                                },
                                {
                                    "customerName": "Volvo Model Replicas, Co",
                                    "checkNumber": "LA685678",
                                    "paymentDate": "2003-04-09",
                                    "amount": "7674.94"
                                },
                                {
                                    "customerName": "Danish Wholesale Imports",
                                    "checkNumber": "CN328545",
                                    "paymentDate": "2004-07-03",
                                    "amount": "4710.73"
                                },
                                {
                                    "customerName": "Danish Wholesale Imports",
                                    "checkNumber": "ED39322",
                                    "paymentDate": "2004-04-26",
                                    "amount": "28211.70"
                                },
                                {
                                    "customerName": "Danish Wholesale Imports",
                                    "checkNumber": "HR182688",
                                    "paymentDate": "2004-12-01",
                                    "amount": "20564.86"
                                },
                                {
                                    "customerName": "Danish Wholesale Imports",
                                    "checkNumber": "JJ246391",
                                    "paymentDate": "2003-02-20",
                                    "amount": "53959.21"
                                },
                                {
                                    "customerName": "Saveley & Henriot, Co.",
                                    "checkNumber": "FP549817",
                                    "paymentDate": "2004-03-18",
                                    "amount": "40978.53"
                                },
                                {
                                    "customerName": "Saveley & Henriot, Co.",
                                    "checkNumber": "FU793410",
                                    "paymentDate": "2004-01-16",
                                    "amount": "49614.72"
                                },
                                {
                                    "customerName": "Saveley & Henriot, Co.",
                                    "checkNumber": "LJ160635",
                                    "paymentDate": "2003-12-10",
                                    "amount": "39712.10"
                                },
                                {
                                    "customerName": "Dragon Souveniers, Ltd.",
                                    "checkNumber": "BI507030",
                                    "paymentDate": "2003-04-22",
                                    "amount": "44380.15"
                                },
                                {
                                    "customerName": "Dragon Souveniers, Ltd.",
                                    "checkNumber": "DD635282",
                                    "paymentDate": "2004-08-11",
                                    "amount": "2611.84"
                                },
                                {
                                    "customerName": "Dragon Souveniers, Ltd.",
                                    "checkNumber": "KM172879",
                                    "paymentDate": "2003-12-26",
                                    "amount": "105743.00"
                                },
                                {
                                    "customerName": "Dragon Souveniers, Ltd.",
                                    "checkNumber": "ME497970",
                                    "paymentDate": "2005-03-27",
                                    "amount": "3516.04"
                                },
                                {
                                    "customerName": "Muscle Machine Inc",
                                    "checkNumber": "BF686658",
                                    "paymentDate": "2003-12-22",
                                    "amount": "58793.53"
                                },
                                {
                                    "customerName": "Muscle Machine Inc",
                                    "checkNumber": "GB852215",
                                    "paymentDate": "2004-07-26",
                                    "amount": "20314.44"
                                },
                                {
                                    "customerName": "Muscle Machine Inc",
                                    "checkNumber": "IP568906",
                                    "paymentDate": "2003-06-18",
                                    "amount": "58841.35"
                                },
                                {
                                    "customerName": "Muscle Machine Inc",
                                    "checkNumber": "KI884577",
                                    "paymentDate": "2004-12-14",
                                    "amount": "39964.63"
                                },
                                {
                                    "customerName": "Diecast Classics Inc.",
                                    "checkNumber": "HI618861",
                                    "paymentDate": "2004-11-19",
                                    "amount": "35152.12"
                                },
                                {
                                    "customerName": "Diecast Classics Inc.",
                                    "checkNumber": "NN711988",
                                    "paymentDate": "2004-09-07",
                                    "amount": "63357.13"
                                },
                                {
                                    "customerName": "Technics Stores Inc.",
                                    "checkNumber": "BR352384",
                                    "paymentDate": "2004-11-14",
                                    "amount": "2434.25"
                                },
                                {
                                    "customerName": "Technics Stores Inc.",
                                    "checkNumber": "BR478494",
                                    "paymentDate": "2003-11-18",
                                    "amount": "50743.65"
                                },
                                {
                                    "customerName": "Technics Stores Inc.",
                                    "checkNumber": "KG644125",
                                    "paymentDate": "2005-02-02",
                                    "amount": "12692.19"
                                },
                                {
                                    "customerName": "Technics Stores Inc.",
                                    "checkNumber": "NI908214",
                                    "paymentDate": "2003-08-05",
                                    "amount": "38675.13"
                                },
                                {
                                    "customerName": "Handji Gifts& Co",
                                    "checkNumber": "BQ327613",
                                    "paymentDate": "2004-09-16",
                                    "amount": "38785.48"
                                },
                                {
                                    "customerName": "Handji Gifts& Co",
                                    "checkNumber": "DC979307",
                                    "paymentDate": "2004-07-07",
                                    "amount": "44160.92"
                                },
                                {
                                    "customerName": "Handji Gifts& Co",
                                    "checkNumber": "LA318629",
                                    "paymentDate": "2004-02-28",
                                    "amount": "22474.17"
                                },
                                {
                                    "customerName": "Herkku Gifts",
                                    "checkNumber": "ED743615",
                                    "paymentDate": "2004-09-19",
                                    "amount": "12538.01"
                                },
                                {
                                    "customerName": "Herkku Gifts",
                                    "checkNumber": "GN228846",
                                    "paymentDate": "2003-12-03",
                                    "amount": "85024.46"
                                },
                                {
                                    "customerName": "Daedalus Designs Imports",
                                    "checkNumber": "GB878038",
                                    "paymentDate": "2004-03-15",
                                    "amount": "18997.89"
                                },
                                {
                                    "customerName": "Daedalus Designs Imports",
                                    "checkNumber": "IL104425",
                                    "paymentDate": "2003-11-22",
                                    "amount": "42783.81"
                                },
                                {
                                    "customerName": "La Corne D'abondance, Co.",
                                    "checkNumber": "AD832091",
                                    "paymentDate": "2004-09-09",
                                    "amount": "1960.80"
                                },
                                {
                                    "customerName": "La Corne D'abondance, Co.",
                                    "checkNumber": "CE51751",
                                    "paymentDate": "2004-12-04",
                                    "amount": "51209.58"
                                },
                                {
                                    "customerName": "La Corne D'abondance, Co.",
                                    "checkNumber": "EH208589",
                                    "paymentDate": "2003-04-20",
                                    "amount": "33383.14"
                                },
                                {
                                    "customerName": "Cambridge Collectables Co.",
                                    "checkNumber": "GP545698",
                                    "paymentDate": "2004-05-13",
                                    "amount": "11843.45"
                                },
                                {
                                    "customerName": "Cambridge Collectables Co.",
                                    "checkNumber": "IG462397",
                                    "paymentDate": "2004-03-29",
                                    "amount": "20355.24"
                                },
                                {
                                    "customerName": "Gift Depot Inc.",
                                    "checkNumber": "CITI3434344",
                                    "paymentDate": "2005-05-19",
                                    "amount": "28500.78"
                                },
                                {
                                    "customerName": "Gift Depot Inc.",
                                    "checkNumber": "IO448913",
                                    "paymentDate": "2003-11-19",
                                    "amount": "24879.08"
                                },
                                {
                                    "customerName": "Gift Depot Inc.",
                                    "checkNumber": "PI15215",
                                    "paymentDate": "2004-07-10",
                                    "amount": "42044.77"
                                },
                                {
                                    "customerName": "Osaka Souveniers Co.",
                                    "checkNumber": "AU750837",
                                    "paymentDate": "2004-04-17",
                                    "amount": "15183.63"
                                },
                                {
                                    "customerName": "Osaka Souveniers Co.",
                                    "checkNumber": "CI381435",
                                    "paymentDate": "2004-01-19",
                                    "amount": "47177.59"
                                },
                                {
                                    "customerName": "Vitachrome Inc.",
                                    "checkNumber": "CM564612",
                                    "paymentDate": "2004-04-25",
                                    "amount": "22602.36"
                                },
                                {
                                    "customerName": "Vitachrome Inc.",
                                    "checkNumber": "GQ132144",
                                    "paymentDate": "2003-01-30",
                                    "amount": "5494.78"
                                },
                                {
                                    "customerName": "Vitachrome Inc.",
                                    "checkNumber": "OH367219",
                                    "paymentDate": "2004-11-16",
                                    "amount": "44400.50"
                                },
                                {
                                    "customerName": "Toys of Finland, Co.",
                                    "checkNumber": "AE192287",
                                    "paymentDate": "2005-03-10",
                                    "amount": "23602.90"
                                },
                                {
                                    "customerName": "Toys of Finland, Co.",
                                    "checkNumber": "AK412714",
                                    "paymentDate": "2003-10-27",
                                    "amount": "37602.48"
                                },
                                {
                                    "customerName": "Toys of Finland, Co.",
                                    "checkNumber": "KA602407",
                                    "paymentDate": "2004-10-21",
                                    "amount": "34341.08"
                                },
                                {
                                    "customerName": "AV Stores, Co.",
                                    "checkNumber": "AM968797",
                                    "paymentDate": "2004-11-03",
                                    "amount": "52825.29"
                                },
                                {
                                    "customerName": "AV Stores, Co.",
                                    "checkNumber": "BQ39062",
                                    "paymentDate": "2004-12-08",
                                    "amount": "47159.11"
                                },
                                {
                                    "customerName": "AV Stores, Co.",
                                    "checkNumber": "KL124726",
                                    "paymentDate": "2003-03-27",
                                    "amount": "48425.69"
                                },
                                {
                                    "customerName": "Clover Collections, Co.",
                                    "checkNumber": "BO711618",
                                    "paymentDate": "2004-10-03",
                                    "amount": "17359.53"
                                },
                                {
                                    "customerName": "Clover Collections, Co.",
                                    "checkNumber": "NM916675",
                                    "paymentDate": "2004-03-01",
                                    "amount": "32538.74"
                                },
                                {
                                    "customerName": "Auto-Moto Classics Inc.",
                                    "checkNumber": "FI192930",
                                    "paymentDate": "2004-12-06",
                                    "amount": "9658.74"
                                },
                                {
                                    "customerName": "Auto-Moto Classics Inc.",
                                    "checkNumber": "HQ920205",
                                    "paymentDate": "2003-07-06",
                                    "amount": "6036.96"
                                },
                                {
                                    "customerName": "Auto-Moto Classics Inc.",
                                    "checkNumber": "IS946883",
                                    "paymentDate": "2004-09-21",
                                    "amount": "5858.56"
                                },
                                {
                                    "customerName": "UK Collectables, Ltd.",
                                    "checkNumber": "DP677013",
                                    "paymentDate": "2003-10-20",
                                    "amount": "23908.24"
                                },
                                {
                                    "customerName": "UK Collectables, Ltd.",
                                    "checkNumber": "OO846801",
                                    "paymentDate": "2004-06-15",
                                    "amount": "37258.94"
                                },
                                {
                                    "customerName": "Canadian Gift Exchange Network",
                                    "checkNumber": "HI358554",
                                    "paymentDate": "2003-12-18",
                                    "amount": "36527.61"
                                },
                                {
                                    "customerName": "Canadian Gift Exchange Network",
                                    "checkNumber": "IQ627690",
                                    "paymentDate": "2004-11-08",
                                    "amount": "33594.58"
                                },
                                {
                                    "customerName": "Online Mini Collectables",
                                    "checkNumber": "GC697638",
                                    "paymentDate": "2004-08-13",
                                    "amount": "51152.86"
                                },
                                {
                                    "customerName": "Online Mini Collectables",
                                    "checkNumber": "IS150005",
                                    "paymentDate": "2004-09-24",
                                    "amount": "4424.40"
                                },
                                {
                                    "customerName": "Toys4GrownUps.com",
                                    "checkNumber": "GL756480",
                                    "paymentDate": "2003-12-04",
                                    "amount": "3879.96"
                                },
                                {
                                    "customerName": "Toys4GrownUps.com",
                                    "checkNumber": "LL562733",
                                    "paymentDate": "2003-09-05",
                                    "amount": "50342.74"
                                },
                                {
                                    "customerName": "Toys4GrownUps.com",
                                    "checkNumber": "NM739638",
                                    "paymentDate": "2005-02-06",
                                    "amount": "39580.60"
                                },
                                {
                                    "customerName": "Mini Caravy",
                                    "checkNumber": "BOAF82044",
                                    "paymentDate": "2005-05-03",
                                    "amount": "35157.75"
                                },
                                {
                                    "customerName": "Mini Caravy",
                                    "checkNumber": "ED520529",
                                    "paymentDate": "2004-06-21",
                                    "amount": "4632.31"
                                },
                                {
                                    "customerName": "Mini Caravy",
                                    "checkNumber": "PH785937",
                                    "paymentDate": "2004-05-04",
                                    "amount": "36069.26"
                                },
                                {
                                    "customerName": "King Kong Collectables, Co.",
                                    "checkNumber": "BJ535230",
                                    "paymentDate": "2003-12-09",
                                    "amount": "45480.79"
                                },
                                {
                                    "customerName": "Enaco Distributors",
                                    "checkNumber": "BG407567",
                                    "paymentDate": "2003-05-09",
                                    "amount": "3101.40"
                                },
                                {
                                    "customerName": "Enaco Distributors",
                                    "checkNumber": "ML780814",
                                    "paymentDate": "2004-12-06",
                                    "amount": "24945.21"
                                },
                                {
                                    "customerName": "Enaco Distributors",
                                    "checkNumber": "MM342086",
                                    "paymentDate": "2003-12-14",
                                    "amount": "40473.86"
                                },
                                {
                                    "customerName": "Boards & Toys Co.",
                                    "checkNumber": "BN17870",
                                    "paymentDate": "2005-03-02",
                                    "amount": "3452.75"
                                },
                                {
                                    "customerName": "Boards & Toys Co.",
                                    "checkNumber": "BR941480",
                                    "paymentDate": "2003-10-18",
                                    "amount": "4465.85"
                                },
                                {
                                    "customerName": "Heintze Collectables",
                                    "checkNumber": "MQ413968",
                                    "paymentDate": "2003-10-31",
                                    "amount": "36164.46"
                                },
                                {
                                    "customerName": "Heintze Collectables",
                                    "checkNumber": "NU21326",
                                    "paymentDate": "2004-11-02",
                                    "amount": "53745.34"
                                },
                                {
                                    "customerName": "Québec Home Shopping Network",
                                    "checkNumber": "BOFA23232",
                                    "paymentDate": "2005-05-20",
                                    "amount": "29070.38"
                                },
                                {
                                    "customerName": "Québec Home Shopping Network",
                                    "checkNumber": "II180006",
                                    "paymentDate": "2004-07-01",
                                    "amount": "22997.45"
                                },
                                {
                                    "customerName": "Québec Home Shopping Network",
                                    "checkNumber": "JG981190",
                                    "paymentDate": "2003-11-18",
                                    "amount": "16909.84"
                                },
                                {
                                    "customerName": "Collectable Mini Designs Co.",
                                    "checkNumber": "NQ865547",
                                    "paymentDate": "2004-03-15",
                                    "amount": "80375.24"
                                },
                                {
                                    "customerName": "giftsbymail.co.uk",
                                    "checkNumber": "IF245157",
                                    "paymentDate": "2004-11-16",
                                    "amount": "46788.14"
                                },
                                {
                                    "customerName": "giftsbymail.co.uk",
                                    "checkNumber": "JO719695",
                                    "paymentDate": "2004-03-28",
                                    "amount": "24995.61"
                                },
                                {
                                    "customerName": "Alpha Cognac",
                                    "checkNumber": "AF40894",
                                    "paymentDate": "2003-11-22",
                                    "amount": "33818.34"
                                },
                                {
                                    "customerName": "Alpha Cognac",
                                    "checkNumber": "HR224331",
                                    "paymentDate": "2005-06-03",
                                    "amount": "12432.32"
                                },
                                {
                                    "customerName": "Alpha Cognac",
                                    "checkNumber": "KI744716",
                                    "paymentDate": "2003-07-21",
                                    "amount": "14232.70"
                                },
                                {
                                    "customerName": "Amica Models & Co.",
                                    "checkNumber": "IJ399820",
                                    "paymentDate": "2004-09-19",
                                    "amount": "33924.24"
                                },
                                {
                                    "customerName": "Amica Models & Co.",
                                    "checkNumber": "NE404084",
                                    "paymentDate": "2004-09-04",
                                    "amount": "48298.99"
                                },
                                {
                                    "customerName": "Lyon Souveniers",
                                    "checkNumber": "EQ12267",
                                    "paymentDate": "2005-05-17",
                                    "amount": "17928.09"
                                },
                                {
                                    "customerName": "Lyon Souveniers",
                                    "checkNumber": "HD284647",
                                    "paymentDate": "2004-12-30",
                                    "amount": "26311.63"
                                },
                                {
                                    "customerName": "Lyon Souveniers",
                                    "checkNumber": "HN114306",
                                    "paymentDate": "2003-07-18",
                                    "amount": "23419.47"
                                },
                                {
                                    "customerName": "Auto Associés & Cie.",
                                    "checkNumber": "EP227123",
                                    "paymentDate": "2004-02-10",
                                    "amount": "5759.42"
                                },
                                {
                                    "customerName": "Auto Associés & Cie.",
                                    "checkNumber": "HE84936",
                                    "paymentDate": "2004-10-22",
                                    "amount": "53116.99"
                                },
                                {
                                    "customerName": "Toms Spezialitäten, Ltd",
                                    "checkNumber": "EU280955",
                                    "paymentDate": "2004-11-06",
                                    "amount": "61234.67"
                                },
                                {
                                    "customerName": "Toms Spezialitäten, Ltd",
                                    "checkNumber": "GB361972",
                                    "paymentDate": "2003-12-07",
                                    "amount": "27988.47"
                                },
                                {
                                    "customerName": "Royal Canadian Collectables, Ltd.",
                                    "checkNumber": "IO164641",
                                    "paymentDate": "2004-08-30",
                                    "amount": "37527.58"
                                },
                                {
                                    "customerName": "Royal Canadian Collectables, Ltd.",
                                    "checkNumber": "NH776924",
                                    "paymentDate": "2004-04-24",
                                    "amount": "29284.42"
                                },
                                {
                                    "customerName": "Anna's Decorations, Ltd",
                                    "checkNumber": "EM979878",
                                    "paymentDate": "2005-02-09",
                                    "amount": "27083.78"
                                },
                                {
                                    "customerName": "Anna's Decorations, Ltd",
                                    "checkNumber": "KM841847",
                                    "paymentDate": "2003-11-13",
                                    "amount": "38547.19"
                                },
                                {
                                    "customerName": "Anna's Decorations, Ltd",
                                    "checkNumber": "LE432182",
                                    "paymentDate": "2003-09-28",
                                    "amount": "41554.73"
                                },
                                {
                                    "customerName": "Anna's Decorations, Ltd",
                                    "checkNumber": "OJ819725",
                                    "paymentDate": "2005-04-30",
                                    "amount": "29848.52"
                                },
                                {
                                    "customerName": "Rovelli Gifts",
                                    "checkNumber": "BJ483870",
                                    "paymentDate": "2004-12-05",
                                    "amount": "37654.09"
                                },
                                {
                                    "customerName": "Rovelli Gifts",
                                    "checkNumber": "GP636783",
                                    "paymentDate": "2003-03-02",
                                    "amount": "52151.81"
                                },
                                {
                                    "customerName": "Rovelli Gifts",
                                    "checkNumber": "NI983021",
                                    "paymentDate": "2003-11-24",
                                    "amount": "37723.79"
                                },
                                {
                                    "customerName": "Souveniers And Things Co.",
                                    "checkNumber": "IA793562",
                                    "paymentDate": "2003-08-03",
                                    "amount": "24013.52"
                                },
                                {
                                    "customerName": "Souveniers And Things Co.",
                                    "checkNumber": "JT819493",
                                    "paymentDate": "2004-08-02",
                                    "amount": "35806.73"
                                },
                                {
                                    "customerName": "Souveniers And Things Co.",
                                    "checkNumber": "OD327378",
                                    "paymentDate": "2005-01-03",
                                    "amount": "31835.36"
                                },
                                {
                                    "customerName": "Marta's Replicas Co.",
                                    "checkNumber": "DR578578",
                                    "paymentDate": "2004-10-28",
                                    "amount": "47411.33"
                                },
                                {
                                    "customerName": "Marta's Replicas Co.",
                                    "checkNumber": "KH910279",
                                    "paymentDate": "2004-09-05",
                                    "amount": "43134.04"
                                },
                                {
                                    "customerName": "Vida Sport, Ltd",
                                    "checkNumber": "AJ574927",
                                    "paymentDate": "2004-03-13",
                                    "amount": "47375.92"
                                },
                                {
                                    "customerName": "Vida Sport, Ltd",
                                    "checkNumber": "LF501133",
                                    "paymentDate": "2004-09-18",
                                    "amount": "61402.00"
                                },
                                {
                                    "customerName": "Norway Gifts By Mail, Co.",
                                    "checkNumber": "AD304085",
                                    "paymentDate": "2003-10-24",
                                    "amount": "36798.88"
                                },
                                {
                                    "customerName": "Norway Gifts By Mail, Co.",
                                    "checkNumber": "NR157385",
                                    "paymentDate": "2004-09-05",
                                    "amount": "32260.16"
                                },
                                {
                                    "customerName": "Oulu Toy Supplies, Inc.",
                                    "checkNumber": "DG336041",
                                    "paymentDate": "2005-02-15",
                                    "amount": "46770.52"
                                },
                                {
                                    "customerName": "Oulu Toy Supplies, Inc.",
                                    "checkNumber": "FA728475",
                                    "paymentDate": "2003-10-06",
                                    "amount": "32723.04"
                                },
                                {
                                    "customerName": "Oulu Toy Supplies, Inc.",
                                    "checkNumber": "NQ966143",
                                    "paymentDate": "2004-04-25",
                                    "amount": "16212.59"
                                },
                                {
                                    "customerName": "Petit Auto",
                                    "checkNumber": "LQ244073",
                                    "paymentDate": "2004-08-09",
                                    "amount": "45352.47"
                                },
                                {
                                    "customerName": "Petit Auto",
                                    "checkNumber": "MD809704",
                                    "paymentDate": "2004-03-03",
                                    "amount": "16901.38"
                                },
                                {
                                    "customerName": "Mini Classics",
                                    "checkNumber": "HL685576",
                                    "paymentDate": "2004-11-06",
                                    "amount": "42339.76"
                                },
                                {
                                    "customerName": "Mini Classics",
                                    "checkNumber": "OM548174",
                                    "paymentDate": "2003-12-07",
                                    "amount": "36092.40"
                                },
                                {
                                    "customerName": "Mini Creations Ltd.",
                                    "checkNumber": "GJ597719",
                                    "paymentDate": "2005-01-18",
                                    "amount": "8307.28"
                                },
                                {
                                    "customerName": "Mini Creations Ltd.",
                                    "checkNumber": "HO576374",
                                    "paymentDate": "2003-08-20",
                                    "amount": "41016.75"
                                },
                                {
                                    "customerName": "Mini Creations Ltd.",
                                    "checkNumber": "MU817160",
                                    "paymentDate": "2003-11-24",
                                    "amount": "52548.49"
                                },
                                {
                                    "customerName": "Corporate Gift Ideas Co.",
                                    "checkNumber": "DJ15149",
                                    "paymentDate": "2003-11-03",
                                    "amount": "85559.12"
                                },
                                {
                                    "customerName": "Corporate Gift Ideas Co.",
                                    "checkNumber": "LA556321",
                                    "paymentDate": "2005-03-15",
                                    "amount": "46781.66"
                                },
                                {
                                    "customerName": "Down Under Souveniers, Inc",
                                    "checkNumber": "AL493079",
                                    "paymentDate": "2005-05-23",
                                    "amount": "75020.13"
                                },
                                {
                                    "customerName": "Down Under Souveniers, Inc",
                                    "checkNumber": "ES347491",
                                    "paymentDate": "2004-06-24",
                                    "amount": "37281.36"
                                },
                                {
                                    "customerName": "Down Under Souveniers, Inc",
                                    "checkNumber": "HG738664",
                                    "paymentDate": "2003-07-05",
                                    "amount": "2880.00"
                                },
                                {
                                    "customerName": "Down Under Souveniers, Inc",
                                    "checkNumber": "PQ803830",
                                    "paymentDate": "2004-12-24",
                                    "amount": "39440.59"
                                },
                                {
                                    "customerName": "Stylish Desk Decors, Co.",
                                    "checkNumber": "DQ409197",
                                    "paymentDate": "2004-12-13",
                                    "amount": "13671.82"
                                },
                                {
                                    "customerName": "Stylish Desk Decors, Co.",
                                    "checkNumber": "FP443161",
                                    "paymentDate": "2003-07-07",
                                    "amount": "29429.14"
                                },
                                {
                                    "customerName": "Stylish Desk Decors, Co.",
                                    "checkNumber": "HB150714",
                                    "paymentDate": "2003-11-23",
                                    "amount": "37455.77"
                                },
                                {
                                    "customerName": "Tekni Collectables Inc.",
                                    "checkNumber": "EN930356",
                                    "paymentDate": "2004-04-16",
                                    "amount": "7178.66"
                                },
                                {
                                    "customerName": "Tekni Collectables Inc.",
                                    "checkNumber": "NR631421",
                                    "paymentDate": "2004-05-30",
                                    "amount": "31102.85"
                                },
                                {
                                    "customerName": "Australian Gift Network, Co",
                                    "checkNumber": "HL209210",
                                    "paymentDate": "2003-11-15",
                                    "amount": "23936.53"
                                },
                                {
                                    "customerName": "Australian Gift Network, Co",
                                    "checkNumber": "JK479662",
                                    "paymentDate": "2003-10-17",
                                    "amount": "9821.32"
                                },
                                {
                                    "customerName": "Australian Gift Network, Co",
                                    "checkNumber": "NF959653",
                                    "paymentDate": "2005-03-01",
                                    "amount": "21432.31"
                                },
                                {
                                    "customerName": "Suominen Souveniers",
                                    "checkNumber": "CS435306",
                                    "paymentDate": "2005-01-27",
                                    "amount": "45785.34"
                                },
                                {
                                    "customerName": "Suominen Souveniers",
                                    "checkNumber": "HH517378",
                                    "paymentDate": "2003-08-16",
                                    "amount": "29716.86"
                                },
                                {
                                    "customerName": "Suominen Souveniers",
                                    "checkNumber": "LF737277",
                                    "paymentDate": "2004-05-22",
                                    "amount": "28394.54"
                                },
                                {
                                    "customerName": "Classic Gift Ideas, Inc",
                                    "checkNumber": "AP286625",
                                    "paymentDate": "2004-10-24",
                                    "amount": "23333.06"
                                },
                                {
                                    "customerName": "Classic Gift Ideas, Inc",
                                    "checkNumber": "DA98827",
                                    "paymentDate": "2003-11-28",
                                    "amount": "34606.28"
                                },
                                {
                                    "customerName": "CAF Imports",
                                    "checkNumber": "AF246722",
                                    "paymentDate": "2003-11-24",
                                    "amount": "31428.21"
                                },
                                {
                                    "customerName": "CAF Imports",
                                    "checkNumber": "NJ906924",
                                    "paymentDate": "2004-04-02",
                                    "amount": "15322.93"
                                },
                                {
                                    "customerName": "Men 'R' US Retailers, Ltd.",
                                    "checkNumber": "DG700707",
                                    "paymentDate": "2004-01-18",
                                    "amount": "21053.69"
                                },
                                {
                                    "customerName": "Men 'R' US Retailers, Ltd.",
                                    "checkNumber": "LG808674",
                                    "paymentDate": "2003-10-24",
                                    "amount": "20452.50"
                                },
                                {
                                    "customerName": "Marseille Mini Autos",
                                    "checkNumber": "BQ602907",
                                    "paymentDate": "2004-12-11",
                                    "amount": "18888.31"
                                },
                                {
                                    "customerName": "Marseille Mini Autos",
                                    "checkNumber": "CI471510",
                                    "paymentDate": "2003-05-25",
                                    "amount": "50824.66"
                                },
                                {
                                    "customerName": "Marseille Mini Autos",
                                    "checkNumber": "OB648482",
                                    "paymentDate": "2005-01-29",
                                    "amount": "1834.56"
                                },
                                {
                                    "customerName": "Reims Collectables",
                                    "checkNumber": "CO351193",
                                    "paymentDate": "2005-01-10",
                                    "amount": "49705.52"
                                },
                                {
                                    "customerName": "Reims Collectables",
                                    "checkNumber": "ED878227",
                                    "paymentDate": "2003-07-21",
                                    "amount": "13920.26"
                                },
                                {
                                    "customerName": "Reims Collectables",
                                    "checkNumber": "GT878649",
                                    "paymentDate": "2003-05-21",
                                    "amount": "16700.47"
                                },
                                {
                                    "customerName": "Reims Collectables",
                                    "checkNumber": "HJ618252",
                                    "paymentDate": "2005-06-09",
                                    "amount": "46656.94"
                                },
                                {
                                    "customerName": "GiftsForHim.com",
                                    "checkNumber": "AG240323",
                                    "paymentDate": "2003-12-16",
                                    "amount": "20220.04"
                                },
                                {
                                    "customerName": "GiftsForHim.com",
                                    "checkNumber": "NB291497",
                                    "paymentDate": "2004-05-15",
                                    "amount": "36442.34"
                                },
                                {
                                    "customerName": "Gifts4AllAges.com",
                                    "checkNumber": "FP170292",
                                    "paymentDate": "2004-07-11",
                                    "amount": "18473.71"
                                },
                                {
                                    "customerName": "Gifts4AllAges.com",
                                    "checkNumber": "OG208861",
                                    "paymentDate": "2004-09-21",
                                    "amount": "15059.76"
                                },
                                {
                                    "customerName": "Online Diecast Creations Co.",
                                    "checkNumber": "HL575273",
                                    "paymentDate": "2004-11-17",
                                    "amount": "50799.69"
                                },
                                {
                                    "customerName": "Online Diecast Creations Co.",
                                    "checkNumber": "IS232033",
                                    "paymentDate": "2003-01-16",
                                    "amount": "10223.83"
                                },
                                {
                                    "customerName": "Online Diecast Creations Co.",
                                    "checkNumber": "PN238558",
                                    "paymentDate": "2003-12-05",
                                    "amount": "55425.77"
                                },
                                {
                                    "customerName": "Collectables For Less Inc.",
                                    "checkNumber": "CA762595",
                                    "paymentDate": "2005-02-12",
                                    "amount": "28322.83"
                                },
                                {
                                    "customerName": "Collectables For Less Inc.",
                                    "checkNumber": "FR499138",
                                    "paymentDate": "2003-09-16",
                                    "amount": "32680.31"
                                },
                                {
                                    "customerName": "Collectables For Less Inc.",
                                    "checkNumber": "GB890854",
                                    "paymentDate": "2004-08-02",
                                    "amount": "12530.51"
                                },
                                {
                                    "customerName": "Royale Belge",
                                    "checkNumber": "BC726082",
                                    "paymentDate": "2004-12-03",
                                    "amount": "12081.52"
                                },
                                {
                                    "customerName": "Royale Belge",
                                    "checkNumber": "CC475233",
                                    "paymentDate": "2003-04-19",
                                    "amount": "1627.56"
                                },
                                {
                                    "customerName": "Royale Belge",
                                    "checkNumber": "GB117430",
                                    "paymentDate": "2005-02-03",
                                    "amount": "14379.90"
                                },
                                {
                                    "customerName": "Royale Belge",
                                    "checkNumber": "MS154481",
                                    "paymentDate": "2003-08-22",
                                    "amount": "1128.20"
                                },
                                {
                                    "customerName": "Salzburg Collectables",
                                    "checkNumber": "CC871084",
                                    "paymentDate": "2003-05-12",
                                    "amount": "35826.33"
                                },
                                {
                                    "customerName": "Salzburg Collectables",
                                    "checkNumber": "CT821147",
                                    "paymentDate": "2004-08-01",
                                    "amount": "6419.84"
                                },
                                {
                                    "customerName": "Salzburg Collectables",
                                    "checkNumber": "PH29054",
                                    "paymentDate": "2004-11-27",
                                    "amount": "42813.83"
                                },
                                {
                                    "customerName": "Cruz & Sons Co.",
                                    "checkNumber": "BN347084",
                                    "paymentDate": "2003-12-02",
                                    "amount": "20644.24"
                                },
                                {
                                    "customerName": "Cruz & Sons Co.",
                                    "checkNumber": "CP804873",
                                    "paymentDate": "2004-11-19",
                                    "amount": "15822.84"
                                },
                                {
                                    "customerName": "Cruz & Sons Co.",
                                    "checkNumber": "EK785462",
                                    "paymentDate": "2003-03-09",
                                    "amount": "51001.22"
                                },
                                {
                                    "customerName": "L'ordine Souveniers",
                                    "checkNumber": "DO106109",
                                    "paymentDate": "2003-11-18",
                                    "amount": "38524.29"
                                },
                                {
                                    "customerName": "L'ordine Souveniers",
                                    "checkNumber": "HG438769",
                                    "paymentDate": "2004-07-18",
                                    "amount": "51619.02"
                                },
                                {
                                    "customerName": "Tokyo Collectables, Ltd",
                                    "checkNumber": "AJ478695",
                                    "paymentDate": "2005-02-14",
                                    "amount": "33967.73"
                                },
                                {
                                    "customerName": "Tokyo Collectables, Ltd",
                                    "checkNumber": "DO787644",
                                    "paymentDate": "2004-06-21",
                                    "amount": "22037.91"
                                },
                                {
                                    "customerName": "Tokyo Collectables, Ltd",
                                    "checkNumber": "JPMR4544",
                                    "paymentDate": "2005-05-18",
                                    "amount": "615.45"
                                },
                                {
                                    "customerName": "Tokyo Collectables, Ltd",
                                    "checkNumber": "KB54275",
                                    "paymentDate": "2004-11-29",
                                    "amount": "48927.64"
                                },
                                {
                                    "customerName": "Auto Canal+ Petit",
                                    "checkNumber": "BJMPR4545",
                                    "paymentDate": "2005-04-23",
                                    "amount": "12190.85"
                                },
                                {
                                    "customerName": "Auto Canal+ Petit",
                                    "checkNumber": "HJ217687",
                                    "paymentDate": "2004-01-28",
                                    "amount": "49165.16"
                                },
                                {
                                    "customerName": "Auto Canal+ Petit",
                                    "checkNumber": "NA197101",
                                    "paymentDate": "2004-06-17",
                                    "amount": "25080.96"
                                },
                                {
                                    "customerName": "Extreme Desk Decorations, Ltd",
                                    "checkNumber": "GH197075",
                                    "paymentDate": "2004-07-25",
                                    "amount": "35034.57"
                                },
                                {
                                    "customerName": "Extreme Desk Decorations, Ltd",
                                    "checkNumber": "PJ434867",
                                    "paymentDate": "2004-04-14",
                                    "amount": "31670.37"
                                },
                                {
                                    "customerName": "Bavarian Collectables Imports, Co.",
                                    "checkNumber": "ER54537",
                                    "paymentDate": "2004-09-28",
                                    "amount": "31310.09"
                                },
                                {
                                    "customerName": "Classic Legends Inc.",
                                    "checkNumber": "KF480160",
                                    "paymentDate": "2004-12-07",
                                    "amount": "25505.98"
                                },
                                {
                                    "customerName": "Classic Legends Inc.",
                                    "checkNumber": "LM271923",
                                    "paymentDate": "2003-04-16",
                                    "amount": "21665.98"
                                },
                                {
                                    "customerName": "Classic Legends Inc.",
                                    "checkNumber": "OA595449",
                                    "paymentDate": "2003-10-31",
                                    "amount": "22042.37"
                                },
                                {
                                    "customerName": "Gift Ideas Corp.",
                                    "checkNumber": "AO757239",
                                    "paymentDate": "2003-09-15",
                                    "amount": "6631.36"
                                },
                                {
                                    "customerName": "Gift Ideas Corp.",
                                    "checkNumber": "ER615123",
                                    "paymentDate": "2003-06-25",
                                    "amount": "17032.29"
                                },
                                {
                                    "customerName": "Gift Ideas Corp.",
                                    "checkNumber": "OU516561",
                                    "paymentDate": "2004-12-17",
                                    "amount": "26304.13"
                                },
                                {
                                    "customerName": "Scandinavian Gift Ideas",
                                    "checkNumber": "FS299615",
                                    "paymentDate": "2005-04-18",
                                    "amount": "27966.54"
                                },
                                {
                                    "customerName": "Scandinavian Gift Ideas",
                                    "checkNumber": "KR822727",
                                    "paymentDate": "2004-09-30",
                                    "amount": "48809.90"
                                },
                                {
                                    "customerName": "The Sharp Gifts Warehouse",
                                    "checkNumber": "EF485824",
                                    "paymentDate": "2004-06-21",
                                    "amount": "59551.38"
                                },
                                {
                                    "customerName": "Mini Auto Werke",
                                    "checkNumber": "ED473873",
                                    "paymentDate": "2003-11-15",
                                    "amount": "27121.90"
                                },
                                {
                                    "customerName": "Mini Auto Werke",
                                    "checkNumber": "FN640986",
                                    "paymentDate": "2003-11-20",
                                    "amount": "15130.97"
                                },
                                {
                                    "customerName": "Mini Auto Werke",
                                    "checkNumber": "HG635467",
                                    "paymentDate": "2005-05-03",
                                    "amount": "8807.12"
                                },
                                {
                                    "customerName": "Super Scale Inc.",
                                    "checkNumber": "HA777606",
                                    "paymentDate": "2003-12-05",
                                    "amount": "38139.18"
                                },
                                {
                                    "customerName": "Super Scale Inc.",
                                    "checkNumber": "IR662429",
                                    "paymentDate": "2004-05-12",
                                    "amount": "32239.47"
                                },
                                {
                                    "customerName": "Microscale Inc.",
                                    "checkNumber": "GJ715659",
                                    "paymentDate": "2004-11-13",
                                    "amount": "27550.51"
                                },
                                {
                                    "customerName": "Microscale Inc.",
                                    "checkNumber": "MO743231",
                                    "paymentDate": "2004-04-30",
                                    "amount": "1679.92"
                                },
                                {
                                    "customerName": "Corrida Auto Replicas, Ltd",
                                    "checkNumber": "DD995006",
                                    "paymentDate": "2004-11-15",
                                    "amount": "33145.56"
                                },
                                {
                                    "customerName": "Corrida Auto Replicas, Ltd",
                                    "checkNumber": "NA377824",
                                    "paymentDate": "2004-02-06",
                                    "amount": "22162.61"
                                },
                                {
                                    "customerName": "Corrida Auto Replicas, Ltd",
                                    "checkNumber": "OO606861",
                                    "paymentDate": "2003-06-13",
                                    "amount": "57131.92"
                                },
                                {
                                    "customerName": "FunGiftIdeas.com",
                                    "checkNumber": "ED203908",
                                    "paymentDate": "2005-04-15",
                                    "amount": "30293.77"
                                },
                                {
                                    "customerName": "FunGiftIdeas.com",
                                    "checkNumber": "GC60330",
                                    "paymentDate": "2003-11-08",
                                    "amount": "9977.85"
                                },
                                {
                                    "customerName": "FunGiftIdeas.com",
                                    "checkNumber": "PE176846",
                                    "paymentDate": "2004-11-27",
                                    "amount": "48355.87"
                                },
                                {
                                    "customerName": "Australian Collectables, Ltd",
                                    "checkNumber": "AB661578",
                                    "paymentDate": "2004-07-28",
                                    "amount": "9415.13"
                                },
                                {
                                    "customerName": "Australian Collectables, Ltd",
                                    "checkNumber": "CO645196",
                                    "paymentDate": "2003-12-10",
                                    "amount": "35505.63"
                                },
                                {
                                    "customerName": "Frau da Collezione",
                                    "checkNumber": "LL427009",
                                    "paymentDate": "2004-02-17",
                                    "amount": "7612.06"
                                },
                                {
                                    "customerName": "Frau da Collezione",
                                    "checkNumber": "PC688499",
                                    "paymentDate": "2003-10-27",
                                    "amount": "17746.26"
                                },
                                {
                                    "customerName": "West Coast Collectables Co.",
                                    "checkNumber": "JP113227",
                                    "paymentDate": "2003-12-09",
                                    "amount": "7678.25"
                                },
                                {
                                    "customerName": "West Coast Collectables Co.",
                                    "checkNumber": "PB951268",
                                    "paymentDate": "2004-02-13",
                                    "amount": "36070.47"
                                },
                                {
                                    "customerName": "Iberia Gift Imports, Corp.",
                                    "checkNumber": "GK294076",
                                    "paymentDate": "2004-10-26",
                                    "amount": "3474.66"
                                },
                                {
                                    "customerName": "Iberia Gift Imports, Corp.",
                                    "checkNumber": "JH546765",
                                    "paymentDate": "2003-11-29",
                                    "amount": "47513.19"
                                },
                                {
                                    "customerName": "Motor Mint Distributors Inc.",
                                    "checkNumber": "BL66528",
                                    "paymentDate": "2004-04-14",
                                    "amount": "5899.38"
                                },
                                {
                                    "customerName": "Motor Mint Distributors Inc.",
                                    "checkNumber": "HS86661",
                                    "paymentDate": "2004-11-23",
                                    "amount": "45994.07"
                                },
                                {
                                    "customerName": "Motor Mint Distributors Inc.",
                                    "checkNumber": "JB117768",
                                    "paymentDate": "2003-03-20",
                                    "amount": "25833.14"
                                },
                                {
                                    "customerName": "Signal Collectibles Ltd.",
                                    "checkNumber": "AH612904",
                                    "paymentDate": "2003-09-28",
                                    "amount": "29997.09"
                                },
                                {
                                    "customerName": "Signal Collectibles Ltd.",
                                    "checkNumber": "PT550181",
                                    "paymentDate": "2004-02-29",
                                    "amount": "12573.28"
                                },
                                {
                                    "customerName": "Double Decker Gift Stores, Ltd",
                                    "checkNumber": "OC773849",
                                    "paymentDate": "2003-12-04",
                                    "amount": "22275.73"
                                },
                                {
                                    "customerName": "Double Decker Gift Stores, Ltd",
                                    "checkNumber": "PO860906",
                                    "paymentDate": "2004-01-31",
                                    "amount": "7310.42"
                                },
                                {
                                    "customerName": "Diecast Collectables",
                                    "checkNumber": "BH167026",
                                    "paymentDate": "2003-12-26",
                                    "amount": "59265.14"
                                },
                                {
                                    "customerName": "Diecast Collectables",
                                    "checkNumber": "FN155234",
                                    "paymentDate": "2004-05-14",
                                    "amount": "6276.60"
                                },
                                {
                                    "customerName": "Kelly's Gift Shop",
                                    "checkNumber": "EU531600",
                                    "paymentDate": "2005-05-25",
                                    "amount": "30253.75"
                                },
                                {
                                    "customerName": "Kelly's Gift Shop",
                                    "checkNumber": "MB342426",
                                    "paymentDate": "2003-07-16",
                                    "amount": "32077.44"
                                },
                                {
                                    "customerName": "Kelly's Gift Shop",
                                    "checkNumber": "MN89921",
                                    "paymentDate": "2004-12-31",
                                    "amount": "52166.00"
                                }
                            ]
                        },
                        "text/html": "<table><tr><th>customerName</th><th>checkNumber</th><th>paymentDate</th><th>amount</th></tr><tr><td>Atelier graphique</td><td>HQ336336</td><td>2004-10-19</td><td>6066.78</td></tr><tr><td>Atelier graphique</td><td>JM555205</td><td>2003-06-05</td><td>14571.44</td></tr><tr><td>Atelier graphique</td><td>OM314933</td><td>2004-12-18</td><td>1676.14</td></tr><tr><td>Signal Gift Stores</td><td>BO864823</td><td>2004-12-17</td><td>14191.12</td></tr><tr><td>Signal Gift Stores</td><td>HQ55022</td><td>2003-06-06</td><td>32641.98</td></tr><tr><td>Signal Gift Stores</td><td>ND748579</td><td>2004-08-20</td><td>33347.88</td></tr><tr><td>Australian Collectors, Co.</td><td>GG31455</td><td>2003-05-20</td><td>45864.03</td></tr><tr><td>Australian Collectors, Co.</td><td>MA765515</td><td>2004-12-15</td><td>82261.22</td></tr><tr><td>Australian Collectors, Co.</td><td>NP603840</td><td>2003-05-31</td><td>7565.08</td></tr><tr><td>Australian Collectors, Co.</td><td>NR27552</td><td>2004-03-10</td><td>44894.74</td></tr><tr><td>La Rochelle Gifts</td><td>DB933704</td><td>2004-11-14</td><td>19501.82</td></tr><tr><td>La Rochelle Gifts</td><td>LN373447</td><td>2004-08-08</td><td>47924.19</td></tr><tr><td>La Rochelle Gifts</td><td>NG94694</td><td>2005-02-22</td><td>49523.67</td></tr><tr><td>Baane Mini Imports</td><td>DB889831</td><td>2003-02-16</td><td>50218.95</td></tr><tr><td>Baane Mini Imports</td><td>FD317790</td><td>2003-10-28</td><td>1491.38</td></tr><tr><td>Baane Mini Imports</td><td>KI831359</td><td>2004-11-04</td><td>17876.32</td></tr><tr><td>Baane Mini Imports</td><td>MA302151</td><td>2004-11-28</td><td>34638.14</td></tr><tr><td>Mini Gifts Distributors Ltd.</td><td>AE215433</td><td>2005-03-05</td><td>101244.59</td></tr><tr><td>Mini Gifts Distributors Ltd.</td><td>BG255406</td><td>2004-08-28</td><td>85410.87</td></tr><tr><td>Mini Gifts Distributors Ltd.</td><td>CQ287967</td><td>2003-04-11</td><td>11044.30</td></tr><tr><td>Mini Gifts Distributors Ltd.</td><td>ET64396</td><td>2005-04-16</td><td>83598.04</td></tr><tr><td>Mini Gifts Distributors Ltd.</td><td>HI366474</td><td>2004-12-27</td><td>47142.70</td></tr><tr><td>Mini Gifts Distributors Ltd.</td><td>HR86578</td><td>2004-11-02</td><td>55639.66</td></tr><tr><td>Mini Gifts Distributors Ltd.</td><td>KI131716</td><td>2003-08-15</td><td>111654.40</td></tr><tr><td>Mini Gifts Distributors Ltd.</td><td>LF217299</td><td>2004-03-26</td><td>43369.30</td></tr><tr><td>Mini Gifts Distributors Ltd.</td><td>NT141748</td><td>2003-11-25</td><td>45084.38</td></tr><tr><td>Blauer See Auto, Co.</td><td>DI925118</td><td>2003-01-28</td><td>10549.01</td></tr><tr><td>Blauer See Auto, Co.</td><td>FA465482</td><td>2003-10-18</td><td>24101.81</td></tr><tr><td>Blauer See Auto, Co.</td><td>FH668230</td><td>2004-03-24</td><td>33820.62</td></tr><tr><td>Blauer See Auto, Co.</td><td>IP383901</td><td>2004-11-18</td><td>7466.32</td></tr><tr><td>Mini Wheels Co.</td><td>DM826140</td><td>2004-12-08</td><td>26248.78</td></tr><tr><td>Mini Wheels Co.</td><td>ID449593</td><td>2003-12-11</td><td>23923.93</td></tr><tr><td>Mini Wheels Co.</td><td>PI42991</td><td>2003-04-09</td><td>16537.85</td></tr><tr><td>Land of Toys Inc.</td><td>CL442705</td><td>2003-03-12</td><td>22292.62</td></tr><tr><td>Land of Toys Inc.</td><td>MA724562</td><td>2004-12-02</td><td>50025.35</td></tr><tr><td>Land of Toys Inc.</td><td>NB445135</td><td>2004-09-11</td><td>35321.97</td></tr><tr><td>Euro+ Shopping Channel</td><td>AU364101</td><td>2003-07-19</td><td>36251.03</td></tr><tr><td>Euro+ Shopping Channel</td><td>DB583216</td><td>2004-11-01</td><td>36140.38</td></tr><tr><td>Euro+ Shopping Channel</td><td>DL460618</td><td>2005-05-19</td><td>46895.48</td></tr><tr><td>Euro+ Shopping Channel</td><td>HJ32686</td><td>2004-01-30</td><td>59830.55</td></tr><tr><td>Euro+ Shopping Channel</td><td>ID10962</td><td>2004-12-31</td><td>116208.40</td></tr><tr><td>Euro+ Shopping Channel</td><td>IN446258</td><td>2005-03-25</td><td>65071.26</td></tr><tr><td>Euro+ Shopping Channel</td><td>JE105477</td><td>2005-03-18</td><td>120166.58</td></tr><tr><td>Euro+ Shopping Channel</td><td>JN355280</td><td>2003-10-26</td><td>49539.37</td></tr><tr><td>Euro+ Shopping Channel</td><td>JN722010</td><td>2003-02-25</td><td>40206.20</td></tr><tr><td>Euro+ Shopping Channel</td><td>KT52578</td><td>2003-12-09</td><td>63843.55</td></tr><tr><td>Euro+ Shopping Channel</td><td>MC46946</td><td>2004-07-09</td><td>35420.74</td></tr><tr><td>Euro+ Shopping Channel</td><td>MF629602</td><td>2004-08-16</td><td>20009.53</td></tr><tr><td>Euro+ Shopping Channel</td><td>NU627706</td><td>2004-05-17</td><td>26155.91</td></tr><tr><td>Volvo Model Replicas, Co</td><td>IR846303</td><td>2004-12-12</td><td>36005.71</td></tr><tr><td>Volvo Model Replicas, Co</td><td>LA685678</td><td>2003-04-09</td><td>7674.94</td></tr><tr><td>Danish Wholesale Imports</td><td>CN328545</td><td>2004-07-03</td><td>4710.73</td></tr><tr><td>Danish Wholesale Imports</td><td>ED39322</td><td>2004-04-26</td><td>28211.70</td></tr><tr><td>Danish Wholesale Imports</td><td>HR182688</td><td>2004-12-01</td><td>20564.86</td></tr><tr><td>Danish Wholesale Imports</td><td>JJ246391</td><td>2003-02-20</td><td>53959.21</td></tr><tr><td>Saveley &amp; Henriot, Co.</td><td>FP549817</td><td>2004-03-18</td><td>40978.53</td></tr><tr><td>Saveley &amp; Henriot, Co.</td><td>FU793410</td><td>2004-01-16</td><td>49614.72</td></tr><tr><td>Saveley &amp; Henriot, Co.</td><td>LJ160635</td><td>2003-12-10</td><td>39712.10</td></tr><tr><td>Dragon Souveniers, Ltd.</td><td>BI507030</td><td>2003-04-22</td><td>44380.15</td></tr><tr><td>Dragon Souveniers, Ltd.</td><td>DD635282</td><td>2004-08-11</td><td>2611.84</td></tr><tr><td>Dragon Souveniers, Ltd.</td><td>KM172879</td><td>2003-12-26</td><td>105743.00</td></tr><tr><td>Dragon Souveniers, Ltd.</td><td>ME497970</td><td>2005-03-27</td><td>3516.04</td></tr><tr><td>Muscle Machine Inc</td><td>BF686658</td><td>2003-12-22</td><td>58793.53</td></tr><tr><td>Muscle Machine Inc</td><td>GB852215</td><td>2004-07-26</td><td>20314.44</td></tr><tr><td>Muscle Machine Inc</td><td>IP568906</td><td>2003-06-18</td><td>58841.35</td></tr><tr><td>Muscle Machine Inc</td><td>KI884577</td><td>2004-12-14</td><td>39964.63</td></tr><tr><td>Diecast Classics Inc.</td><td>HI618861</td><td>2004-11-19</td><td>35152.12</td></tr><tr><td>Diecast Classics Inc.</td><td>NN711988</td><td>2004-09-07</td><td>63357.13</td></tr><tr><td>Technics Stores Inc.</td><td>BR352384</td><td>2004-11-14</td><td>2434.25</td></tr><tr><td>Technics Stores Inc.</td><td>BR478494</td><td>2003-11-18</td><td>50743.65</td></tr><tr><td>Technics Stores Inc.</td><td>KG644125</td><td>2005-02-02</td><td>12692.19</td></tr><tr><td>Technics Stores Inc.</td><td>NI908214</td><td>2003-08-05</td><td>38675.13</td></tr><tr><td>Handji Gifts&amp; Co</td><td>BQ327613</td><td>2004-09-16</td><td>38785.48</td></tr><tr><td>Handji Gifts&amp; Co</td><td>DC979307</td><td>2004-07-07</td><td>44160.92</td></tr><tr><td>Handji Gifts&amp; Co</td><td>LA318629</td><td>2004-02-28</td><td>22474.17</td></tr><tr><td>Herkku Gifts</td><td>ED743615</td><td>2004-09-19</td><td>12538.01</td></tr><tr><td>Herkku Gifts</td><td>GN228846</td><td>2003-12-03</td><td>85024.46</td></tr><tr><td>Daedalus Designs Imports</td><td>GB878038</td><td>2004-03-15</td><td>18997.89</td></tr><tr><td>Daedalus Designs Imports</td><td>IL104425</td><td>2003-11-22</td><td>42783.81</td></tr><tr><td>La Corne D&#39;abondance, Co.</td><td>AD832091</td><td>2004-09-09</td><td>1960.80</td></tr><tr><td>La Corne D&#39;abondance, Co.</td><td>CE51751</td><td>2004-12-04</td><td>51209.58</td></tr><tr><td>La Corne D&#39;abondance, Co.</td><td>EH208589</td><td>2003-04-20</td><td>33383.14</td></tr><tr><td>Cambridge Collectables Co.</td><td>GP545698</td><td>2004-05-13</td><td>11843.45</td></tr><tr><td>Cambridge Collectables Co.</td><td>IG462397</td><td>2004-03-29</td><td>20355.24</td></tr><tr><td>Gift Depot Inc.</td><td>CITI3434344</td><td>2005-05-19</td><td>28500.78</td></tr><tr><td>Gift Depot Inc.</td><td>IO448913</td><td>2003-11-19</td><td>24879.08</td></tr><tr><td>Gift Depot Inc.</td><td>PI15215</td><td>2004-07-10</td><td>42044.77</td></tr><tr><td>Osaka Souveniers Co.</td><td>AU750837</td><td>2004-04-17</td><td>15183.63</td></tr><tr><td>Osaka Souveniers Co.</td><td>CI381435</td><td>2004-01-19</td><td>47177.59</td></tr><tr><td>Vitachrome Inc.</td><td>CM564612</td><td>2004-04-25</td><td>22602.36</td></tr><tr><td>Vitachrome Inc.</td><td>GQ132144</td><td>2003-01-30</td><td>5494.78</td></tr><tr><td>Vitachrome Inc.</td><td>OH367219</td><td>2004-11-16</td><td>44400.50</td></tr><tr><td>Toys of Finland, Co.</td><td>AE192287</td><td>2005-03-10</td><td>23602.90</td></tr><tr><td>Toys of Finland, Co.</td><td>AK412714</td><td>2003-10-27</td><td>37602.48</td></tr><tr><td>Toys of Finland, Co.</td><td>KA602407</td><td>2004-10-21</td><td>34341.08</td></tr><tr><td>AV Stores, Co.</td><td>AM968797</td><td>2004-11-03</td><td>52825.29</td></tr><tr><td>AV Stores, Co.</td><td>BQ39062</td><td>2004-12-08</td><td>47159.11</td></tr><tr><td>AV Stores, Co.</td><td>KL124726</td><td>2003-03-27</td><td>48425.69</td></tr><tr><td>Clover Collections, Co.</td><td>BO711618</td><td>2004-10-03</td><td>17359.53</td></tr><tr><td>Clover Collections, Co.</td><td>NM916675</td><td>2004-03-01</td><td>32538.74</td></tr><tr><td>Auto-Moto Classics Inc.</td><td>FI192930</td><td>2004-12-06</td><td>9658.74</td></tr><tr><td>Auto-Moto Classics Inc.</td><td>HQ920205</td><td>2003-07-06</td><td>6036.96</td></tr><tr><td>Auto-Moto Classics Inc.</td><td>IS946883</td><td>2004-09-21</td><td>5858.56</td></tr><tr><td>UK Collectables, Ltd.</td><td>DP677013</td><td>2003-10-20</td><td>23908.24</td></tr><tr><td>UK Collectables, Ltd.</td><td>OO846801</td><td>2004-06-15</td><td>37258.94</td></tr><tr><td>Canadian Gift Exchange Network</td><td>HI358554</td><td>2003-12-18</td><td>36527.61</td></tr><tr><td>Canadian Gift Exchange Network</td><td>IQ627690</td><td>2004-11-08</td><td>33594.58</td></tr><tr><td>Online Mini Collectables</td><td>GC697638</td><td>2004-08-13</td><td>51152.86</td></tr><tr><td>Online Mini Collectables</td><td>IS150005</td><td>2004-09-24</td><td>4424.40</td></tr><tr><td>Toys4GrownUps.com</td><td>GL756480</td><td>2003-12-04</td><td>3879.96</td></tr><tr><td>Toys4GrownUps.com</td><td>LL562733</td><td>2003-09-05</td><td>50342.74</td></tr><tr><td>Toys4GrownUps.com</td><td>NM739638</td><td>2005-02-06</td><td>39580.60</td></tr><tr><td>Mini Caravy</td><td>BOAF82044</td><td>2005-05-03</td><td>35157.75</td></tr><tr><td>Mini Caravy</td><td>ED520529</td><td>2004-06-21</td><td>4632.31</td></tr><tr><td>Mini Caravy</td><td>PH785937</td><td>2004-05-04</td><td>36069.26</td></tr><tr><td>King Kong Collectables, Co.</td><td>BJ535230</td><td>2003-12-09</td><td>45480.79</td></tr><tr><td>Enaco Distributors</td><td>BG407567</td><td>2003-05-09</td><td>3101.40</td></tr><tr><td>Enaco Distributors</td><td>ML780814</td><td>2004-12-06</td><td>24945.21</td></tr><tr><td>Enaco Distributors</td><td>MM342086</td><td>2003-12-14</td><td>40473.86</td></tr><tr><td>Boards &amp; Toys Co.</td><td>BN17870</td><td>2005-03-02</td><td>3452.75</td></tr><tr><td>Boards &amp; Toys Co.</td><td>BR941480</td><td>2003-10-18</td><td>4465.85</td></tr><tr><td>Heintze Collectables</td><td>MQ413968</td><td>2003-10-31</td><td>36164.46</td></tr><tr><td>Heintze Collectables</td><td>NU21326</td><td>2004-11-02</td><td>53745.34</td></tr><tr><td>Québec Home Shopping Network</td><td>BOFA23232</td><td>2005-05-20</td><td>29070.38</td></tr><tr><td>Québec Home Shopping Network</td><td>II180006</td><td>2004-07-01</td><td>22997.45</td></tr><tr><td>Québec Home Shopping Network</td><td>JG981190</td><td>2003-11-18</td><td>16909.84</td></tr><tr><td>Collectable Mini Designs Co.</td><td>NQ865547</td><td>2004-03-15</td><td>80375.24</td></tr><tr><td>giftsbymail.co.uk</td><td>IF245157</td><td>2004-11-16</td><td>46788.14</td></tr><tr><td>giftsbymail.co.uk</td><td>JO719695</td><td>2004-03-28</td><td>24995.61</td></tr><tr><td>Alpha Cognac</td><td>AF40894</td><td>2003-11-22</td><td>33818.34</td></tr><tr><td>Alpha Cognac</td><td>HR224331</td><td>2005-06-03</td><td>12432.32</td></tr><tr><td>Alpha Cognac</td><td>KI744716</td><td>2003-07-21</td><td>14232.70</td></tr><tr><td>Amica Models &amp; Co.</td><td>IJ399820</td><td>2004-09-19</td><td>33924.24</td></tr><tr><td>Amica Models &amp; Co.</td><td>NE404084</td><td>2004-09-04</td><td>48298.99</td></tr><tr><td>Lyon Souveniers</td><td>EQ12267</td><td>2005-05-17</td><td>17928.09</td></tr><tr><td>Lyon Souveniers</td><td>HD284647</td><td>2004-12-30</td><td>26311.63</td></tr><tr><td>Lyon Souveniers</td><td>HN114306</td><td>2003-07-18</td><td>23419.47</td></tr><tr><td>Auto Associés &amp; Cie.</td><td>EP227123</td><td>2004-02-10</td><td>5759.42</td></tr><tr><td>Auto Associés &amp; Cie.</td><td>HE84936</td><td>2004-10-22</td><td>53116.99</td></tr><tr><td>Toms Spezialitäten, Ltd</td><td>EU280955</td><td>2004-11-06</td><td>61234.67</td></tr><tr><td>Toms Spezialitäten, Ltd</td><td>GB361972</td><td>2003-12-07</td><td>27988.47</td></tr><tr><td>Royal Canadian Collectables, Ltd.</td><td>IO164641</td><td>2004-08-30</td><td>37527.58</td></tr><tr><td>Royal Canadian Collectables, Ltd.</td><td>NH776924</td><td>2004-04-24</td><td>29284.42</td></tr><tr><td>Anna&#39;s Decorations, Ltd</td><td>EM979878</td><td>2005-02-09</td><td>27083.78</td></tr><tr><td>Anna&#39;s Decorations, Ltd</td><td>KM841847</td><td>2003-11-13</td><td>38547.19</td></tr><tr><td>Anna&#39;s Decorations, Ltd</td><td>LE432182</td><td>2003-09-28</td><td>41554.73</td></tr><tr><td>Anna&#39;s Decorations, Ltd</td><td>OJ819725</td><td>2005-04-30</td><td>29848.52</td></tr><tr><td>Rovelli Gifts</td><td>BJ483870</td><td>2004-12-05</td><td>37654.09</td></tr><tr><td>Rovelli Gifts</td><td>GP636783</td><td>2003-03-02</td><td>52151.81</td></tr><tr><td>Rovelli Gifts</td><td>NI983021</td><td>2003-11-24</td><td>37723.79</td></tr><tr><td>Souveniers And Things Co.</td><td>IA793562</td><td>2003-08-03</td><td>24013.52</td></tr><tr><td>Souveniers And Things Co.</td><td>JT819493</td><td>2004-08-02</td><td>35806.73</td></tr><tr><td>Souveniers And Things Co.</td><td>OD327378</td><td>2005-01-03</td><td>31835.36</td></tr><tr><td>Marta&#39;s Replicas Co.</td><td>DR578578</td><td>2004-10-28</td><td>47411.33</td></tr><tr><td>Marta&#39;s Replicas Co.</td><td>KH910279</td><td>2004-09-05</td><td>43134.04</td></tr><tr><td>Vida Sport, Ltd</td><td>AJ574927</td><td>2004-03-13</td><td>47375.92</td></tr><tr><td>Vida Sport, Ltd</td><td>LF501133</td><td>2004-09-18</td><td>61402.00</td></tr><tr><td>Norway Gifts By Mail, Co.</td><td>AD304085</td><td>2003-10-24</td><td>36798.88</td></tr><tr><td>Norway Gifts By Mail, Co.</td><td>NR157385</td><td>2004-09-05</td><td>32260.16</td></tr><tr><td>Oulu Toy Supplies, Inc.</td><td>DG336041</td><td>2005-02-15</td><td>46770.52</td></tr><tr><td>Oulu Toy Supplies, Inc.</td><td>FA728475</td><td>2003-10-06</td><td>32723.04</td></tr><tr><td>Oulu Toy Supplies, Inc.</td><td>NQ966143</td><td>2004-04-25</td><td>16212.59</td></tr><tr><td>Petit Auto</td><td>LQ244073</td><td>2004-08-09</td><td>45352.47</td></tr><tr><td>Petit Auto</td><td>MD809704</td><td>2004-03-03</td><td>16901.38</td></tr><tr><td>Mini Classics</td><td>HL685576</td><td>2004-11-06</td><td>42339.76</td></tr><tr><td>Mini Classics</td><td>OM548174</td><td>2003-12-07</td><td>36092.40</td></tr><tr><td>Mini Creations Ltd.</td><td>GJ597719</td><td>2005-01-18</td><td>8307.28</td></tr><tr><td>Mini Creations Ltd.</td><td>HO576374</td><td>2003-08-20</td><td>41016.75</td></tr><tr><td>Mini Creations Ltd.</td><td>MU817160</td><td>2003-11-24</td><td>52548.49</td></tr><tr><td>Corporate Gift Ideas Co.</td><td>DJ15149</td><td>2003-11-03</td><td>85559.12</td></tr><tr><td>Corporate Gift Ideas Co.</td><td>LA556321</td><td>2005-03-15</td><td>46781.66</td></tr><tr><td>Down Under Souveniers, Inc</td><td>AL493079</td><td>2005-05-23</td><td>75020.13</td></tr><tr><td>Down Under Souveniers, Inc</td><td>ES347491</td><td>2004-06-24</td><td>37281.36</td></tr><tr><td>Down Under Souveniers, Inc</td><td>HG738664</td><td>2003-07-05</td><td>2880.00</td></tr><tr><td>Down Under Souveniers, Inc</td><td>PQ803830</td><td>2004-12-24</td><td>39440.59</td></tr><tr><td>Stylish Desk Decors, Co.</td><td>DQ409197</td><td>2004-12-13</td><td>13671.82</td></tr><tr><td>Stylish Desk Decors, Co.</td><td>FP443161</td><td>2003-07-07</td><td>29429.14</td></tr><tr><td>Stylish Desk Decors, Co.</td><td>HB150714</td><td>2003-11-23</td><td>37455.77</td></tr><tr><td>Tekni Collectables Inc.</td><td>EN930356</td><td>2004-04-16</td><td>7178.66</td></tr><tr><td>Tekni Collectables Inc.</td><td>NR631421</td><td>2004-05-30</td><td>31102.85</td></tr><tr><td>Australian Gift Network, Co</td><td>HL209210</td><td>2003-11-15</td><td>23936.53</td></tr><tr><td>Australian Gift Network, Co</td><td>JK479662</td><td>2003-10-17</td><td>9821.32</td></tr><tr><td>Australian Gift Network, Co</td><td>NF959653</td><td>2005-03-01</td><td>21432.31</td></tr><tr><td>Suominen Souveniers</td><td>CS435306</td><td>2005-01-27</td><td>45785.34</td></tr><tr><td>Suominen Souveniers</td><td>HH517378</td><td>2003-08-16</td><td>29716.86</td></tr><tr><td>Suominen Souveniers</td><td>LF737277</td><td>2004-05-22</td><td>28394.54</td></tr><tr><td>Classic Gift Ideas, Inc</td><td>AP286625</td><td>2004-10-24</td><td>23333.06</td></tr><tr><td>Classic Gift Ideas, Inc</td><td>DA98827</td><td>2003-11-28</td><td>34606.28</td></tr><tr><td>CAF Imports</td><td>AF246722</td><td>2003-11-24</td><td>31428.21</td></tr><tr><td>CAF Imports</td><td>NJ906924</td><td>2004-04-02</td><td>15322.93</td></tr><tr><td>Men &#39;R&#39; US Retailers, Ltd.</td><td>DG700707</td><td>2004-01-18</td><td>21053.69</td></tr><tr><td>Men &#39;R&#39; US Retailers, Ltd.</td><td>LG808674</td><td>2003-10-24</td><td>20452.50</td></tr><tr><td>Marseille Mini Autos</td><td>BQ602907</td><td>2004-12-11</td><td>18888.31</td></tr><tr><td>Marseille Mini Autos</td><td>CI471510</td><td>2003-05-25</td><td>50824.66</td></tr><tr><td>Marseille Mini Autos</td><td>OB648482</td><td>2005-01-29</td><td>1834.56</td></tr><tr><td>Reims Collectables</td><td>CO351193</td><td>2005-01-10</td><td>49705.52</td></tr><tr><td>Reims Collectables</td><td>ED878227</td><td>2003-07-21</td><td>13920.26</td></tr><tr><td>Reims Collectables</td><td>GT878649</td><td>2003-05-21</td><td>16700.47</td></tr><tr><td>Reims Collectables</td><td>HJ618252</td><td>2005-06-09</td><td>46656.94</td></tr><tr><td>GiftsForHim.com</td><td>AG240323</td><td>2003-12-16</td><td>20220.04</td></tr><tr><td>GiftsForHim.com</td><td>NB291497</td><td>2004-05-15</td><td>36442.34</td></tr><tr><td>Gifts4AllAges.com</td><td>FP170292</td><td>2004-07-11</td><td>18473.71</td></tr><tr><td>Gifts4AllAges.com</td><td>OG208861</td><td>2004-09-21</td><td>15059.76</td></tr><tr><td>Online Diecast Creations Co.</td><td>HL575273</td><td>2004-11-17</td><td>50799.69</td></tr><tr><td>Online Diecast Creations Co.</td><td>IS232033</td><td>2003-01-16</td><td>10223.83</td></tr><tr><td>Online Diecast Creations Co.</td><td>PN238558</td><td>2003-12-05</td><td>55425.77</td></tr><tr><td>Collectables For Less Inc.</td><td>CA762595</td><td>2005-02-12</td><td>28322.83</td></tr><tr><td>Collectables For Less Inc.</td><td>FR499138</td><td>2003-09-16</td><td>32680.31</td></tr><tr><td>Collectables For Less Inc.</td><td>GB890854</td><td>2004-08-02</td><td>12530.51</td></tr><tr><td>Royale Belge</td><td>BC726082</td><td>2004-12-03</td><td>12081.52</td></tr><tr><td>Royale Belge</td><td>CC475233</td><td>2003-04-19</td><td>1627.56</td></tr><tr><td>Royale Belge</td><td>GB117430</td><td>2005-02-03</td><td>14379.90</td></tr><tr><td>Royale Belge</td><td>MS154481</td><td>2003-08-22</td><td>1128.20</td></tr><tr><td>Salzburg Collectables</td><td>CC871084</td><td>2003-05-12</td><td>35826.33</td></tr><tr><td>Salzburg Collectables</td><td>CT821147</td><td>2004-08-01</td><td>6419.84</td></tr><tr><td>Salzburg Collectables</td><td>PH29054</td><td>2004-11-27</td><td>42813.83</td></tr><tr><td>Cruz &amp; Sons Co.</td><td>BN347084</td><td>2003-12-02</td><td>20644.24</td></tr><tr><td>Cruz &amp; Sons Co.</td><td>CP804873</td><td>2004-11-19</td><td>15822.84</td></tr><tr><td>Cruz &amp; Sons Co.</td><td>EK785462</td><td>2003-03-09</td><td>51001.22</td></tr><tr><td>L&#39;ordine Souveniers</td><td>DO106109</td><td>2003-11-18</td><td>38524.29</td></tr><tr><td>L&#39;ordine Souveniers</td><td>HG438769</td><td>2004-07-18</td><td>51619.02</td></tr><tr><td>Tokyo Collectables, Ltd</td><td>AJ478695</td><td>2005-02-14</td><td>33967.73</td></tr><tr><td>Tokyo Collectables, Ltd</td><td>DO787644</td><td>2004-06-21</td><td>22037.91</td></tr><tr><td>Tokyo Collectables, Ltd</td><td>JPMR4544</td><td>2005-05-18</td><td>615.45</td></tr><tr><td>Tokyo Collectables, Ltd</td><td>KB54275</td><td>2004-11-29</td><td>48927.64</td></tr><tr><td>Auto Canal+ Petit</td><td>BJMPR4545</td><td>2005-04-23</td><td>12190.85</td></tr><tr><td>Auto Canal+ Petit</td><td>HJ217687</td><td>2004-01-28</td><td>49165.16</td></tr><tr><td>Auto Canal+ Petit</td><td>NA197101</td><td>2004-06-17</td><td>25080.96</td></tr><tr><td>Extreme Desk Decorations, Ltd</td><td>GH197075</td><td>2004-07-25</td><td>35034.57</td></tr><tr><td>Extreme Desk Decorations, Ltd</td><td>PJ434867</td><td>2004-04-14</td><td>31670.37</td></tr><tr><td>Bavarian Collectables Imports, Co.</td><td>ER54537</td><td>2004-09-28</td><td>31310.09</td></tr><tr><td>Classic Legends Inc.</td><td>KF480160</td><td>2004-12-07</td><td>25505.98</td></tr><tr><td>Classic Legends Inc.</td><td>LM271923</td><td>2003-04-16</td><td>21665.98</td></tr><tr><td>Classic Legends Inc.</td><td>OA595449</td><td>2003-10-31</td><td>22042.37</td></tr><tr><td>Gift Ideas Corp.</td><td>AO757239</td><td>2003-09-15</td><td>6631.36</td></tr><tr><td>Gift Ideas Corp.</td><td>ER615123</td><td>2003-06-25</td><td>17032.29</td></tr><tr><td>Gift Ideas Corp.</td><td>OU516561</td><td>2004-12-17</td><td>26304.13</td></tr><tr><td>Scandinavian Gift Ideas</td><td>FS299615</td><td>2005-04-18</td><td>27966.54</td></tr><tr><td>Scandinavian Gift Ideas</td><td>KR822727</td><td>2004-09-30</td><td>48809.90</td></tr><tr><td>The Sharp Gifts Warehouse</td><td>EF485824</td><td>2004-06-21</td><td>59551.38</td></tr><tr><td>Mini Auto Werke</td><td>ED473873</td><td>2003-11-15</td><td>27121.90</td></tr><tr><td>Mini Auto Werke</td><td>FN640986</td><td>2003-11-20</td><td>15130.97</td></tr><tr><td>Mini Auto Werke</td><td>HG635467</td><td>2005-05-03</td><td>8807.12</td></tr><tr><td>Super Scale Inc.</td><td>HA777606</td><td>2003-12-05</td><td>38139.18</td></tr><tr><td>Super Scale Inc.</td><td>IR662429</td><td>2004-05-12</td><td>32239.47</td></tr><tr><td>Microscale Inc.</td><td>GJ715659</td><td>2004-11-13</td><td>27550.51</td></tr><tr><td>Microscale Inc.</td><td>MO743231</td><td>2004-04-30</td><td>1679.92</td></tr><tr><td>Corrida Auto Replicas, Ltd</td><td>DD995006</td><td>2004-11-15</td><td>33145.56</td></tr><tr><td>Corrida Auto Replicas, Ltd</td><td>NA377824</td><td>2004-02-06</td><td>22162.61</td></tr><tr><td>Corrida Auto Replicas, Ltd</td><td>OO606861</td><td>2003-06-13</td><td>57131.92</td></tr><tr><td>FunGiftIdeas.com</td><td>ED203908</td><td>2005-04-15</td><td>30293.77</td></tr><tr><td>FunGiftIdeas.com</td><td>GC60330</td><td>2003-11-08</td><td>9977.85</td></tr><tr><td>FunGiftIdeas.com</td><td>PE176846</td><td>2004-11-27</td><td>48355.87</td></tr><tr><td>Australian Collectables, Ltd</td><td>AB661578</td><td>2004-07-28</td><td>9415.13</td></tr><tr><td>Australian Collectables, Ltd</td><td>CO645196</td><td>2003-12-10</td><td>35505.63</td></tr><tr><td>Frau da Collezione</td><td>LL427009</td><td>2004-02-17</td><td>7612.06</td></tr><tr><td>Frau da Collezione</td><td>PC688499</td><td>2003-10-27</td><td>17746.26</td></tr><tr><td>West Coast Collectables Co.</td><td>JP113227</td><td>2003-12-09</td><td>7678.25</td></tr><tr><td>West Coast Collectables Co.</td><td>PB951268</td><td>2004-02-13</td><td>36070.47</td></tr><tr><td>Iberia Gift Imports, Corp.</td><td>GK294076</td><td>2004-10-26</td><td>3474.66</td></tr><tr><td>Iberia Gift Imports, Corp.</td><td>JH546765</td><td>2003-11-29</td><td>47513.19</td></tr><tr><td>Motor Mint Distributors Inc.</td><td>BL66528</td><td>2004-04-14</td><td>5899.38</td></tr><tr><td>Motor Mint Distributors Inc.</td><td>HS86661</td><td>2004-11-23</td><td>45994.07</td></tr><tr><td>Motor Mint Distributors Inc.</td><td>JB117768</td><td>2003-03-20</td><td>25833.14</td></tr><tr><td>Signal Collectibles Ltd.</td><td>AH612904</td><td>2003-09-28</td><td>29997.09</td></tr><tr><td>Signal Collectibles Ltd.</td><td>PT550181</td><td>2004-02-29</td><td>12573.28</td></tr><tr><td>Double Decker Gift Stores, Ltd</td><td>OC773849</td><td>2003-12-04</td><td>22275.73</td></tr><tr><td>Double Decker Gift Stores, Ltd</td><td>PO860906</td><td>2004-01-31</td><td>7310.42</td></tr><tr><td>Diecast Collectables</td><td>BH167026</td><td>2003-12-26</td><td>59265.14</td></tr><tr><td>Diecast Collectables</td><td>FN155234</td><td>2004-05-14</td><td>6276.60</td></tr><tr><td>Kelly&#39;s Gift Shop</td><td>EU531600</td><td>2005-05-25</td><td>30253.75</td></tr><tr><td>Kelly&#39;s Gift Shop</td><td>MB342426</td><td>2003-07-16</td><td>32077.44</td></tr><tr><td>Kelly&#39;s Gift Shop</td><td>MN89921</td><td>2004-12-31</td><td>52166.00</td></tr></table>"
                    },
                    "metadata": {}
                }
            ],
            "execution_count": 65
        },
        {
            "cell_type": "code",
            "source": [
                "-- Create Trigger\n",
                "\n",
                "-- Create a simple table\n",
                "use ecom;\n",
                "\n",
                "DROP TABLE IF EXISTS WorkCenters;\n",
                "\n",
                "CREATE TABLE WorkCenters (\n",
                "    id INT AUTO_INCREMENT PRIMARY KEY,\n",
                "    name VARCHAR(100) NOT NULL,\n",
                "    capacity INT NOT NULL\n",
                ");\n",
                ""
            ],
            "metadata": {
                "language": "sql",
                "azdata_cell_guid": "1af31516-9558-4699-8853-404c81dc9ed1"
            },
            "outputs": [
                {
                    "output_type": "display_data",
                    "data": {
                        "text/html": "Commands completed successfully"
                    },
                    "metadata": {}
                },
                {
                    "output_type": "display_data",
                    "data": {
                        "text/html": "Commands completed successfully"
                    },
                    "metadata": {}
                },
                {
                    "output_type": "display_data",
                    "data": {
                        "text/html": "Commands completed successfully"
                    },
                    "metadata": {}
                },
                {
                    "output_type": "display_data",
                    "data": {
                        "text/html": "Total execution time: 00:00:00.079"
                    },
                    "metadata": {}
                }
            ],
            "execution_count": 1
        },
        {
            "cell_type": "code",
            "source": [
                "-- Create a simple table to store triggered statement data\n",
                "\n",
                "DROP TABLE IF EXISTS WorkCenterStats;\n",
                "\n",
                "CREATE TABLE WorkCenterStats(\n",
                "    totalCapacity INT NOT NULL\n",
                ");"
            ],
            "metadata": {
                "language": "sql",
                "azdata_cell_guid": "4aa3eef8-e635-4563-9870-7a8ac78712fd",
                "tags": []
            },
            "outputs": [
                {
                    "output_type": "display_data",
                    "data": {
                        "text/html": "Commands completed successfully"
                    },
                    "metadata": {}
                },
                {
                    "output_type": "display_data",
                    "data": {
                        "text/html": "Commands completed successfully"
                    },
                    "metadata": {}
                },
                {
                    "output_type": "display_data",
                    "data": {
                        "text/html": "Total execution time: 00:00:00.063"
                    },
                    "metadata": {}
                }
            ],
            "execution_count": 2
        },
        {
            "cell_type": "code",
            "source": [
                "-- Creating BEFORE INSERT trigger example\n",
                "\n",
                "use ecom;\n",
                "\n",
                "DROP TRIGGER IF EXISTS before_workcenters_insert;\n",
                "\n",
                "CREATE TRIGGER before_workcenters_insert\n",
                "BEFORE INSERT\n",
                "ON WorkCenters FOR EACH ROW\n",
                "BEGIN\n",
                "    DECLARE rowCount INT DEFAULT 0;\n",
                "    SELECT COUNT(*) \n",
                "    INTO rowCount \n",
                "    FROM WorkCenterStats;\n",
                "\n",
                "    IF rowCount > 0 THEN\n",
                "        UPDATE WorkCenterStats\n",
                "        SET totalCapacity = totalCapacity + new.capacity;\n",
                "    ELSE \n",
                "        INSERT INTO WorkCenterStats(totalCapacity)\n",
                "        VALUES(new.capacity);\n",
                "    END IF;\n",
                "\n",
                "END;\n",
                ""
            ],
            "metadata": {
                "language": "sql",
                "azdata_cell_guid": "4a181c98-5d4d-4736-bf83-ca76a51a055c"
            },
            "outputs": [
                {
                    "output_type": "display_data",
                    "data": {
                        "text/html": "Commands completed successfully"
                    },
                    "metadata": {}
                },
                {
                    "output_type": "display_data",
                    "data": {
                        "text/html": "Commands completed successfully"
                    },
                    "metadata": {}
                },
                {
                    "output_type": "display_data",
                    "data": {
                        "text/html": "Commands completed successfully"
                    },
                    "metadata": {}
                },
                {
                    "output_type": "display_data",
                    "data": {
                        "text/html": "Total execution time: 00:00:00.055"
                    },
                    "metadata": {}
                }
            ],
            "execution_count": 5
        },
        {
            "cell_type": "code",
            "source": [
                "-- Test trigger by inserting data into  WorkCenters\n",
                "use ecom;\n",
                "\n",
                "-- INSERT INTO WorkCenters(name, capacity)\n",
                "-- VALUES('Mold Machine',100);\n",
                "\n",
                "INSERT INTO WorkCenters(name, capacity)\n",
                "VALUES('Mold Machine 2',200);"
            ],
            "metadata": {
                "language": "sql",
                "azdata_cell_guid": "d3c87805-4c60-4990-b505-a0a9783462d8"
            },
            "outputs": [
                {
                    "output_type": "display_data",
                    "data": {
                        "text/html": "Commands completed successfully"
                    },
                    "metadata": {}
                },
                {
                    "output_type": "display_data",
                    "data": {
                        "text/html": "Commands completed successfully"
                    },
                    "metadata": {}
                },
                {
                    "output_type": "display_data",
                    "data": {
                        "text/html": "Total execution time: 00:00:00.017"
                    },
                    "metadata": {}
                }
            ],
            "execution_count": 8
        },
        {
            "cell_type": "code",
            "source": [
                "-- Now test if there is any data in WorkCenterStats\n",
                "\n",
                "use ecom;\n",
                "\n",
                "SELECT * FROM WorkCenterStats;"
            ],
            "metadata": {
                "language": "sql",
                "azdata_cell_guid": "e52cee55-c4b2-4bc6-b8ba-c14dddd5427c"
            },
            "outputs": [
                {
                    "output_type": "display_data",
                    "data": {
                        "text/html": "Commands completed successfully"
                    },
                    "metadata": {}
                },
                {
                    "output_type": "display_data",
                    "data": {
                        "text/html": "(1 row(s) affected)"
                    },
                    "metadata": {}
                },
                {
                    "output_type": "display_data",
                    "data": {
                        "text/html": "Total execution time: 00:00:01.008"
                    },
                    "metadata": {}
                },
                {
                    "output_type": "execute_result",
                    "execution_count": 9,
                    "data": {
                        "application/vnd.dataresource+json": {
                            "schema": {
                                "fields": [
                                    {
                                        "name": "totalCapacity"
                                    }
                                ]
                            },
                            "data": [
                                {
                                    "totalCapacity": "300"
                                }
                            ]
                        },
                        "text/html": "<table><tr><th>totalCapacity</th></tr><tr><td>300</td></tr></table>"
                    },
                    "metadata": {}
                }
            ],
            "execution_count": 9
        },
        {
            "cell_type": "code",
            "source": [
                "SHOW TRIGGERS \n",
                "FROM ecom"
            ],
            "metadata": {
                "language": "sql",
                "azdata_cell_guid": "27b42806-f998-49be-af53-cef71ee1ba4e"
            },
            "outputs": [
                {
                    "output_type": "display_data",
                    "data": {
                        "text/html": "(1 row(s) affected)"
                    },
                    "metadata": {}
                },
                {
                    "output_type": "display_data",
                    "data": {
                        "text/html": "Total execution time: 00:00:01.011"
                    },
                    "metadata": {}
                },
                {
                    "output_type": "execute_result",
                    "execution_count": 12,
                    "data": {
                        "application/vnd.dataresource+json": {
                            "schema": {
                                "fields": [
                                    {
                                        "name": "Trigger"
                                    },
                                    {
                                        "name": "Event"
                                    },
                                    {
                                        "name": "Table"
                                    },
                                    {
                                        "name": "Statement"
                                    },
                                    {
                                        "name": "Timing"
                                    },
                                    {
                                        "name": "Created"
                                    },
                                    {
                                        "name": "sql_mode"
                                    },
                                    {
                                        "name": "Definer"
                                    },
                                    {
                                        "name": "character_set_client"
                                    },
                                    {
                                        "name": "collation_connection"
                                    },
                                    {
                                        "name": "Database Collation"
                                    }
                                ]
                            },
                            "data": [
                                {
                                    "Trigger": "before_workcenters_insert",
                                    "Event": "INSERT",
                                    "Table": "WorkCenters",
                                    "Statement": "b'BEGIN\\n    DECLARE rowCount INT DEFAULT 0;\\n    SELECT COUNT(*)\\n    INTO rowCount\\n    FROM WorkCenterStats;\\n\\n    IF rowCount > 0 THEN\\n        UPDATE WorkCenterStats\\n        SET totalCapacity = totalCapacity + new.capacity;\\n    ELSE\\n        INSERT INTO WorkCenterStats(totalCapacity)\\n        VALUES(new.capacity);\\n    END IF;\\n\\nEND'",
                                    "Timing": "BEFORE",
                                    "Created": "2024-07-14 22:17:50.770000",
                                    "sql_mode": "{'ERROR_FOR_DIVISION_BY_ZERO', 'NO_ZERO_IN_DATE', 'STRICT_TRANS_TABLES', 'NO_ZERO_DATE', 'ONLY_FULL_GROUP_BY', 'NO_ENGINE_SUBSTITUTION'}",
                                    "Definer": "irfan@localhost",
                                    "character_set_client": "utf8mb4",
                                    "collation_connection": "utf8mb4_0900_ai_ci",
                                    "Database Collation": "utf8mb4_0900_ai_ci"
                                }
                            ]
                        },
                        "text/html": "<table><tr><th>Trigger</th><th>Event</th><th>Table</th><th>Statement</th><th>Timing</th><th>Created</th><th>sql_mode</th><th>Definer</th><th>character_set_client</th><th>collation_connection</th><th>Database Collation</th></tr><tr><td>before_workcenters_insert</td><td>INSERT</td><td>WorkCenters</td><td>b&#39;BEGIN\\n    DECLARE rowCount INT DEFAULT 0;\\n    SELECT COUNT(*)\\n    INTO rowCount\\n    FROM WorkCenterStats;\\n\\n    IF rowCount &gt; 0 THEN\\n        UPDATE WorkCenterStats\\n        SET totalCapacity = totalCapacity + new.capacity;\\n    ELSE\\n        INSERT INTO WorkCenterStats(totalCapacity)\\n        VALUES(new.capacity);\\n    END IF;\\n\\nEND&#39;</td><td>BEFORE</td><td>2024-07-14 22:17:50.770000</td><td>{&#39;ERROR_FOR_DIVISION_BY_ZERO&#39;, &#39;NO_ZERO_IN_DATE&#39;, &#39;STRICT_TRANS_TABLES&#39;, &#39;NO_ZERO_DATE&#39;, &#39;ONLY_FULL_GROUP_BY&#39;, &#39;NO_ENGINE_SUBSTITUTION&#39;}</td><td>irfan@localhost</td><td>utf8mb4</td><td>utf8mb4_0900_ai_ci</td><td>utf8mb4_0900_ai_ci</td></tr></table>"
                    },
                    "metadata": {}
                }
            ],
            "execution_count": 12
        },
        {
            "cell_type": "code",
            "source": [
                "-- Create Events or scheduler\n",
                "\n",
                "-- Create a table\n",
                "USE ecom;\n",
                "\n",
                "CREATE TABLE IF NOT EXISTS messages (\n",
                "    id INT AUTO_INCREMENT PRIMARY KEY,\n",
                "    message VARCHAR(255) NOT NULL,\n",
                "    created_at DATETIME DEFAULT NOW()\n",
                ");"
            ],
            "metadata": {
                "language": "sql",
                "azdata_cell_guid": "bdb6aef2-6803-4f01-85d7-4ffaeda0ee20"
            },
            "outputs": [
                {
                    "output_type": "display_data",
                    "data": {
                        "text/html": "Commands completed successfully"
                    },
                    "metadata": {}
                },
                {
                    "output_type": "display_data",
                    "data": {
                        "text/html": "Commands completed successfully"
                    },
                    "metadata": {}
                },
                {
                    "output_type": "display_data",
                    "data": {
                        "text/html": "Total execution time: 00:00:00.067"
                    },
                    "metadata": {}
                }
            ],
            "execution_count": 13
        },
        {
            "cell_type": "code",
            "source": [
                "USE ecom;\n",
                "\n",
                "CREATE EVENT IF NOT EXISTS one_time_log\n",
                "ON SCHEDULE AT CURRENT_TIMESTAMP --  This is one time event\n",
                "DO\n",
                "  INSERT INTO messages(message)\n",
                "  VALUES('One-time event');"
            ],
            "metadata": {
                "language": "sql",
                "azdata_cell_guid": "1a436f42-17fb-4bbb-a4ad-13ceba1376cb"
            },
            "outputs": [
                {
                    "output_type": "display_data",
                    "data": {
                        "text/html": "Commands completed successfully"
                    },
                    "metadata": {}
                },
                {
                    "output_type": "display_data",
                    "data": {
                        "text/html": "Commands completed successfully"
                    },
                    "metadata": {}
                },
                {
                    "output_type": "display_data",
                    "data": {
                        "text/html": "Total execution time: 00:00:00.015"
                    },
                    "metadata": {}
                }
            ],
            "execution_count": 16
        },
        {
            "cell_type": "code",
            "source": [
                "USE ecom;\n",
                "select * from messages;\n",
                "show events;"
            ],
            "metadata": {
                "language": "sql",
                "azdata_cell_guid": "4df67965-e7aa-4012-bd8e-8ac29b0e5c3f",
                "tags": []
            },
            "outputs": [
                {
                    "output_type": "display_data",
                    "data": {
                        "text/html": "Commands completed successfully"
                    },
                    "metadata": {}
                },
                {
                    "output_type": "display_data",
                    "data": {
                        "text/html": "(9 row(s) affected)"
                    },
                    "metadata": {}
                },
                {
                    "output_type": "display_data",
                    "data": {
                        "text/html": "(2 row(s) affected)"
                    },
                    "metadata": {}
                },
                {
                    "output_type": "display_data",
                    "data": {
                        "text/html": "Total execution time: 00:00:02.027"
                    },
                    "metadata": {}
                },
                {
                    "output_type": "execute_result",
                    "execution_count": 2,
                    "data": {
                        "application/vnd.dataresource+json": {
                            "schema": {
                                "fields": [
                                    {
                                        "name": "id"
                                    },
                                    {
                                        "name": "message"
                                    },
                                    {
                                        "name": "created_at"
                                    }
                                ]
                            },
                            "data": [
                                {
                                    "id": "1",
                                    "message": "One-time event",
                                    "created_at": "2024-07-14 23:06:06"
                                },
                                {
                                    "id": "2",
                                    "message": "Preserved One-time event",
                                    "created_at": "2024-07-14 23:08:42"
                                },
                                {
                                    "id": "3",
                                    "message": "Running at 2024-07-14 23:10:25",
                                    "created_at": "2024-07-14 23:10:25"
                                },
                                {
                                    "id": "4",
                                    "message": "Running at 2024-07-14 23:11:25",
                                    "created_at": "2024-07-14 23:11:25"
                                },
                                {
                                    "id": "5",
                                    "message": "Running at 2024-07-14 23:12:25",
                                    "created_at": "2024-07-14 23:12:25"
                                },
                                {
                                    "id": "6",
                                    "message": "Running at 2024-07-14 23:13:25",
                                    "created_at": "2024-07-14 23:13:25"
                                },
                                {
                                    "id": "7",
                                    "message": "Running at 2024-07-14 23:14:25",
                                    "created_at": "2024-07-14 23:14:25"
                                },
                                {
                                    "id": "8",
                                    "message": "Running at 2024-07-14 23:15:25",
                                    "created_at": "2024-07-14 23:15:25"
                                },
                                {
                                    "id": "9",
                                    "message": "Running at 2024-07-14 23:16:25",
                                    "created_at": "2024-07-14 23:16:25"
                                }
                            ]
                        },
                        "text/html": "<table><tr><th>id</th><th>message</th><th>created_at</th></tr><tr><td>1</td><td>One-time event</td><td>2024-07-14 23:06:06</td></tr><tr><td>2</td><td>Preserved One-time event</td><td>2024-07-14 23:08:42</td></tr><tr><td>3</td><td>Running at 2024-07-14 23:10:25</td><td>2024-07-14 23:10:25</td></tr><tr><td>4</td><td>Running at 2024-07-14 23:11:25</td><td>2024-07-14 23:11:25</td></tr><tr><td>5</td><td>Running at 2024-07-14 23:12:25</td><td>2024-07-14 23:12:25</td></tr><tr><td>6</td><td>Running at 2024-07-14 23:13:25</td><td>2024-07-14 23:13:25</td></tr><tr><td>7</td><td>Running at 2024-07-14 23:14:25</td><td>2024-07-14 23:14:25</td></tr><tr><td>8</td><td>Running at 2024-07-14 23:15:25</td><td>2024-07-14 23:15:25</td></tr><tr><td>9</td><td>Running at 2024-07-14 23:16:25</td><td>2024-07-14 23:16:25</td></tr></table>"
                    },
                    "metadata": {}
                },
                {
                    "output_type": "execute_result",
                    "execution_count": 2,
                    "data": {
                        "application/vnd.dataresource+json": {
                            "schema": {
                                "fields": [
                                    {
                                        "name": "Db"
                                    },
                                    {
                                        "name": "Name"
                                    },
                                    {
                                        "name": "Definer"
                                    },
                                    {
                                        "name": "Time zone"
                                    },
                                    {
                                        "name": "Type"
                                    },
                                    {
                                        "name": "Execute at"
                                    },
                                    {
                                        "name": "Interval value"
                                    },
                                    {
                                        "name": "Interval field"
                                    },
                                    {
                                        "name": "Starts"
                                    },
                                    {
                                        "name": "Ends"
                                    },
                                    {
                                        "name": "Status"
                                    },
                                    {
                                        "name": "Originator"
                                    },
                                    {
                                        "name": "character_set_client"
                                    },
                                    {
                                        "name": "collation_connection"
                                    },
                                    {
                                        "name": "Database Collation"
                                    }
                                ]
                            },
                            "data": [
                                {
                                    "Db": "ecom",
                                    "Name": "one_time_log",
                                    "Definer": "irfan@localhost",
                                    "Time zone": "SYSTEM",
                                    "Type": "ONE TIME",
                                    "Execute at": "2024-07-14 23:08:42",
                                    "Interval value": "NULL",
                                    "Interval field": "NULL",
                                    "Starts": "NULL",
                                    "Ends": "NULL",
                                    "Status": "DISABLED",
                                    "Originator": "1",
                                    "character_set_client": "utf8mb4",
                                    "collation_connection": "utf8mb4_0900_ai_ci",
                                    "Database Collation": "utf8mb4_0900_ai_ci"
                                },
                                {
                                    "Db": "ecom",
                                    "Name": "recurring_log",
                                    "Definer": "irfan@localhost",
                                    "Time zone": "SYSTEM",
                                    "Type": "RECURRING",
                                    "Execute at": "NULL",
                                    "Interval value": "1",
                                    "Interval field": "MINUTE",
                                    "Starts": "2024-07-14 23:10:25",
                                    "Ends": "2024-07-15 00:10:25",
                                    "Status": "DISABLED",
                                    "Originator": "1",
                                    "character_set_client": "utf8mb4",
                                    "collation_connection": "utf8mb4_0900_ai_ci",
                                    "Database Collation": "utf8mb4_0900_ai_ci"
                                }
                            ]
                        },
                        "text/html": "<table><tr><th>Db</th><th>Name</th><th>Definer</th><th>Time zone</th><th>Type</th><th>Execute at</th><th>Interval value</th><th>Interval field</th><th>Starts</th><th>Ends</th><th>Status</th><th>Originator</th><th>character_set_client</th><th>collation_connection</th><th>Database Collation</th></tr><tr><td>ecom</td><td>one_time_log</td><td>irfan@localhost</td><td>SYSTEM</td><td>ONE TIME</td><td>2024-07-14 23:08:42</td><td>NULL</td><td>NULL</td><td>NULL</td><td>NULL</td><td>DISABLED</td><td>1</td><td>utf8mb4</td><td>utf8mb4_0900_ai_ci</td><td>utf8mb4_0900_ai_ci</td></tr><tr><td>ecom</td><td>recurring_log</td><td>irfan@localhost</td><td>SYSTEM</td><td>RECURRING</td><td>NULL</td><td>1</td><td>MINUTE</td><td>2024-07-14 23:10:25</td><td>2024-07-15 00:10:25</td><td>DISABLED</td><td>1</td><td>utf8mb4</td><td>utf8mb4_0900_ai_ci</td><td>utf8mb4_0900_ai_ci</td></tr></table>"
                    },
                    "metadata": {}
                }
            ],
            "execution_count": 2
        },
        {
            "cell_type": "code",
            "source": [
                "-- To keep the event after it has expired, you use the ON COMPLETION PRESERVE clause\n",
                "\n",
                "CREATE EVENT one_time_log\n",
                "ON SCHEDULE AT CURRENT_TIMESTAMP + INTERVAL 1 MINUTE\n",
                "ON COMPLETION PRESERVE\n",
                "DO\n",
                "   INSERT INTO messages(message)\n",
                "   VALUES('Preserved One-time event');"
            ],
            "metadata": {
                "language": "sql",
                "azdata_cell_guid": "ddaf3517-bf9a-4853-8057-5056b5a3909d"
            },
            "outputs": [
                {
                    "output_type": "display_data",
                    "data": {
                        "text/html": "Commands completed successfully"
                    },
                    "metadata": {}
                },
                {
                    "output_type": "display_data",
                    "data": {
                        "text/html": "Total execution time: 00:00:00.026"
                    },
                    "metadata": {}
                }
            ],
            "execution_count": 19
        },
        {
            "cell_type": "code",
            "source": [
                "-- Creating a recurring event example\n",
                "\n",
                "CREATE EVENT recurring_log\n",
                "ON SCHEDULE EVERY 1 MINUTE\n",
                "STARTS CURRENT_TIMESTAMP\n",
                "ENDS CURRENT_TIMESTAMP + INTERVAL 1 HOUR\n",
                "DO\n",
                "   INSERT INTO messages(message)\n",
                "   VALUES(CONCAT('Running at ', NOW()));"
            ],
            "metadata": {
                "language": "sql",
                "azdata_cell_guid": "e75dc3a7-b469-4515-970a-d3937af2cc1f"
            },
            "outputs": [
                {
                    "output_type": "display_data",
                    "data": {
                        "text/html": "Commands completed successfully"
                    },
                    "metadata": {}
                },
                {
                    "output_type": "display_data",
                    "data": {
                        "text/html": "Total execution time: 00:00:00.021"
                    },
                    "metadata": {}
                }
            ],
            "execution_count": 25
        },
        {
            "cell_type": "code",
            "source": [
                "ALTER EVENT recurring_log\n",
                "DISABLE;"
            ],
            "metadata": {
                "language": "sql",
                "azdata_cell_guid": "89f610d3-0ada-4297-b978-d730c96599c7",
                "tags": [
                    "hide_input"
                ]
            },
            "outputs": [
                {
                    "output_type": "display_data",
                    "data": {
                        "text/html": "Commands completed successfully"
                    },
                    "metadata": {}
                },
                {
                    "output_type": "display_data",
                    "data": {
                        "text/html": "Total execution time: 00:00:00.019"
                    },
                    "metadata": {}
                }
            ],
            "execution_count": 30
        },
        {
            "cell_type": "code",
            "source": [
                "-- use ecom;\n",
                " SELECT * FROM employees where jobTitle = 'Sales Rep';\n",
                " "
            ],
            "metadata": {
                "azdata_cell_guid": "4a930ada-1393-400d-86d6-fbeadedd9ed5",
                "language": "sql",
                "tags": []
            },
            "outputs": [
                {
                    "output_type": "display_data",
                    "data": {
                        "text/html": "(17 row(s) affected)"
                    },
                    "metadata": {}
                },
                {
                    "output_type": "display_data",
                    "data": {
                        "text/html": "Total execution time: 00:00:01.011"
                    },
                    "metadata": {}
                },
                {
                    "output_type": "execute_result",
                    "execution_count": 7,
                    "data": {
                        "application/vnd.dataresource+json": {
                            "schema": {
                                "fields": [
                                    {
                                        "name": "employeeNumber"
                                    },
                                    {
                                        "name": "lastName"
                                    },
                                    {
                                        "name": "firstName"
                                    },
                                    {
                                        "name": "extension"
                                    },
                                    {
                                        "name": "email"
                                    },
                                    {
                                        "name": "officeCode"
                                    },
                                    {
                                        "name": "reportsTo"
                                    },
                                    {
                                        "name": "jobTitle"
                                    }
                                ]
                            },
                            "data": [
                                {
                                    "employeeNumber": "1165",
                                    "lastName": "Jennings",
                                    "firstName": "Leslie",
                                    "extension": "x3291",
                                    "email": "ljennings@classicmodelcars.com",
                                    "officeCode": "1",
                                    "reportsTo": "1143",
                                    "jobTitle": "Sales Rep"
                                },
                                {
                                    "employeeNumber": "1166",
                                    "lastName": "Thompson",
                                    "firstName": "Leslie",
                                    "extension": "x4065",
                                    "email": "lthompson@classicmodelcars.com",
                                    "officeCode": "1",
                                    "reportsTo": "1143",
                                    "jobTitle": "Sales Rep"
                                },
                                {
                                    "employeeNumber": "1188",
                                    "lastName": "Firrelli",
                                    "firstName": "Julie",
                                    "extension": "x2173",
                                    "email": "jfirrelli@classicmodelcars.com",
                                    "officeCode": "2",
                                    "reportsTo": "1143",
                                    "jobTitle": "Sales Rep"
                                },
                                {
                                    "employeeNumber": "1216",
                                    "lastName": "Patterson",
                                    "firstName": "Steve",
                                    "extension": "x4334",
                                    "email": "spatterson@classicmodelcars.com",
                                    "officeCode": "2",
                                    "reportsTo": "1143",
                                    "jobTitle": "Sales Rep"
                                },
                                {
                                    "employeeNumber": "1286",
                                    "lastName": "Tseng",
                                    "firstName": "Foon Yue",
                                    "extension": "x2248",
                                    "email": "ftseng@classicmodelcars.com",
                                    "officeCode": "3",
                                    "reportsTo": "1143",
                                    "jobTitle": "Sales Rep"
                                },
                                {
                                    "employeeNumber": "1323",
                                    "lastName": "Vanauf",
                                    "firstName": "George",
                                    "extension": "x4102",
                                    "email": "gvanauf@classicmodelcars.com",
                                    "officeCode": "3",
                                    "reportsTo": "1143",
                                    "jobTitle": "Sales Rep"
                                },
                                {
                                    "employeeNumber": "1337",
                                    "lastName": "Bondur",
                                    "firstName": "Loui",
                                    "extension": "x6493",
                                    "email": "lbondur@classicmodelcars.com",
                                    "officeCode": "4",
                                    "reportsTo": "1102",
                                    "jobTitle": "Sales Rep"
                                },
                                {
                                    "employeeNumber": "1370",
                                    "lastName": "Hernandez",
                                    "firstName": "Gerard",
                                    "extension": "x2028",
                                    "email": "ghernande@classicmodelcars.com",
                                    "officeCode": "4",
                                    "reportsTo": "1102",
                                    "jobTitle": "Sales Rep"
                                },
                                {
                                    "employeeNumber": "1401",
                                    "lastName": "Castillo",
                                    "firstName": "Pamela",
                                    "extension": "x2759",
                                    "email": "pcastillo@classicmodelcars.com",
                                    "officeCode": "4",
                                    "reportsTo": "1102",
                                    "jobTitle": "Sales Rep"
                                },
                                {
                                    "employeeNumber": "1501",
                                    "lastName": "Bott",
                                    "firstName": "Larry",
                                    "extension": "x2311",
                                    "email": "lbott@classicmodelcars.com",
                                    "officeCode": "7",
                                    "reportsTo": "1102",
                                    "jobTitle": "Sales Rep"
                                },
                                {
                                    "employeeNumber": "1504",
                                    "lastName": "Jones",
                                    "firstName": "Barry",
                                    "extension": "x102",
                                    "email": "bjones@classicmodelcars.com",
                                    "officeCode": "7",
                                    "reportsTo": "1102",
                                    "jobTitle": "Sales Rep"
                                },
                                {
                                    "employeeNumber": "1611",
                                    "lastName": "Fixter",
                                    "firstName": "Andy",
                                    "extension": "x101",
                                    "email": "afixter@classicmodelcars.com",
                                    "officeCode": "6",
                                    "reportsTo": "1088",
                                    "jobTitle": "Sales Rep"
                                },
                                {
                                    "employeeNumber": "1612",
                                    "lastName": "Marsh",
                                    "firstName": "Peter",
                                    "extension": "x102",
                                    "email": "pmarsh@classicmodelcars.com",
                                    "officeCode": "6",
                                    "reportsTo": "1088",
                                    "jobTitle": "Sales Rep"
                                },
                                {
                                    "employeeNumber": "1619",
                                    "lastName": "King",
                                    "firstName": "Tom",
                                    "extension": "x103",
                                    "email": "tking@classicmodelcars.com",
                                    "officeCode": "6",
                                    "reportsTo": "1088",
                                    "jobTitle": "Sales Rep"
                                },
                                {
                                    "employeeNumber": "1621",
                                    "lastName": "Nishi",
                                    "firstName": "Mami",
                                    "extension": "x101",
                                    "email": "mnishi@classicmodelcars.com",
                                    "officeCode": "5",
                                    "reportsTo": "1056",
                                    "jobTitle": "Sales Rep"
                                },
                                {
                                    "employeeNumber": "1625",
                                    "lastName": "Kato",
                                    "firstName": "Yoshimi",
                                    "extension": "x102",
                                    "email": "ykato@classicmodelcars.com",
                                    "officeCode": "5",
                                    "reportsTo": "1621",
                                    "jobTitle": "Sales Rep"
                                },
                                {
                                    "employeeNumber": "1702",
                                    "lastName": "Gerard",
                                    "firstName": "Martin",
                                    "extension": "x2312",
                                    "email": "mgerard@classicmodelcars.com",
                                    "officeCode": "4",
                                    "reportsTo": "1102",
                                    "jobTitle": "Sales Rep"
                                }
                            ]
                        },
                        "text/html": "<table><tr><th>employeeNumber</th><th>lastName</th><th>firstName</th><th>extension</th><th>email</th><th>officeCode</th><th>reportsTo</th><th>jobTitle</th></tr><tr><td>1165</td><td>Jennings</td><td>Leslie</td><td>x3291</td><td>ljennings@classicmodelcars.com</td><td>1</td><td>1143</td><td>Sales Rep</td></tr><tr><td>1166</td><td>Thompson</td><td>Leslie</td><td>x4065</td><td>lthompson@classicmodelcars.com</td><td>1</td><td>1143</td><td>Sales Rep</td></tr><tr><td>1188</td><td>Firrelli</td><td>Julie</td><td>x2173</td><td>jfirrelli@classicmodelcars.com</td><td>2</td><td>1143</td><td>Sales Rep</td></tr><tr><td>1216</td><td>Patterson</td><td>Steve</td><td>x4334</td><td>spatterson@classicmodelcars.com</td><td>2</td><td>1143</td><td>Sales Rep</td></tr><tr><td>1286</td><td>Tseng</td><td>Foon Yue</td><td>x2248</td><td>ftseng@classicmodelcars.com</td><td>3</td><td>1143</td><td>Sales Rep</td></tr><tr><td>1323</td><td>Vanauf</td><td>George</td><td>x4102</td><td>gvanauf@classicmodelcars.com</td><td>3</td><td>1143</td><td>Sales Rep</td></tr><tr><td>1337</td><td>Bondur</td><td>Loui</td><td>x6493</td><td>lbondur@classicmodelcars.com</td><td>4</td><td>1102</td><td>Sales Rep</td></tr><tr><td>1370</td><td>Hernandez</td><td>Gerard</td><td>x2028</td><td>ghernande@classicmodelcars.com</td><td>4</td><td>1102</td><td>Sales Rep</td></tr><tr><td>1401</td><td>Castillo</td><td>Pamela</td><td>x2759</td><td>pcastillo@classicmodelcars.com</td><td>4</td><td>1102</td><td>Sales Rep</td></tr><tr><td>1501</td><td>Bott</td><td>Larry</td><td>x2311</td><td>lbott@classicmodelcars.com</td><td>7</td><td>1102</td><td>Sales Rep</td></tr><tr><td>1504</td><td>Jones</td><td>Barry</td><td>x102</td><td>bjones@classicmodelcars.com</td><td>7</td><td>1102</td><td>Sales Rep</td></tr><tr><td>1611</td><td>Fixter</td><td>Andy</td><td>x101</td><td>afixter@classicmodelcars.com</td><td>6</td><td>1088</td><td>Sales Rep</td></tr><tr><td>1612</td><td>Marsh</td><td>Peter</td><td>x102</td><td>pmarsh@classicmodelcars.com</td><td>6</td><td>1088</td><td>Sales Rep</td></tr><tr><td>1619</td><td>King</td><td>Tom</td><td>x103</td><td>tking@classicmodelcars.com</td><td>6</td><td>1088</td><td>Sales Rep</td></tr><tr><td>1621</td><td>Nishi</td><td>Mami</td><td>x101</td><td>mnishi@classicmodelcars.com</td><td>5</td><td>1056</td><td>Sales Rep</td></tr><tr><td>1625</td><td>Kato</td><td>Yoshimi</td><td>x102</td><td>ykato@classicmodelcars.com</td><td>5</td><td>1621</td><td>Sales Rep</td></tr><tr><td>1702</td><td>Gerard</td><td>Martin</td><td>x2312</td><td>mgerard@classicmodelcars.com</td><td>4</td><td>1102</td><td>Sales Rep</td></tr></table>"
                    },
                    "metadata": {}
                }
            ],
            "execution_count": 7
        },
        {
            "cell_type": "code",
            "source": [
                "-- Creating an index on job titile\n",
                "\n",
                "CREATE INDEX jobTitle\n",
                "ON employees(jobTitle);"
            ],
            "metadata": {
                "language": "sql",
                "azdata_cell_guid": "a77baca8-85bf-4a4f-9965-47bf1b4e51b2"
            },
            "outputs": [
                {
                    "output_type": "display_data",
                    "data": {
                        "text/html": "Commands completed successfully"
                    },
                    "metadata": {}
                },
                {
                    "output_type": "display_data",
                    "data": {
                        "text/html": "Total execution time: 00:00:00.121"
                    },
                    "metadata": {}
                }
            ],
            "execution_count": 8
        },
        {
            "cell_type": "code",
            "source": [
                "-- Now same select query on empoyee table is faster\n",
                "EXPLAIN SELECT * FROM employees where jobTitle = 'Sales Manager (NA)';\n",
                " "
            ],
            "metadata": {
                "language": "sql",
                "azdata_cell_guid": "3809f17e-0dfb-4b93-b85b-3262847b33c6"
            },
            "outputs": [
                {
                    "output_type": "display_data",
                    "data": {
                        "text/html": "(1 row(s) affected)"
                    },
                    "metadata": {}
                },
                {
                    "output_type": "display_data",
                    "data": {
                        "text/html": "Total execution time: 00:00:01.008"
                    },
                    "metadata": {}
                },
                {
                    "output_type": "execute_result",
                    "execution_count": 11,
                    "data": {
                        "application/vnd.dataresource+json": {
                            "schema": {
                                "fields": [
                                    {
                                        "name": "id"
                                    },
                                    {
                                        "name": "select_type"
                                    },
                                    {
                                        "name": "table"
                                    },
                                    {
                                        "name": "partitions"
                                    },
                                    {
                                        "name": "type"
                                    },
                                    {
                                        "name": "possible_keys"
                                    },
                                    {
                                        "name": "key"
                                    },
                                    {
                                        "name": "key_len"
                                    },
                                    {
                                        "name": "ref"
                                    },
                                    {
                                        "name": "rows"
                                    },
                                    {
                                        "name": "filtered"
                                    },
                                    {
                                        "name": "Extra"
                                    }
                                ]
                            },
                            "data": [
                                {
                                    "id": "1",
                                    "select_type": "SIMPLE",
                                    "table": "employees",
                                    "partitions": "NULL",
                                    "type": "ref",
                                    "possible_keys": "jobTitle",
                                    "key": "jobTitle",
                                    "key_len": "202",
                                    "ref": "const",
                                    "rows": "1",
                                    "filtered": "100.0",
                                    "Extra": "NULL"
                                }
                            ]
                        },
                        "text/html": "<table><tr><th>id</th><th>select_type</th><th>table</th><th>partitions</th><th>type</th><th>possible_keys</th><th>key</th><th>key_len</th><th>ref</th><th>rows</th><th>filtered</th><th>Extra</th></tr><tr><td>1</td><td>SIMPLE</td><td>employees</td><td>NULL</td><td>ref</td><td>jobTitle</td><td>jobTitle</td><td>202</td><td>const</td><td>1</td><td>100.0</td><td>NULL</td></tr></table>"
                    },
                    "metadata": {}
                }
            ],
            "execution_count": 11
        },
        {
            "cell_type": "code",
            "source": [
                "SHOW INDEXES FROM employees;\n",
                ""
            ],
            "metadata": {
                "language": "sql",
                "azdata_cell_guid": "bd07fb29-dd43-4e73-8081-2b9fb268daa3"
            },
            "outputs": [
                {
                    "output_type": "display_data",
                    "data": {
                        "text/html": "(6 row(s) affected)"
                    },
                    "metadata": {}
                },
                {
                    "output_type": "display_data",
                    "data": {
                        "text/html": "Total execution time: 00:00:01.027"
                    },
                    "metadata": {}
                },
                {
                    "output_type": "execute_result",
                    "execution_count": 16,
                    "data": {
                        "application/vnd.dataresource+json": {
                            "schema": {
                                "fields": [
                                    {
                                        "name": "Table"
                                    },
                                    {
                                        "name": "Non_unique"
                                    },
                                    {
                                        "name": "Key_name"
                                    },
                                    {
                                        "name": "Seq_in_index"
                                    },
                                    {
                                        "name": "Column_name"
                                    },
                                    {
                                        "name": "Collation"
                                    },
                                    {
                                        "name": "Cardinality"
                                    },
                                    {
                                        "name": "Sub_part"
                                    },
                                    {
                                        "name": "Packed"
                                    },
                                    {
                                        "name": "Null"
                                    },
                                    {
                                        "name": "Index_type"
                                    },
                                    {
                                        "name": "Comment"
                                    },
                                    {
                                        "name": "Index_comment"
                                    },
                                    {
                                        "name": "Visible"
                                    },
                                    {
                                        "name": "Expression"
                                    }
                                ]
                            },
                            "data": [
                                {
                                    "Table": "employees",
                                    "Non_unique": "0",
                                    "Key_name": "PRIMARY",
                                    "Seq_in_index": "1",
                                    "Column_name": "employeeNumber",
                                    "Collation": "A",
                                    "Cardinality": "23",
                                    "Sub_part": "NULL",
                                    "Packed": "NULL",
                                    "Null": "",
                                    "Index_type": "BTREE",
                                    "Comment": "",
                                    "Index_comment": "",
                                    "Visible": "YES",
                                    "Expression": "NULL"
                                },
                                {
                                    "Table": "employees",
                                    "Non_unique": "0",
                                    "Key_name": "employees_fullname",
                                    "Seq_in_index": "1",
                                    "Column_name": "firstName",
                                    "Collation": "A",
                                    "Cardinality": "21",
                                    "Sub_part": "NULL",
                                    "Packed": "NULL",
                                    "Null": "",
                                    "Index_type": "BTREE",
                                    "Comment": "",
                                    "Index_comment": "",
                                    "Visible": "YES",
                                    "Expression": "NULL"
                                },
                                {
                                    "Table": "employees",
                                    "Non_unique": "0",
                                    "Key_name": "employees_fullname",
                                    "Seq_in_index": "2",
                                    "Column_name": "lastName",
                                    "Collation": "A",
                                    "Cardinality": "23",
                                    "Sub_part": "NULL",
                                    "Packed": "NULL",
                                    "Null": "",
                                    "Index_type": "BTREE",
                                    "Comment": "",
                                    "Index_comment": "",
                                    "Visible": "YES",
                                    "Expression": "NULL"
                                },
                                {
                                    "Table": "employees",
                                    "Non_unique": "1",
                                    "Key_name": "reportsTo",
                                    "Seq_in_index": "1",
                                    "Column_name": "reportsTo",
                                    "Collation": "A",
                                    "Cardinality": "7",
                                    "Sub_part": "NULL",
                                    "Packed": "NULL",
                                    "Null": "YES",
                                    "Index_type": "BTREE",
                                    "Comment": "",
                                    "Index_comment": "",
                                    "Visible": "YES",
                                    "Expression": "NULL"
                                },
                                {
                                    "Table": "employees",
                                    "Non_unique": "1",
                                    "Key_name": "officeCode",
                                    "Seq_in_index": "1",
                                    "Column_name": "officeCode",
                                    "Collation": "A",
                                    "Cardinality": "7",
                                    "Sub_part": "NULL",
                                    "Packed": "NULL",
                                    "Null": "",
                                    "Index_type": "BTREE",
                                    "Comment": "",
                                    "Index_comment": "",
                                    "Visible": "YES",
                                    "Expression": "NULL"
                                },
                                {
                                    "Table": "employees",
                                    "Non_unique": "1",
                                    "Key_name": "jobTitle",
                                    "Seq_in_index": "1",
                                    "Column_name": "jobTitle",
                                    "Collation": "A",
                                    "Cardinality": "7",
                                    "Sub_part": "NULL",
                                    "Packed": "NULL",
                                    "Null": "",
                                    "Index_type": "BTREE",
                                    "Comment": "",
                                    "Index_comment": "",
                                    "Visible": "YES",
                                    "Expression": "NULL"
                                }
                            ]
                        },
                        "text/html": "<table><tr><th>Table</th><th>Non_unique</th><th>Key_name</th><th>Seq_in_index</th><th>Column_name</th><th>Collation</th><th>Cardinality</th><th>Sub_part</th><th>Packed</th><th>Null</th><th>Index_type</th><th>Comment</th><th>Index_comment</th><th>Visible</th><th>Expression</th></tr><tr><td>employees</td><td>0</td><td>PRIMARY</td><td>1</td><td>employeeNumber</td><td>A</td><td>23</td><td>NULL</td><td>NULL</td><td></td><td>BTREE</td><td></td><td></td><td>YES</td><td>NULL</td></tr><tr><td>employees</td><td>0</td><td>employees_fullname</td><td>1</td><td>firstName</td><td>A</td><td>21</td><td>NULL</td><td>NULL</td><td></td><td>BTREE</td><td></td><td></td><td>YES</td><td>NULL</td></tr><tr><td>employees</td><td>0</td><td>employees_fullname</td><td>2</td><td>lastName</td><td>A</td><td>23</td><td>NULL</td><td>NULL</td><td></td><td>BTREE</td><td></td><td></td><td>YES</td><td>NULL</td></tr><tr><td>employees</td><td>1</td><td>reportsTo</td><td>1</td><td>reportsTo</td><td>A</td><td>7</td><td>NULL</td><td>NULL</td><td>YES</td><td>BTREE</td><td></td><td></td><td>YES</td><td>NULL</td></tr><tr><td>employees</td><td>1</td><td>officeCode</td><td>1</td><td>officeCode</td><td>A</td><td>7</td><td>NULL</td><td>NULL</td><td></td><td>BTREE</td><td></td><td></td><td>YES</td><td>NULL</td></tr><tr><td>employees</td><td>1</td><td>jobTitle</td><td>1</td><td>jobTitle</td><td>A</td><td>7</td><td>NULL</td><td>NULL</td><td></td><td>BTREE</td><td></td><td></td><td>YES</td><td>NULL</td></tr></table>"
                    },
                    "metadata": {}
                }
            ],
            "execution_count": 16
        },
        {
            "cell_type": "code",
            "source": [
                "-- CREATE INDEX with unique existing table\n",
                "\n",
                "ALTER TABLE employees \n",
                "ADD CONSTRAINT employees_fullname UNIQUE INDEX(firstName, lastName);\n",
                "\n",
                "-- https://www.mysqltutorial.org/mysql-index/"
            ],
            "metadata": {
                "language": "sql",
                "azdata_cell_guid": "7ae0bfb5-1bd6-47b7-9ee6-93610a3ac575",
                "tags": []
            },
            "outputs": [
                {
                    "output_type": "display_data",
                    "data": {
                        "text/html": "Commands completed successfully"
                    },
                    "metadata": {}
                },
                {
                    "output_type": "display_data",
                    "data": {
                        "text/html": "Total execution time: 00:00:00.096"
                    },
                    "metadata": {}
                }
            ],
            "execution_count": 15
        },
        {
            "cell_type": "code",
            "source": [
                "EXPLAIN SELECT * from employees where lastName = 'Firrelli' AND firstName = 'Jeff';"
            ],
            "metadata": {
                "language": "sql",
                "azdata_cell_guid": "52a6f553-6603-4e44-8bd1-290ea138ba1a"
            },
            "outputs": [
                {
                    "output_type": "display_data",
                    "data": {
                        "text/html": "(1 row(s) affected)"
                    },
                    "metadata": {}
                },
                {
                    "output_type": "display_data",
                    "data": {
                        "text/html": "Total execution time: 00:00:01.010"
                    },
                    "metadata": {}
                },
                {
                    "output_type": "execute_result",
                    "execution_count": 23,
                    "data": {
                        "application/vnd.dataresource+json": {
                            "schema": {
                                "fields": [
                                    {
                                        "name": "id"
                                    },
                                    {
                                        "name": "select_type"
                                    },
                                    {
                                        "name": "table"
                                    },
                                    {
                                        "name": "partitions"
                                    },
                                    {
                                        "name": "type"
                                    },
                                    {
                                        "name": "possible_keys"
                                    },
                                    {
                                        "name": "key"
                                    },
                                    {
                                        "name": "key_len"
                                    },
                                    {
                                        "name": "ref"
                                    },
                                    {
                                        "name": "rows"
                                    },
                                    {
                                        "name": "filtered"
                                    },
                                    {
                                        "name": "Extra"
                                    }
                                ]
                            },
                            "data": [
                                {
                                    "id": "1",
                                    "select_type": "SIMPLE",
                                    "table": "employees",
                                    "partitions": "NULL",
                                    "type": "const",
                                    "possible_keys": "employees_fullname",
                                    "key": "employees_fullname",
                                    "key_len": "404",
                                    "ref": "const,const",
                                    "rows": "1",
                                    "filtered": "100.0",
                                    "Extra": "NULL"
                                }
                            ]
                        },
                        "text/html": "<table><tr><th>id</th><th>select_type</th><th>table</th><th>partitions</th><th>type</th><th>possible_keys</th><th>key</th><th>key_len</th><th>ref</th><th>rows</th><th>filtered</th><th>Extra</th></tr><tr><td>1</td><td>SIMPLE</td><td>employees</td><td>NULL</td><td>const</td><td>employees_fullname</td><td>employees_fullname</td><td>404</td><td>const,const</td><td>1</td><td>100.0</td><td>NULL</td></tr></table>"
                    },
                    "metadata": {}
                }
            ],
            "execution_count": 23
        }
    ]
}