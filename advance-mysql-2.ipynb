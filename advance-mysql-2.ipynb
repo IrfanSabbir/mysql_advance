{
    "metadata": {
        "kernelspec": {
            "name": "SQL",
            "display_name": "SQL",
            "language": "sql"
        },
        "language_info": {
            "name": "sql",
            "version": ""
        }
    },
    "nbformat_minor": 2,
    "nbformat": 4,
    "cells": [
        {
            "cell_type": "code",
            "source": [
                "-- USE OF CTE(Common Table Expression)\n",
                "\n",
                "-- CTE to break down complex query\n",
                "\n",
                "WITH customer_in_USA AS (\n",
                "    SELECT \n",
                "        customerName, country, state\n",
                "    FROM \n",
                "        customers\n",
                "    WHERE \n",
                "        country = 'USA'\n",
                ")\n",
                "\n",
                "SELECT \n",
                "    customerName, state\n",
                " FROM\n",
                "    customer_in_USA\n",
                " WHERE\n",
                "    state = 'CA'\n",
                " ORDER BY customerName;"
            ],
            "metadata": {
                "azdata_cell_guid": "11be2cba-2e9a-43f4-bb2b-a4b66238046f",
                "language": "sql",
                "tags": []
            },
            "outputs": [
                {
                    "output_type": "display_data",
                    "data": {
                        "text/html": "(11 row(s) affected)"
                    },
                    "metadata": {}
                },
                {
                    "output_type": "display_data",
                    "data": {
                        "text/html": "Total execution time: 00:00:01.008"
                    },
                    "metadata": {}
                },
                {
                    "output_type": "execute_result",
                    "execution_count": 10,
                    "data": {
                        "application/vnd.dataresource+json": {
                            "schema": {
                                "fields": [
                                    {
                                        "name": "customerName"
                                    },
                                    {
                                        "name": "state"
                                    }
                                ]
                            },
                            "data": [
                                {
                                    "customerName": "Boards & Toys Co.",
                                    "state": "CA"
                                },
                                {
                                    "customerName": "Collectable Mini Designs Co.",
                                    "state": "CA"
                                },
                                {
                                    "customerName": "Corporate Gift Ideas Co.",
                                    "state": "CA"
                                },
                                {
                                    "customerName": "Men 'R' US Retailers, Ltd.",
                                    "state": "CA"
                                },
                                {
                                    "customerName": "Mini Gifts Distributors Ltd.",
                                    "state": "CA"
                                },
                                {
                                    "customerName": "Mini Wheels Co.",
                                    "state": "CA"
                                },
                                {
                                    "customerName": "Signal Collectibles Ltd.",
                                    "state": "CA"
                                },
                                {
                                    "customerName": "Technics Stores Inc.",
                                    "state": "CA"
                                },
                                {
                                    "customerName": "The Sharp Gifts Warehouse",
                                    "state": "CA"
                                },
                                {
                                    "customerName": "Toys4GrownUps.com",
                                    "state": "CA"
                                },
                                {
                                    "customerName": "West Coast Collectables Co.",
                                    "state": "CA"
                                }
                            ]
                        },
                        "text/html": "<table><tr><th>customerName</th><th>state</th></tr><tr><td>Boards &amp; Toys Co.</td><td>CA</td></tr><tr><td>Collectable Mini Designs Co.</td><td>CA</td></tr><tr><td>Corporate Gift Ideas Co.</td><td>CA</td></tr><tr><td>Men &#39;R&#39; US Retailers, Ltd.</td><td>CA</td></tr><tr><td>Mini Gifts Distributors Ltd.</td><td>CA</td></tr><tr><td>Mini Wheels Co.</td><td>CA</td></tr><tr><td>Signal Collectibles Ltd.</td><td>CA</td></tr><tr><td>Technics Stores Inc.</td><td>CA</td></tr><tr><td>The Sharp Gifts Warehouse</td><td>CA</td></tr><tr><td>Toys4GrownUps.com</td><td>CA</td></tr><tr><td>West Coast Collectables Co.</td><td>CA</td></tr></table>"
                    },
                    "metadata": {}
                }
            ],
            "execution_count": 10
        },
        {
            "cell_type": "code",
            "source": [
                "use ecom"
            ],
            "metadata": {
                "language": "sql",
                "azdata_cell_guid": "c35cfd92-dd7c-44f8-9e57-ada6ec260eb0"
            },
            "outputs": [
                {
                    "output_type": "display_data",
                    "data": {
                        "text/html": "Commands completed successfully"
                    },
                    "metadata": {}
                },
                {
                    "output_type": "display_data",
                    "data": {
                        "text/html": "Total execution time: 00:00:00.003"
                    },
                    "metadata": {}
                }
            ],
            "execution_count": 1
        },
        {
            "cell_type": "code",
            "source": [
                "-- Getting top sales using a CTE\n",
                "\n",
                "-- We’ll use the orders, orderdetails, and employees from the sample database:\n",
                "\n",
                "-- The following example uses a CTE to retrieve the top 5 sales representatives based on their total sales in the year 2003:\n",
                "\n",
                "--  Learn more on https://www.mysqltutorial.org/mysql-basics/mysql-cte/\n",
                "WITH gettop5slaesRepresentitive AS (\n",
                "    SELECT \n",
                "        c.salesRepEmployeeNumber AS employeeNumber,\n",
                "        SUM(orDt.quantityOrdered *\torDt.priceEach) AS sales\n",
                "    FROM \n",
                "        orders AS o\n",
                "    INNER JOIN orderdetails orDt\n",
                "        ON o.orderNumber = orDt.orderNumber\n",
                "    INNER JOIN customers c\n",
                "        ON o.customerNumber = c.customerNumber\n",
                "    WHERE\n",
                "        YEAR(shippedDate) = '2003'\n",
                "        AND status = \"shipped\"\n",
                "    GROUP BY c.salesRepEmployeeNumber\n",
                "    ORDER BY sales DESC\n",
                "    LIMIT 5\n",
                ")\n",
                "\n",
                "SELECT \n",
                "    CONCAT(e.lastName,  \" \",e.firstName) as fullName,\n",
                "    e.email,\n",
                "    e.jobTitle,\n",
                "    topE.sales\n",
                "FROM employees AS e\n",
                "JOIN gettop5slaesRepresentitive AS topE\n",
                "    ON e.employeeNumber = topE.employeeNumber;\n",
                "\n",
                "-- How it works.\n",
                "\n",
                "-- First, define a CTE that retrieves the top 5 employees with their total sales in 2003.\n",
                "-- Second, join the CTE with the employees table to include the first and last names of the sales representatives.\n",
                ""
            ],
            "metadata": {
                "language": "sql",
                "azdata_cell_guid": "07692ec2-34e3-4d38-869d-c6f998b11b50"
            },
            "outputs": [
                {
                    "output_type": "display_data",
                    "data": {
                        "text/html": "(5 row(s) affected)"
                    },
                    "metadata": {}
                },
                {
                    "output_type": "display_data",
                    "data": {
                        "text/html": "Total execution time: 00:00:01.015"
                    },
                    "metadata": {}
                },
                {
                    "output_type": "execute_result",
                    "execution_count": 13,
                    "data": {
                        "application/vnd.dataresource+json": {
                            "schema": {
                                "fields": [
                                    {
                                        "name": "fullName"
                                    },
                                    {
                                        "name": "email"
                                    },
                                    {
                                        "name": "jobTitle"
                                    },
                                    {
                                        "name": "sales"
                                    }
                                ]
                            },
                            "data": [
                                {
                                    "fullName": "Jennings Leslie",
                                    "email": "ljennings@classicmodelcars.com",
                                    "jobTitle": "Sales Rep",
                                    "sales": "413219.85"
                                },
                                {
                                    "fullName": "Hernandez Gerard",
                                    "email": "ghernande@classicmodelcars.com",
                                    "jobTitle": "Sales Rep",
                                    "sales": "295246.44"
                                },
                                {
                                    "fullName": "Castillo Pamela",
                                    "email": "pcastillo@classicmodelcars.com",
                                    "jobTitle": "Sales Rep",
                                    "sales": "289982.88"
                                },
                                {
                                    "fullName": "Nishi Mami",
                                    "email": "mnishi@classicmodelcars.com",
                                    "jobTitle": "Sales Rep",
                                    "sales": "267249.40"
                                },
                                {
                                    "fullName": "Bott Larry",
                                    "email": "lbott@classicmodelcars.com",
                                    "jobTitle": "Sales Rep",
                                    "sales": "261536.95"
                                }
                            ]
                        },
                        "text/html": "<table><tr><th>fullName</th><th>email</th><th>jobTitle</th><th>sales</th></tr><tr><td>Jennings Leslie</td><td>ljennings@classicmodelcars.com</td><td>Sales Rep</td><td>413219.85</td></tr><tr><td>Hernandez Gerard</td><td>ghernande@classicmodelcars.com</td><td>Sales Rep</td><td>295246.44</td></tr><tr><td>Castillo Pamela</td><td>pcastillo@classicmodelcars.com</td><td>Sales Rep</td><td>289982.88</td></tr><tr><td>Nishi Mami</td><td>mnishi@classicmodelcars.com</td><td>Sales Rep</td><td>267249.40</td></tr><tr><td>Bott Larry</td><td>lbott@classicmodelcars.com</td><td>Sales Rep</td><td>261536.95</td></tr></table>"
                    },
                    "metadata": {}
                }
            ],
            "execution_count": 13
        },
        {
            "cell_type": "code",
            "source": [
                "-- TRANSACTION\n",
                "-- use ecom;\n",
                "-- SET autocommit = 0;\n",
                "-- SET autocommit = 1;\n",
                "\n",
                "-- By default, when you execute an SQL statement, MySQL automatically wraps it in a transaction and commits the transaction automatically.\n",
                "\n",
                "-- To instruct MySQL to not start a transaction implicitly and commit the changes automatically, you set the value of the autocommit variable to 0 or OFF:\n",
                "\n",
                "-- SET autocommit = 1;\n",
                "\n",
                "-- To enable the auto-commit mode, you set the value of the autocommit variable to 1 or ON:\n",
                "\n",
                "-- SET autocommit = 1;\n",
                "\n",
                "CREATE TABLE users (\n",
                "    id INT AUTO_INCREMENT PRIMARY KEY,\n",
                "    name VARCHAR(255),\n",
                "    email VARCHAR(255) UNIQUE\n",
                ");\n",
                ""
            ],
            "metadata": {
                "azdata_cell_guid": "4bdf4d37-eb8c-426b-b27c-770c5c0ba74a",
                "language": "sql"
            },
            "outputs": [
                {
                    "output_type": "display_data",
                    "data": {
                        "text/html": "Commands completed successfully"
                    },
                    "metadata": {}
                },
                {
                    "output_type": "display_data",
                    "data": {
                        "text/html": "Total execution time: 00:00:00.100"
                    },
                    "metadata": {}
                }
            ],
            "execution_count": 3
        },
        {
            "cell_type": "code",
            "source": [
                "-- INSERT INTO TABLE\n",
                "\n",
                "\n",
                "START TRANSACTION;\n",
                "\n",
                "INSERT INTO users VALUES(1, 'irfan uddin', \"test@gmail.com\");\n",
                "\n",
                "UPDATE users\n",
                "    SET email = 'tes2t@gmail.com'\n",
                "WHERE email = 'test@gmail.com';\n",
                "\n",
                "COMMIT;"
            ],
            "metadata": {
                "language": "sql",
                "azdata_cell_guid": "7fa4ebcf-94b9-4369-8557-1e6be56baefc",
                "tags": []
            },
            "outputs": [
                {
                    "output_type": "display_data",
                    "data": {
                        "text/html": "Commands completed successfully"
                    },
                    "metadata": {}
                },
                {
                    "output_type": "display_data",
                    "data": {
                        "text/html": "Total execution time: 00:00:00.019"
                    },
                    "metadata": {}
                },
                {
                    "output_type": "error",
                    "ename": "",
                    "evalue": "1062 (23000): Duplicate entry '1' for key 'users.PRIMARY'",
                    "traceback": []
                }
            ],
            "execution_count": 11
        },
        {
            "cell_type": "code",
            "source": [
                "SELECT * FROM users;"
            ],
            "metadata": {
                "language": "sql",
                "azdata_cell_guid": "fda6c9bf-7452-4a72-92dc-cc10883909fb"
            },
            "outputs": [
                {
                    "output_type": "display_data",
                    "data": {
                        "text/html": "(1 row(s) affected)"
                    },
                    "metadata": {}
                },
                {
                    "output_type": "display_data",
                    "data": {
                        "text/html": "Total execution time: 00:00:01.007"
                    },
                    "metadata": {}
                },
                {
                    "output_type": "execute_result",
                    "execution_count": 14,
                    "data": {
                        "application/vnd.dataresource+json": {
                            "schema": {
                                "fields": [
                                    {
                                        "name": "id"
                                    },
                                    {
                                        "name": "name"
                                    },
                                    {
                                        "name": "email"
                                    }
                                ]
                            },
                            "data": [
                                {
                                    "id": "1",
                                    "name": "irfan uddin",
                                    "email": "tes2t@gmail.com"
                                }
                            ]
                        },
                        "text/html": "<table><tr><th>id</th><th>name</th><th>email</th></tr><tr><td>1</td><td>irfan uddin</td><td>tes2t@gmail.com</td></tr></table>"
                    },
                    "metadata": {}
                }
            ],
            "execution_count": 14
        },
        {
            "cell_type": "code",
            "source": [
                "-- USE CALL OF ROLLBACK\n",
                "START TRANSACTION;\n",
                "\n",
                "INSERT INTO users (id, name) \n",
                "VALUES (2, 'jane');\n",
                "\n",
                "UPDATE users \n",
                "SET email = 'jane.doe@example.com' \n",
                "WHERE id = 2;\n",
                "\n",
                "ROLLBACK;"
            ],
            "metadata": {
                "language": "sql",
                "azdata_cell_guid": "d8d3f469-8b11-4454-a61d-46fb3f6a3fa2"
            },
            "outputs": [
                {
                    "output_type": "display_data",
                    "data": {
                        "text/html": "Commands completed successfully"
                    },
                    "metadata": {}
                },
                {
                    "output_type": "display_data",
                    "data": {
                        "text/html": "Commands completed successfully"
                    },
                    "metadata": {}
                },
                {
                    "output_type": "display_data",
                    "data": {
                        "text/html": "Commands completed successfully"
                    },
                    "metadata": {}
                },
                {
                    "output_type": "display_data",
                    "data": {
                        "text/html": "Commands completed successfully"
                    },
                    "metadata": {}
                },
                {
                    "output_type": "display_data",
                    "data": {
                        "text/html": "Total execution time: 00:00:00.015"
                    },
                    "metadata": {}
                }
            ],
            "execution_count": 13
        },
        {
            "cell_type": "code",
            "source": [
                "-- Practise Transaction with Stored proc\n",
                "\n",
                "-- STart with creating  tables, inserting data and create stored proc and executing it "
            ],
            "metadata": {
                "language": "sql",
                "azdata_cell_guid": "1208fbf4-a868-485c-8cdd-3f5c369e41c7"
            },
            "outputs": [
                {
                    "output_type": "display_data",
                    "data": {
                        "text/html": "Total execution time: 00:00:00"
                    },
                    "metadata": {}
                }
            ],
            "execution_count": 15
        },
        {
            "cell_type": "code",
            "source": [
                "-- Creating Account table and Transaction table\n",
                "\n",
                "START TRANSACTION;\n",
                "CREATE TABLE accounts (\n",
                "    account_id INT AUTO_INCREMENT PRIMARY KEY,\n",
                "    account_name VARCHAR(255) NOT NULL,\n",
                "    balance DECIMAL(10, 2) NOT NULL\n",
                ");\n",
                "\n",
                "CREATE TABLE transactions (\n",
                "    transaction_id INT AUTO_INCREMENT PRIMARY KEY,\n",
                "    account_id INT NOT NULL,\n",
                "    balance DECIMAL(10, 2) NOT NULL,\n",
                "    transaction_type ENUM('DEPOSIT', 'WITHDRAWAL') NOT NULL,\n",
                "    FOREIGN KEY(account_id) REFERENCES accounts(account_id)\n",
                ");\n",
                "\n",
                "COMMIT;\n",
                "\n",
                ""
            ],
            "metadata": {
                "language": "sql",
                "azdata_cell_guid": "4a623bc9-d9f1-4974-b59f-9e44370c3015"
            },
            "outputs": [
                {
                    "output_type": "display_data",
                    "data": {
                        "text/html": "Commands completed successfully"
                    },
                    "metadata": {}
                },
                {
                    "output_type": "display_data",
                    "data": {
                        "text/html": "Commands completed successfully"
                    },
                    "metadata": {}
                },
                {
                    "output_type": "display_data",
                    "data": {
                        "text/html": "Commands completed successfully"
                    },
                    "metadata": {}
                },
                {
                    "output_type": "display_data",
                    "data": {
                        "text/html": "Commands completed successfully"
                    },
                    "metadata": {}
                },
                {
                    "output_type": "display_data",
                    "data": {
                        "text/html": "Total execution time: 00:00:00.186"
                    },
                    "metadata": {}
                }
            ],
            "execution_count": 16
        },
        {
            "cell_type": "code",
            "source": [
                "-- INSERT DATA INTO ACCOUNT\n",
                "-- SET autocommit = 1;\n",
                "INSERT INTO accounts (account_name, balance)\n",
                "VALUES ('JONE DOE', 200),\n",
                "('MIC HESS', 300);\n",
                "COMMIT;"
            ],
            "metadata": {
                "language": "sql",
                "azdata_cell_guid": "8d3f8a69-48b9-4b6e-9db5-99cb456f3117"
            },
            "outputs": [
                {
                    "output_type": "display_data",
                    "data": {
                        "text/html": "Commands completed successfully"
                    },
                    "metadata": {}
                },
                {
                    "output_type": "display_data",
                    "data": {
                        "text/html": "Commands completed successfully"
                    },
                    "metadata": {}
                },
                {
                    "output_type": "display_data",
                    "data": {
                        "text/html": "Commands completed successfully"
                    },
                    "metadata": {}
                },
                {
                    "output_type": "display_data",
                    "data": {
                        "text/html": "Total execution time: 00:00:00.023"
                    },
                    "metadata": {}
                }
            ],
            "execution_count": 31
        },
        {
            "cell_type": "code",
            "source": [
                "SELECT account_id FROM accounts WHERE account_id = 3;\n",
                "SELECT account_id FROM accounts WHERE account_id = 4;\n",
                ""
            ],
            "metadata": {
                "language": "sql",
                "azdata_cell_guid": "79763295-faa8-45fd-81b8-96611997d67e"
            },
            "outputs": [
                {
                    "output_type": "display_data",
                    "data": {
                        "text/html": "(1 row(s) affected)"
                    },
                    "metadata": {}
                },
                {
                    "output_type": "display_data",
                    "data": {
                        "text/html": "(1 row(s) affected)"
                    },
                    "metadata": {}
                },
                {
                    "output_type": "display_data",
                    "data": {
                        "text/html": "Total execution time: 00:00:02.015"
                    },
                    "metadata": {}
                },
                {
                    "output_type": "execute_result",
                    "metadata": {},
                    "execution_count": 39,
                    "data": {
                        "application/vnd.dataresource+json": {
                            "schema": {
                                "fields": [
                                    {
                                        "name": "account_id"
                                    }
                                ]
                            },
                            "data": [
                                {
                                    "account_id": "3"
                                }
                            ]
                        },
                        "text/html": [
                            "<table>",
                            "<tr><th>account_id</th></tr>",
                            "<tr><td>3</td></tr>",
                            "</table>"
                        ]
                    }
                },
                {
                    "output_type": "execute_result",
                    "metadata": {},
                    "execution_count": 39,
                    "data": {
                        "application/vnd.dataresource+json": {
                            "schema": {
                                "fields": [
                                    {
                                        "name": "account_id"
                                    }
                                ]
                            },
                            "data": [
                                {
                                    "account_id": "4"
                                }
                            ]
                        },
                        "text/html": [
                            "<table>",
                            "<tr><th>account_id</th></tr>",
                            "<tr><td>4</td></tr>",
                            "</table>"
                        ]
                    }
                }
            ],
            "execution_count": 39
        },
        {
            "cell_type": "code",
            "source": [
                "select * from accounts;\n",
                "select * from transactions;"
            ],
            "metadata": {
                "language": "sql",
                "azdata_cell_guid": "38dad9ff-0cb1-4068-b264-64001413b7b7"
            },
            "outputs": [
                {
                    "output_type": "display_data",
                    "data": {
                        "text/html": "(6 row(s) affected)"
                    },
                    "metadata": {}
                },
                {
                    "output_type": "display_data",
                    "data": {
                        "text/html": "(0 row(s) affected)"
                    },
                    "metadata": {}
                },
                {
                    "output_type": "display_data",
                    "data": {
                        "text/html": "Total execution time: 00:00:02.022"
                    },
                    "metadata": {}
                },
                {
                    "output_type": "execute_result",
                    "metadata": {},
                    "execution_count": 37,
                    "data": {
                        "application/vnd.dataresource+json": {
                            "schema": {
                                "fields": [
                                    {
                                        "name": "account_id"
                                    },
                                    {
                                        "name": "account_name"
                                    },
                                    {
                                        "name": "balance"
                                    }
                                ]
                            },
                            "data": [
                                {
                                    "account_id": "3",
                                    "account_name": "JONE DOE",
                                    "balance": "200.00"
                                },
                                {
                                    "account_id": "4",
                                    "account_name": "MIC HESS",
                                    "balance": "300.00"
                                },
                                {
                                    "account_id": "5",
                                    "account_name": "JONE DOE",
                                    "balance": "200.00"
                                },
                                {
                                    "account_id": "6",
                                    "account_name": "MIC HESS",
                                    "balance": "300.00"
                                },
                                {
                                    "account_id": "7",
                                    "account_name": "JONE DOE",
                                    "balance": "200.00"
                                },
                                {
                                    "account_id": "8",
                                    "account_name": "MIC HESS",
                                    "balance": "300.00"
                                }
                            ]
                        },
                        "text/html": [
                            "<table>",
                            "<tr><th>account_id</th><th>account_name</th><th>balance</th></tr>",
                            "<tr><td>3</td><td>JONE DOE</td><td>200.00</td></tr>",
                            "<tr><td>4</td><td>MIC HESS</td><td>300.00</td></tr>",
                            "<tr><td>5</td><td>JONE DOE</td><td>200.00</td></tr>",
                            "<tr><td>6</td><td>MIC HESS</td><td>300.00</td></tr>",
                            "<tr><td>7</td><td>JONE DOE</td><td>200.00</td></tr>",
                            "<tr><td>8</td><td>MIC HESS</td><td>300.00</td></tr>",
                            "</table>"
                        ]
                    }
                },
                {
                    "output_type": "execute_result",
                    "metadata": {},
                    "execution_count": 37,
                    "data": {
                        "application/vnd.dataresource+json": {
                            "schema": {
                                "fields": [
                                    {
                                        "name": "transaction_id"
                                    },
                                    {
                                        "name": "account_id"
                                    },
                                    {
                                        "name": "balance"
                                    },
                                    {
                                        "name": "transaction_type"
                                    }
                                ]
                            },
                            "data": []
                        },
                        "text/html": [
                            "<table>",
                            "<tr><th>transaction_id</th><th>account_id</th><th>balance</th><th>transaction_type</th></tr>",
                            "</table>"
                        ]
                    }
                }
            ],
            "execution_count": 37
        },
        {
            "cell_type": "code",
            "source": [
                "-- CRETAE THE STORED PROC TO TRANSFER BLANCE BETWEEN ACCOUNT\n",
                "-- USE SQL TRANSACTION TO COMPLETE THE WHOLE OPERATION AND RETURN ERROR OR RESULT\n",
                "\n",
                "use ecom;\n",
                "\n",
                "DROP PROCEDURE IF EXISTS TransferBalanceBeteenAccount;\n",
                "\n",
                "CREATE PROCEDURE TransferBalanceBeteenAccount(\n",
                "    IN sender_id INT,\n",
                "    IN receiver_id INT,\n",
                "    IN amount DECIMAL(10, 2)\n",
                ")\n",
                "BEGIN\n",
                "    DECLARE rollback_message VARCHAR(255) DEFAULT 'Transaction rolled back: Insufficient funds';\n",
                "    DECLARE success_message VARCHAR(255) DEFAULT 'Transaction successfull';\n",
                "\n",
                "    START TRANSACTION;\n",
                "\n",
                "    UPDATE accounts SET balance = balance - amount WHERE account_id = sender_id;\n",
                "    UPDATE accounts SET balance = balance + amount WHERE account_id = receiver_id;\n",
                "\n",
                "     \n",
                "    IF (SELECT balance FROM accounts WHERE account_id = sender_id) < 0 THEN\n",
                "        ROLLBACK;\n",
                "\n",
                "        SIGNAL SQLSTATE '45000'\n",
                "            SET MESSAGE_TEXT = rollback_message;\n",
                "    ELSE\n",
                "        INSERT INTO transactions(account_id, balance, transaction_type) VALUES(sender_id, -amount, 'WITHDRAWAL');\n",
                "        INSERT INTO transactions(account_id, balance, transaction_type) VALUES(receiver_id, amount, 'DEPOSIT');\n",
                "        \n",
                "        COMMIT;\n",
                "\n",
                "        SELECT success_message AS 'result';\n",
                "\n",
                "    END IF;\n",
                "\n",
                "END;"
            ],
            "metadata": {
                "language": "sql",
                "azdata_cell_guid": "727de4ec-11cf-4690-a24c-db89bc133465"
            },
            "outputs": [
                {
                    "output_type": "display_data",
                    "data": {
                        "text/html": "Commands completed successfully"
                    },
                    "metadata": {}
                },
                {
                    "output_type": "display_data",
                    "data": {
                        "text/html": "Commands completed successfully"
                    },
                    "metadata": {}
                },
                {
                    "output_type": "display_data",
                    "data": {
                        "text/html": "Commands completed successfully"
                    },
                    "metadata": {}
                },
                {
                    "output_type": "display_data",
                    "data": {
                        "text/html": "Total execution time: 00:00:00.048"
                    },
                    "metadata": {}
                }
            ],
            "execution_count": 33
        },
        {
            "cell_type": "code",
            "source": [
                "-- Execute the STORED PROC\n",
                "use ecom;\n",
                "CALL TransferBalanceBeteenAccount(3, 4, 200);"
            ],
            "metadata": {
                "language": "sql",
                "azdata_cell_guid": "9762a4a3-626a-4a58-a0f9-65f74a39d56d",
                "tags": []
            },
            "outputs": [
                {
                    "output_type": "display_data",
                    "data": {
                        "text/html": "Commands completed successfully"
                    },
                    "metadata": {}
                },
                {
                    "output_type": "display_data",
                    "data": {
                        "text/html": "(1 row(s) affected)"
                    },
                    "metadata": {}
                },
                {
                    "output_type": "display_data",
                    "data": {
                        "text/html": "Total execution time: 00:00:01.030"
                    },
                    "metadata": {}
                },
                {
                    "output_type": "execute_result",
                    "metadata": {},
                    "execution_count": 40,
                    "data": {
                        "application/vnd.dataresource+json": {
                            "schema": {
                                "fields": [
                                    {
                                        "name": "result"
                                    }
                                ]
                            },
                            "data": [
                                {
                                    "result": "Transaction successfull"
                                }
                            ]
                        },
                        "text/html": [
                            "<table>",
                            "<tr><th>result</th></tr>",
                            "<tr><td>Transaction successfull</td></tr>",
                            "</table>"
                        ]
                    }
                }
            ],
            "execution_count": 40
        },
        {
            "cell_type": "code",
            "source": [
                "-- CHECK ACCOUNT AND TRANSECTION\n",
                "use ecom;\n",
                "SELECT * FROM accounts WHERE account_id IN (3, 4);\n",
                "SELECT * FROM transactions WHERE account_id IN (3, 4);\n",
                ""
            ],
            "metadata": {
                "language": "sql",
                "azdata_cell_guid": "0f28c62d-1932-41aa-921b-f6666a507ef5"
            },
            "outputs": [
                {
                    "output_type": "display_data",
                    "data": {
                        "text/html": "Commands completed successfully"
                    },
                    "metadata": {}
                },
                {
                    "output_type": "display_data",
                    "data": {
                        "text/html": "(2 row(s) affected)"
                    },
                    "metadata": {}
                },
                {
                    "output_type": "display_data",
                    "data": {
                        "text/html": "(2 row(s) affected)"
                    },
                    "metadata": {}
                },
                {
                    "output_type": "display_data",
                    "data": {
                        "text/html": "Total execution time: 00:00:02.021"
                    },
                    "metadata": {}
                },
                {
                    "output_type": "execute_result",
                    "metadata": {},
                    "execution_count": 43,
                    "data": {
                        "application/vnd.dataresource+json": {
                            "schema": {
                                "fields": [
                                    {
                                        "name": "account_id"
                                    },
                                    {
                                        "name": "account_name"
                                    },
                                    {
                                        "name": "balance"
                                    }
                                ]
                            },
                            "data": [
                                {
                                    "account_id": "3",
                                    "account_name": "JONE DOE",
                                    "balance": "0.00"
                                },
                                {
                                    "account_id": "4",
                                    "account_name": "MIC HESS",
                                    "balance": "500.00"
                                }
                            ]
                        },
                        "text/html": [
                            "<table>",
                            "<tr><th>account_id</th><th>account_name</th><th>balance</th></tr>",
                            "<tr><td>3</td><td>JONE DOE</td><td>0.00</td></tr>",
                            "<tr><td>4</td><td>MIC HESS</td><td>500.00</td></tr>",
                            "</table>"
                        ]
                    }
                },
                {
                    "output_type": "execute_result",
                    "metadata": {},
                    "execution_count": 43,
                    "data": {
                        "application/vnd.dataresource+json": {
                            "schema": {
                                "fields": [
                                    {
                                        "name": "transaction_id"
                                    },
                                    {
                                        "name": "account_id"
                                    },
                                    {
                                        "name": "balance"
                                    },
                                    {
                                        "name": "transaction_type"
                                    }
                                ]
                            },
                            "data": [
                                {
                                    "transaction_id": "6",
                                    "account_id": "3",
                                    "balance": "-200.00",
                                    "transaction_type": "WITHDRAWAL"
                                },
                                {
                                    "transaction_id": "7",
                                    "account_id": "4",
                                    "balance": "200.00",
                                    "transaction_type": "DEPOSIT"
                                }
                            ]
                        },
                        "text/html": [
                            "<table>",
                            "<tr><th>transaction_id</th><th>account_id</th><th>balance</th><th>transaction_type</th></tr>",
                            "<tr><td>6</td><td>3</td><td>-200.00</td><td>WITHDRAWAL</td></tr>",
                            "<tr><td>7</td><td>4</td><td>200.00</td><td>DEPOSIT</td></tr>",
                            "</table>"
                        ]
                    }
                }
            ],
            "execution_count": 43
        },
        {
            "cell_type": "code",
            "source": [
                "-- Rerun with some wrong amount\n",
                "use ecom;\n",
                "CALL TransferBalanceBeteenAccount(5, 6, 800);"
            ],
            "metadata": {
                "language": "sql",
                "azdata_cell_guid": "0bd3658a-3d02-4b68-8909-ae363b98dd66"
            },
            "outputs": [
                {
                    "output_type": "display_data",
                    "data": {
                        "text/html": "Commands completed successfully"
                    },
                    "metadata": {}
                },
                {
                    "output_type": "display_data",
                    "data": {
                        "text/html": "Total execution time: 00:00:00.012"
                    },
                    "metadata": {}
                },
                {
                    "output_type": "error",
                    "evalue": "1644 (45000): Transaction rolled back: Insufficient funds",
                    "ename": "",
                    "traceback": []
                }
            ],
            "execution_count": 44
        },
        {
            "cell_type": "code",
            "source": [
                "-- CHECK ACCOUNT AND TRANSECTION\n",
                "use ecom;\n",
                "SELECT * FROM accounts WHERE account_id IN (5, 6);\n",
                "SELECT * FROM transactions WHERE account_id IN (5, 6);"
            ],
            "metadata": {
                "language": "sql",
                "azdata_cell_guid": "0fd7bcf0-5647-48ea-9099-89bba47a1654"
            },
            "outputs": [
                {
                    "output_type": "display_data",
                    "data": {
                        "text/html": "Commands completed successfully"
                    },
                    "metadata": {}
                },
                {
                    "output_type": "display_data",
                    "data": {
                        "text/html": "(2 row(s) affected)"
                    },
                    "metadata": {}
                },
                {
                    "output_type": "display_data",
                    "data": {
                        "text/html": "(0 row(s) affected)"
                    },
                    "metadata": {}
                },
                {
                    "output_type": "display_data",
                    "data": {
                        "text/html": "Total execution time: 00:00:02.025"
                    },
                    "metadata": {}
                },
                {
                    "output_type": "execute_result",
                    "metadata": {},
                    "execution_count": 47,
                    "data": {
                        "application/vnd.dataresource+json": {
                            "schema": {
                                "fields": [
                                    {
                                        "name": "account_id"
                                    },
                                    {
                                        "name": "account_name"
                                    },
                                    {
                                        "name": "balance"
                                    }
                                ]
                            },
                            "data": [
                                {
                                    "account_id": "5",
                                    "account_name": "JONE DOE",
                                    "balance": "200.00"
                                },
                                {
                                    "account_id": "6",
                                    "account_name": "MIC HESS",
                                    "balance": "300.00"
                                }
                            ]
                        },
                        "text/html": [
                            "<table>",
                            "<tr><th>account_id</th><th>account_name</th><th>balance</th></tr>",
                            "<tr><td>5</td><td>JONE DOE</td><td>200.00</td></tr>",
                            "<tr><td>6</td><td>MIC HESS</td><td>300.00</td></tr>",
                            "</table>"
                        ]
                    }
                },
                {
                    "output_type": "execute_result",
                    "metadata": {},
                    "execution_count": 47,
                    "data": {
                        "application/vnd.dataresource+json": {
                            "schema": {
                                "fields": [
                                    {
                                        "name": "transaction_id"
                                    },
                                    {
                                        "name": "account_id"
                                    },
                                    {
                                        "name": "balance"
                                    },
                                    {
                                        "name": "transaction_type"
                                    }
                                ]
                            },
                            "data": []
                        },
                        "text/html": [
                            "<table>",
                            "<tr><th>transaction_id</th><th>account_id</th><th>balance</th><th>transaction_type</th></tr>",
                            "</table>"
                        ]
                    }
                }
            ],
            "execution_count": 47
        }
    ]
}